{
 "cells": [
  {
   "cell_type": "markdown",
   "metadata": {},
   "source": [
    "# Reweighting source datasets"
   ]
  },
  {
   "cell_type": "markdown",
   "metadata": {},
   "source": [
    "## Notebook setup"
   ]
  },
  {
   "cell_type": "code",
   "execution_count": 1,
   "metadata": {},
   "outputs": [],
   "source": [
    "#| code-fold: true\n",
    "#| code-summary: \"Click to see packages imported\"\n",
    "import os\n",
    "import configparser\n",
    "import random\n",
    "import shutil\n",
    "from pathlib import Path\n",
    "\n",
    "import torch\n",
    "import wfdb\n",
    "import numpy as np\n",
    "import dsail\n",
    "from dsail.model.model_utils import get_model\n",
    "from dsail.train import Trainer\n",
    "from dsail.data import get_loss_weights_and_flags"
   ]
  },
  {
   "cell_type": "code",
   "execution_count": 2,
   "metadata": {},
   "outputs": [
    {
     "name": "stdout",
     "output_type": "stream",
     "text": [
      "The current working directory is c:\\Users\\Shaun\\source\\Thesis\\MisdiagnosisOfAthleteECG\n"
     ]
    }
   ],
   "source": [
    "#|include: false\n",
    "# If the current working directory is the nbs/ folder, change to the project \n",
    "# root directory instead.\n",
    "if Path.cwd().stem == \"nbs\":\n",
    "    os.chdir(Path.cwd().parent)\n",
    "print(f\"The current working directory is {Path.cwd()}\")"
   ]
  },
  {
   "cell_type": "code",
   "execution_count": 3,
   "metadata": {},
   "outputs": [],
   "source": [
    "#| code-fold: true\n",
    "#| code-summary: \"Click to see local packages imported\"\n",
    "from src.run_12ECG_classifier import load_12ECG_model, run_12ECG_classifier\n",
    "from src.data.util import get_all_records, get_predicted_findings, diagnosis_codes, codes_to_label_vector"
   ]
  },
  {
   "cell_type": "code",
   "execution_count": 4,
   "metadata": {},
   "outputs": [
    {
     "name": "stdout",
     "output_type": "stream",
     "text": [
      "Datasets are located at C:\\Users\\Shaun\\source\\Thesis\\MisdiagnosisOfAthleteECG\\data\n"
     ]
    }
   ],
   "source": [
    "#|include: false\n",
    "# Import configuration settings, like location of data directory.\n",
    "config = configparser.ConfigParser()\n",
    "if not Path(\"config.ini\").exists():\n",
    "    print(\"WARNING: Please generate a config.ini file by running scripts/get_datasets.py\")\n",
    "else:\n",
    "    config.read(\"config.ini\")\n",
    "    data_dir = Path((config[\"datasets\"][\"path\"])).expanduser()\n",
    "    print(f\"Datasets are located at {data_dir.resolve()}\")"
   ]
  },
  {
   "cell_type": "markdown",
   "metadata": {},
   "source": [
    "## Young subset of training datasets"
   ]
  },
  {
   "cell_type": "code",
   "execution_count": null,
   "metadata": {},
   "outputs": [],
   "source": [
    "physionet_data_dir = data_dir / \"challenge-2020\" / \"1.0.2\" / \"training\"\n",
    "georgia_dataset_dir = physionet_data_dir / \"georgia\"\n",
    "ptbxl_dataset_dir = physionet_data_dir / \"ptb-xl\"\n",
    "cpsc_dataset_dir = physionet_data_dir / \"cpsc_2018\"\n",
    "cpscextra_dataset_dir = physionet_data_dir / \"cpsc_2018_extra\""
   ]
  },
  {
   "cell_type": "code",
   "execution_count": 20,
   "metadata": {},
   "outputs": [],
   "source": [
    "source_records = \\\n",
    "    get_all_records(georgia_dataset_dir) + \\\n",
    "    get_all_records(ptbxl_dataset_dir) + \\\n",
    "    get_all_records(cpsc_dataset_dir) + \\\n",
    "    get_all_records(cpscextra_dataset_dir)\n",
    "\n",
    "young_subset = []   # Every record under a certain age\n",
    "vampires = 0        # Vampires don't age\n",
    "for entry in source_records:\n",
    "    header = wfdb.rdheader(entry)\n",
    "    age_str = header.comments[0].split(': ')[1]\n",
    "    age = int( age_str ) if age_str.isnumeric() else None\n",
    "    if age == None:\n",
    "        vampires += 1\n",
    "    elif age < 40:\n",
    "        young_subset.append(entry)"
   ]
  },
  {
   "cell_type": "code",
   "execution_count": 21,
   "metadata": {},
   "outputs": [
    {
     "data": {
      "text/plain": [
       "41414"
      ]
     },
     "execution_count": 21,
     "metadata": {},
     "output_type": "execute_result"
    }
   ],
   "source": [
    "len(source_records)"
   ]
  },
  {
   "cell_type": "code",
   "execution_count": 16,
   "metadata": {},
   "outputs": [
    {
     "data": {
      "text/plain": [
       "1089"
      ]
     },
     "execution_count": 16,
     "metadata": {},
     "output_type": "execute_result"
    }
   ],
   "source": [
    "len(young_subset)"
   ]
  },
  {
   "cell_type": "markdown",
   "metadata": {},
   "source": [
    "## Model setup"
   ]
  },
  {
   "cell_type": "code",
   "execution_count": 7,
   "metadata": {},
   "outputs": [],
   "source": [
    "original_weights_dir = Path.cwd() / \"checkpoints\" / \"original\"\n",
    "reweight_dir = Path.cwd() / \"checkpoints\" / \"reweight_1\"\n",
    "\n",
    "config_dir = Path.cwd() / \"config\"\n",
    "training_data_dir = data_dir / \"challenge-2020\" / \"1.0.2\" / \"training\"\n",
    "target_data_dir = data_dir / \"norwegian-athlete-ecg\" / \"1.0.0\"\n",
    "\n",
    "# Ensure output directory exists\n",
    "if reweight_dir.exists():\n",
    "    print(f\"{reweight_dir} already exists. Are we overwriting an existing model?\")\n",
    "else:\n",
    "    reweight_dir.mkdir()"
   ]
  },
  {
   "cell_type": "markdown",
   "metadata": {},
   "source": [
    "## Training loop"
   ]
  }
 ],
 "metadata": {
  "kernelspec": {
   "display_name": ".venv",
   "language": "python",
   "name": "python3"
  },
  "language_info": {
   "codemirror_mode": {
    "name": "ipython",
    "version": 3
   },
   "file_extension": ".py",
   "mimetype": "text/x-python",
   "name": "python",
   "nbconvert_exporter": "python",
   "pygments_lexer": "ipython3",
   "version": "3.10.16"
  }
 },
 "nbformat": 4,
 "nbformat_minor": 2
}
