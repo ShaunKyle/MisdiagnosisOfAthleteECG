{
 "cells": [
  {
   "cell_type": "markdown",
   "metadata": {},
   "source": [
    "# Measuring source to target domain shifts"
   ]
  },
  {
   "cell_type": "markdown",
   "metadata": {},
   "source": [
    "## Notebook setup"
   ]
  },
  {
   "cell_type": "code",
   "execution_count": 1,
   "metadata": {},
   "outputs": [],
   "source": [
    "#| code-fold: true\n",
    "#| code-summary: \"Click to see packages imported\"\n",
    "import os\n",
    "import configparser\n",
    "import random\n",
    "import shutil\n",
    "from pathlib import Path\n",
    "\n",
    "import torch\n",
    "import wfdb\n",
    "import numpy as np\n",
    "import pandas as pd"
   ]
  },
  {
   "cell_type": "code",
   "execution_count": 2,
   "metadata": {},
   "outputs": [
    {
     "name": "stdout",
     "output_type": "stream",
     "text": [
      "The current working directory is c:\\Users\\Shaun\\source\\Thesis\\MisdiagnosisOfAthleteECG\n"
     ]
    }
   ],
   "source": [
    "#|include: false\n",
    "# If the current working directory is the nbs/ folder, change to the project \n",
    "# root directory instead.\n",
    "if Path.cwd().stem == \"nbs\":\n",
    "    os.chdir(Path.cwd().parent)\n",
    "print(f\"The current working directory is {Path.cwd()}\")"
   ]
  },
  {
   "cell_type": "code",
   "execution_count": 3,
   "metadata": {},
   "outputs": [],
   "source": [
    "from src.data.util import get_all_records, codes_to_label_vector, get_predicted_findings\n",
    "from src.data.challenge2020 import extract_snomed_ct_codes_from_comment\n",
    "import src.data.norwegian as norwegian"
   ]
  },
  {
   "cell_type": "code",
   "execution_count": 4,
   "metadata": {},
   "outputs": [
    {
     "name": "stdout",
     "output_type": "stream",
     "text": [
      "Datasets are located at C:\\Users\\Shaun\\source\\Thesis\\MisdiagnosisOfAthleteECG\\data\n"
     ]
    }
   ],
   "source": [
    "#|include: false\n",
    "# Import configuration settings, like location of data directory.\n",
    "config = configparser.ConfigParser()\n",
    "if not Path(\"config.ini\").exists():\n",
    "    print(\"WARNING: Please generate a config.ini file by running scripts/get_datasets.py\")\n",
    "else:\n",
    "    config.read(\"config.ini\")\n",
    "    data_dir = Path((config[\"datasets\"][\"path\"])).expanduser()\n",
    "    print(f\"Datasets are located at {data_dir.resolve()}\")"
   ]
  },
  {
   "cell_type": "code",
   "execution_count": 75,
   "metadata": {},
   "outputs": [],
   "source": [
    "athlete_dataset_dir = data_dir / \"norwegian-athlete-ecg\" / \"1.0.0\"\n",
    "pf12red_dataset_dir = data_dir / \"pf12red\" / \"extracted_NSR\""
   ]
  },
  {
   "cell_type": "code",
   "execution_count": 18,
   "metadata": {},
   "outputs": [],
   "source": [
    "# Path to each training dataset\n",
    "\n",
    "training_dir = data_dir / \"challenge-2020\" / \"1.0.2\" / \"training\"\n",
    "\n",
    "georgia_dir = training_dir / \"georgia\"\n",
    "cpsc_dir = training_dir / \"cpsc_2018\"\n",
    "cpscextra_dir = training_dir / \"cpsc_2018_extra\"\n",
    "ptb_dir = training_dir / \"ptb\"\n",
    "ptbxl_dir = training_dir / \"ptb-xl\"\n",
    "incart_dir = training_dir / \"st_petersburg_incart\"\n",
    "\n",
    "training_datasets = [georgia_dir, cpsc_dir, cpscextra_dir, ptbxl_dir]"
   ]
  },
  {
   "cell_type": "markdown",
   "metadata": {},
   "source": [
    "## Label distribution"
   ]
  },
  {
   "cell_type": "code",
   "execution_count": 5,
   "metadata": {},
   "outputs": [],
   "source": [
    "sinus_labels = [426177001, 426783006, 427084000, 427393009]\n",
    "# sinus_labels = [426177001, 426783006]       # Bradycardia or Normal\n",
    "rbbb_labels = [713427006, 713426002]        # Incomplete RBBB, Complete RBBB\n",
    "# won't do t-wave inversion, because no output for lead number provided.\n",
    "athlete_labels = sinus_labels + rbbb_labels"
   ]
  },
  {
   "cell_type": "code",
   "execution_count": 27,
   "metadata": {},
   "outputs": [],
   "source": [
    "def count_labels_in_dataset(dataset_dir: Path, athlete_labels: list) -> list:\n",
    "    label_prevalence = [0 for i in range(len(athlete_labels))]\n",
    "\n",
    "    for entry in get_all_records(dataset_dir):\n",
    "        # record = wfdb.rdrecord(entry)\n",
    "        if dataset_dir == data_dir / \"norwegian-athlete-ecg\" / \"1.0.0\":\n",
    "            record = wfdb.rdrecord(dataset_dir / entry)     # Hack, don't want to fix get_all_records() now\n",
    "            # Actual finding labels (norwegian dataset only)\n",
    "            comments_c = record.comments[1]\n",
    "            findings_c = norwegian.extract_findings(comments_c)\n",
    "            actual_findings = norwegian.classify_relevant_findings(findings_c)\n",
    "            actual_labels = codes_to_label_vector(actual_findings, athlete_labels)\n",
    "        else:\n",
    "            record = wfdb.rdrecord(entry)\n",
    "            # Actual finding labels\n",
    "            if record.comments[2] == 'Dx:':\n",
    "                finding_codes = []\n",
    "            else:\n",
    "                finding_codes = extract_snomed_ct_codes_from_comment(record.comments[2])\n",
    "            actual_labels = codes_to_label_vector(finding_codes, athlete_labels)\n",
    "        \n",
    "        # Sum\n",
    "        for i in range(len(actual_labels)):\n",
    "            label_prevalence[i] += actual_labels[i]\n",
    "    return label_prevalence\n"
   ]
  },
  {
   "cell_type": "code",
   "execution_count": 28,
   "metadata": {},
   "outputs": [
    {
     "data": {
      "text/plain": [
       "[5, 17, 0, 7, 0, 2]"
      ]
     },
     "execution_count": 28,
     "metadata": {},
     "output_type": "execute_result"
    }
   ],
   "source": [
    "label_distribution_athletic = count_labels_in_dataset(athlete_dataset_dir, athlete_labels)\n",
    "label_distribution_athletic"
   ]
  },
  {
   "cell_type": "code",
   "execution_count": 26,
   "metadata": {},
   "outputs": [
    {
     "name": "stdout",
     "output_type": "stream",
     "text": [
      "data\\challenge-2020\\1.0.2\\training\\georgia\n",
      "data\\challenge-2020\\1.0.2\\training\\cpsc_2018\n",
      "data\\challenge-2020\\1.0.2\\training\\cpsc_2018_extra\n",
      "data\\challenge-2020\\1.0.2\\training\\ptb-xl\n"
     ]
    }
   ],
   "source": [
    "label_distribution_general = [0 for i in range(len(athlete_labels))]\n",
    "for dataset_dir in training_datasets:\n",
    "    print(dataset_dir)\n",
    "    for i, n in enumerate(count_labels_in_dataset(dataset_dir, athlete_labels)):\n",
    "        label_distribution_general[i] += n"
   ]
  },
  {
   "cell_type": "code",
   "execution_count": 29,
   "metadata": {},
   "outputs": [
    {
     "data": {
      "text/plain": [
       "[2332, 20282, 2366, 1217, 674, 1590]"
      ]
     },
     "execution_count": 29,
     "metadata": {},
     "output_type": "execute_result"
    }
   ],
   "source": [
    "label_distribution_general"
   ]
  },
  {
   "cell_type": "code",
   "execution_count": 30,
   "metadata": {},
   "outputs": [],
   "source": [
    "from scipy.special import rel_entr"
   ]
  },
  {
   "cell_type": "code",
   "execution_count": 40,
   "metadata": {},
   "outputs": [],
   "source": [
    "P = [x/sum(label_distribution_general) for x in label_distribution_general]\n",
    "Q = [x/sum(label_distribution_athletic) for x in label_distribution_athletic]"
   ]
  },
  {
   "cell_type": "code",
   "execution_count": null,
   "metadata": {},
   "outputs": [
    {
     "data": {
      "text/plain": [
       "[0.16129032258064516,\n",
       " 0.5483870967741935,\n",
       " 2.220446049250313e-16,\n",
       " 0.22580645161290322,\n",
       " 2.220446049250313e-16,\n",
       " 0.06451612903225806]"
      ]
     },
     "execution_count": 41,
     "metadata": {},
     "output_type": "execute_result"
    }
   ],
   "source": [
    "# Hack: All values need to be non-zero\n",
    "Q[2] += np.finfo(float).eps\n",
    "Q[4] += np.finfo(float).eps\n",
    "Q"
   ]
  },
  {
   "cell_type": "code",
   "execution_count": 42,
   "metadata": {},
   "outputs": [
    {
     "data": {
      "text/plain": [
       "array([-0.05549237,  0.18668827,  2.78958054, -0.07115603,  0.76492745,\n",
       "       -0.0080425 ])"
      ]
     },
     "execution_count": 42,
     "metadata": {},
     "output_type": "execute_result"
    }
   ],
   "source": [
    "rel_entr(P,Q)"
   ]
  },
  {
   "cell_type": "code",
   "execution_count": 43,
   "metadata": {},
   "outputs": [
    {
     "data": {
      "text/plain": [
       "array([ 1.09235350e-01, -1.43662572e-01, -7.45099969e-15,  3.75757484e-01,\n",
       "       -7.17217252e-15,  9.28778638e-03])"
      ]
     },
     "execution_count": 43,
     "metadata": {},
     "output_type": "execute_result"
    }
   ],
   "source": [
    "rel_entr(Q,P)"
   ]
  },
  {
   "cell_type": "code",
   "execution_count": null,
   "metadata": {},
   "outputs": [
    {
     "name": "stdout",
     "output_type": "stream",
     "text": [
      "KL(P || Q): 3.607 nats\n",
      "KL(Q || P): 0.351 nats\n"
     ]
    }
   ],
   "source": [
    "print('KL(P || Q): %.3f nats' % sum(rel_entr(P,Q)))\n",
    "print('KL(Q || P): %.3f nats' % sum(rel_entr(Q,P)))\n",
    "# Nats instead of Bits, because scipy uses natural log, not log-2"
   ]
  },
  {
   "cell_type": "markdown",
   "metadata": {},
   "source": [
    "## Age distribution (continuous?)"
   ]
  },
  {
   "cell_type": "code",
   "execution_count": 45,
   "metadata": {},
   "outputs": [],
   "source": [
    "from src.data.challenge2020 import generate_labels_table"
   ]
  },
  {
   "cell_type": "code",
   "execution_count": 81,
   "metadata": {},
   "outputs": [],
   "source": [
    "georgia_df = generate_labels_table(get_all_records(georgia_dir))\n",
    "cpsc_df = generate_labels_table(get_all_records(cpsc_dir))\n",
    "cpscextra_df = generate_labels_table(get_all_records(cpscextra_dir))\n",
    "ptbxl_df = generate_labels_table(get_all_records(ptbxl_dir))"
   ]
  },
  {
   "cell_type": "code",
   "execution_count": 83,
   "metadata": {},
   "outputs": [
    {
     "data": {
      "text/plain": [
       "0     NaN\n",
       "1     NaN\n",
       "2     NaN\n",
       "3    75.0\n",
       "4    83.0\n",
       "Name: age, dtype: float64"
      ]
     },
     "execution_count": 83,
     "metadata": {},
     "output_type": "execute_result"
    }
   ],
   "source": [
    "georgia_df.age.head()"
   ]
  },
  {
   "cell_type": "code",
   "execution_count": 89,
   "metadata": {},
   "outputs": [],
   "source": [
    "# Count ages in training datasets\n",
    "general_ages = []\n",
    "general_ages += georgia_df.age.to_list()\n",
    "general_ages += cpsc_df.age.to_list()\n",
    "general_ages += cpscextra_df.age.to_list()\n",
    "general_ages += ptbxl_df.age.to_list()"
   ]
  },
  {
   "cell_type": "code",
   "execution_count": 90,
   "metadata": {},
   "outputs": [
    {
     "data": {
      "text/plain": [
       "40753"
      ]
     },
     "execution_count": 90,
     "metadata": {},
     "output_type": "execute_result"
    }
   ],
   "source": [
    "len(general_ages)"
   ]
  },
  {
   "cell_type": "code",
   "execution_count": 79,
   "metadata": {},
   "outputs": [],
   "source": [
    "# Count ages in pf12red athlete dataset (raw demographic data not available for norwegian)\n",
    "athlete_ages = []\n",
    "for entry in get_all_records(pf12red_dataset_dir):\n",
    "    record = wfdb.rdrecord(pf12red_dataset_dir / entry)     # Hack, don't want to fix get_all_records() now\n",
    "    age = float( record.comments[0].split(\": \")[1] )\n",
    "    athlete_ages.append(age)"
   ]
  },
  {
   "cell_type": "markdown",
   "metadata": {},
   "source": [
    "### Binning process"
   ]
  },
  {
   "cell_type": "code",
   "execution_count": null,
   "metadata": {},
   "outputs": [
    {
     "data": {
      "text/plain": [
       "array([15., 20., 25., 30., 35., 40., 45., 50., 55., 60., 65., 70., 75.,\n",
       "       80., 85., 90.])"
      ]
     },
     "execution_count": 64,
     "metadata": {},
     "output_type": "execute_result"
    }
   ],
   "source": [
    "# Remove paediatric cases. Either below 18 (UK) or below 21 (US).\n",
    "# Remove obvious outlier ages. HIPAA guidelines say to remove ages over 89.\n",
    "bin_edges = np.linspace(15, 90, 16)\n",
    "bin_edges"
   ]
  },
  {
   "cell_type": "code",
   "execution_count": 69,
   "metadata": {},
   "outputs": [
    {
     "data": {
      "text/plain": [
       "array([16, 16, 16, ...,  5, 10, 12], dtype=int64)"
      ]
     },
     "execution_count": 69,
     "metadata": {},
     "output_type": "execute_result"
    }
   ],
   "source": [
    "bin_indices = np.digitize(georgia_df.age.to_list(), bin_edges)\n",
    "bin_indices"
   ]
  },
  {
   "cell_type": "code",
   "execution_count": 68,
   "metadata": {},
   "outputs": [
    {
     "data": {
      "text/plain": [
       "array([   0,    7,  203,  206,  284,  386,  576,  708,  956, 1066, 1265,\n",
       "       1431, 1245,  908,  608,  406,   77], dtype=int64)"
      ]
     },
     "execution_count": 68,
     "metadata": {},
     "output_type": "execute_result"
    }
   ],
   "source": [
    "hist = np.bincount(bin_indices)\n",
    "hist"
   ]
  },
  {
   "cell_type": "code",
   "execution_count": 91,
   "metadata": {},
   "outputs": [],
   "source": [
    "def bin_ages(age_list: list):\n",
    "    # Remove paediatric cases. Either below 18 (UK) or below 21 (US).\n",
    "    # Remove obvious outlier ages. HIPAA guidelines say to remove ages over 89.\n",
    "    bin_edges = np.linspace(15, 90, 16)\n",
    "    bin_indices = np.digitize(age_list, bin_edges)\n",
    "    hist = np.bincount(bin_indices)\n",
    "    return hist"
   ]
  },
  {
   "cell_type": "markdown",
   "metadata": {},
   "source": [
    "### Divergence"
   ]
  },
  {
   "cell_type": "code",
   "execution_count": 104,
   "metadata": {},
   "outputs": [],
   "source": [
    "age_distribution_general = bin_ages(general_ages)\n",
    "age_distribution_athletic = bin_ages(athlete_ages)\n",
    "\n",
    "# Hack: Fill in older age bins for athletic domain\n",
    "while len(age_distribution_athletic) < len(age_distribution_general):\n",
    "    age_distribution_athletic = np.append(age_distribution_athletic, 0)"
   ]
  },
  {
   "cell_type": "code",
   "execution_count": 105,
   "metadata": {},
   "outputs": [
    {
     "data": {
      "text/plain": [
       "array([   0,  375,  750, 1081, 1228, 1519, 1974, 2601, 3631, 4202, 4915,\n",
       "       5240, 4474, 3860, 2990, 1736,  177], dtype=int64)"
      ]
     },
     "execution_count": 105,
     "metadata": {},
     "output_type": "execute_result"
    }
   ],
   "source": [
    "age_distribution_general"
   ]
  },
  {
   "cell_type": "code",
   "execution_count": 106,
   "metadata": {},
   "outputs": [
    {
     "data": {
      "text/plain": [
       "array([ 0, 18, 51, 38, 32,  4,  0,  0,  0,  0,  0,  0,  0,  0,  0,  0,  0],\n",
       "      dtype=int64)"
      ]
     },
     "execution_count": 106,
     "metadata": {},
     "output_type": "execute_result"
    }
   ],
   "source": [
    "age_distribution_athletic"
   ]
  },
  {
   "cell_type": "code",
   "execution_count": 115,
   "metadata": {},
   "outputs": [],
   "source": [
    "P = [x/sum(age_distribution_general) for x in age_distribution_general]\n",
    "Q = [x/sum(age_distribution_athletic) for x in age_distribution_athletic]\n",
    "\n",
    "# Hack: make sure no value is 0\n",
    "P[0] += np.finfo(float).eps\n",
    "for i, value in enumerate(Q):\n",
    "    if value == 0:\n",
    "        Q[i] += np.finfo(float).eps"
   ]
  },
  {
   "cell_type": "code",
   "execution_count": 116,
   "metadata": {},
   "outputs": [
    {
     "data": {
      "text/plain": [
       "[2.220446049250313e-16,\n",
       " 0.009201776556327142,\n",
       " 0.018403553112654285,\n",
       " 0.02652565455303904,\n",
       " 0.03013275096311928,\n",
       " 0.03727332957082914,\n",
       " 0.04843815179250607,\n",
       " 0.06382352219468505,\n",
       " 0.0890977351360636,\n",
       " 0.10310897357249774,\n",
       " 0.12060461806492774,\n",
       " 0.12857949108041125,\n",
       " 0.10978332883468701,\n",
       " 0.09471695335312738,\n",
       " 0.0733688317424484,\n",
       " 0.04259809093809045,\n",
       " 0.004343238534586411]"
      ]
     },
     "execution_count": 116,
     "metadata": {},
     "output_type": "execute_result"
    }
   ],
   "source": [
    "P"
   ]
  },
  {
   "cell_type": "code",
   "execution_count": 111,
   "metadata": {},
   "outputs": [
    {
     "data": {
      "text/plain": [
       "[2.220446049250313e-16,\n",
       " 0.1258741258741259,\n",
       " 0.35664335664335667,\n",
       " 0.26573426573426573,\n",
       " 0.22377622377622378,\n",
       " 0.027972027972027972,\n",
       " 2.220446049250313e-16,\n",
       " 2.220446049250313e-16,\n",
       " 2.220446049250313e-16,\n",
       " 2.220446049250313e-16,\n",
       " 2.220446049250313e-16,\n",
       " 2.220446049250313e-16,\n",
       " 2.220446049250313e-16,\n",
       " 2.220446049250313e-16,\n",
       " 2.220446049250313e-16,\n",
       " 2.220446049250313e-16,\n",
       " 2.220446049250313e-16]"
      ]
     },
     "execution_count": 111,
     "metadata": {},
     "output_type": "execute_result"
    }
   ],
   "source": [
    "Q"
   ]
  },
  {
   "cell_type": "code",
   "execution_count": 117,
   "metadata": {},
   "outputs": [
    {
     "name": "stdout",
     "output_type": "stream",
     "text": [
      "KL(P || Q): 29.367 nats\n",
      "KL(Q || P): 2.439 nats\n"
     ]
    }
   ],
   "source": [
    "print('KL(P || Q): %.3f nats' % sum(rel_entr(P,Q)))\n",
    "print('KL(Q || P): %.3f nats' % sum(rel_entr(Q,P)))\n",
    "# Nats instead of Bits, because scipy uses natural log, not log-2"
   ]
  },
  {
   "cell_type": "markdown",
   "metadata": {},
   "source": [
    "## Distribution plots"
   ]
  },
  {
   "cell_type": "code",
   "execution_count": 118,
   "metadata": {},
   "outputs": [],
   "source": [
    "import seaborn as sns\n",
    "import matplotlib.pyplot as plt"
   ]
  },
  {
   "cell_type": "code",
   "execution_count": 122,
   "metadata": {},
   "outputs": [
    {
     "data": {
      "text/plain": [
       "16"
      ]
     },
     "execution_count": 122,
     "metadata": {},
     "output_type": "execute_result"
    }
   ],
   "source": [
    "len(bin_edges)"
   ]
  },
  {
   "cell_type": "code",
   "execution_count": 138,
   "metadata": {},
   "outputs": [
    {
     "data": {
      "text/plain": [
       "15"
      ]
     },
     "execution_count": 138,
     "metadata": {},
     "output_type": "execute_result"
    }
   ],
   "source": [
    "len(bin_edges[0:len(bin_edges)-1])"
   ]
  },
  {
   "cell_type": "code",
   "execution_count": 123,
   "metadata": {},
   "outputs": [
    {
     "data": {
      "text/plain": [
       "17"
      ]
     },
     "execution_count": 123,
     "metadata": {},
     "output_type": "execute_result"
    }
   ],
   "source": [
    "len(P)"
   ]
  },
  {
   "cell_type": "code",
   "execution_count": 142,
   "metadata": {},
   "outputs": [
    {
     "data": {
      "text/plain": [
       "array([15., 20., 25., 30., 35., 40., 45., 50., 55., 60., 65., 70., 75.,\n",
       "       80., 85.])"
      ]
     },
     "execution_count": 142,
     "metadata": {},
     "output_type": "execute_result"
    }
   ],
   "source": [
    "bin_edges[:-1]"
   ]
  },
  {
   "cell_type": "code",
   "execution_count": 147,
   "metadata": {},
   "outputs": [
    {
     "data": {
      "text/plain": [
       "<seaborn.axisgrid.FacetGrid at 0x17168d85f00>"
      ]
     },
     "execution_count": 147,
     "metadata": {},
     "output_type": "execute_result"
    },
    {
     "data": {
      "image/png": "[encoded data removed]",
      "text/plain": [
       "<Figure size 500x500 with 1 Axes>"
      ]
     },
     "metadata": {},
     "output_type": "display_data"
    }
   ],
   "source": [
    "sns.displot(x=[0,5,10], y=[1,2,1])"
   ]
  },
  {
   "cell_type": "code",
   "execution_count": null,
   "metadata": {},
   "outputs": [
    {
     "data": {
      "text/plain": [
       "<matplotlib.patches.StepPatch at 0x1716923ded0>"
      ]
     },
     "execution_count": 156,
     "metadata": {},
     "output_type": "execute_result"
    },
    {
     "data": {
      "image/png": "[encoded data removed]",
      "text/plain": [
       "<Figure size 640x480 with 1 Axes>"
      ]
     },
     "metadata": {},
     "output_type": "display_data"
    }
   ],
   "source": [
    "plt.stairs(values=P[1:], edges=[15,20,25,30,35,40,45,50,55,60,65,70,75,80,85,90,95])"
   ]
  },
  {
   "cell_type": "code",
   "execution_count": 141,
   "metadata": {},
   "outputs": [
    {
     "data": {
      "text/plain": [
       "<matplotlib.patches.StepPatch at 0x1716525b430>"
      ]
     },
     "execution_count": 141,
     "metadata": {},
     "output_type": "execute_result"
    },
    {
     "data": {
      "image/png": "[encoded data removed]",
      "text/plain": [
       "<Figure size 640x480 with 1 Axes>"
      ]
     },
     "metadata": {},
     "output_type": "display_data"
    }
   ],
   "source": [
    "plt.stairs(values=P)"
   ]
  },
  {
   "cell_type": "code",
   "execution_count": 124,
   "metadata": {},
   "outputs": [
    {
     "name": "stdout",
     "output_type": "stream",
     "text": [
      "\u001b[1;31mSignature:\u001b[0m\n",
      "\u001b[0mplt\u001b[0m\u001b[1;33m.\u001b[0m\u001b[0mstairs\u001b[0m\u001b[1;33m(\u001b[0m\u001b[1;33m\n",
      "\u001b[0m    \u001b[0mvalues\u001b[0m\u001b[1;33m:\u001b[0m \u001b[1;34m'ArrayLike'\u001b[0m\u001b[1;33m,\u001b[0m\u001b[1;33m\n",
      "\u001b[0m    \u001b[0medges\u001b[0m\u001b[1;33m:\u001b[0m \u001b[1;34m'ArrayLike | None'\u001b[0m \u001b[1;33m=\u001b[0m \u001b[1;32mNone\u001b[0m\u001b[1;33m,\u001b[0m\u001b[1;33m\n",
      "\u001b[0m    \u001b[1;33m*\u001b[0m\u001b[1;33m,\u001b[0m\u001b[1;33m\n",
      "\u001b[0m    \u001b[0morientation\u001b[0m\u001b[1;33m:\u001b[0m \u001b[1;34m\"Literal['vertical', 'horizontal']\"\u001b[0m \u001b[1;33m=\u001b[0m \u001b[1;34m'vertical'\u001b[0m\u001b[1;33m,\u001b[0m\u001b[1;33m\n",
      "\u001b[0m    \u001b[0mbaseline\u001b[0m\u001b[1;33m:\u001b[0m \u001b[1;34m'float | ArrayLike | None'\u001b[0m \u001b[1;33m=\u001b[0m \u001b[1;36m0\u001b[0m\u001b[1;33m,\u001b[0m\u001b[1;33m\n",
      "\u001b[0m    \u001b[0mfill\u001b[0m\u001b[1;33m:\u001b[0m \u001b[1;34m'bool'\u001b[0m \u001b[1;33m=\u001b[0m \u001b[1;32mFalse\u001b[0m\u001b[1;33m,\u001b[0m\u001b[1;33m\n",
      "\u001b[0m    \u001b[0mdata\u001b[0m\u001b[1;33m=\u001b[0m\u001b[1;32mNone\u001b[0m\u001b[1;33m,\u001b[0m\u001b[1;33m\n",
      "\u001b[0m    \u001b[1;33m**\u001b[0m\u001b[0mkwargs\u001b[0m\u001b[1;33m,\u001b[0m\u001b[1;33m\n",
      "\u001b[0m\u001b[1;33m)\u001b[0m \u001b[1;33m->\u001b[0m \u001b[1;34m'StepPatch'\u001b[0m\u001b[1;33m\u001b[0m\u001b[1;33m\u001b[0m\u001b[0m\n",
      "\u001b[1;31mDocstring:\u001b[0m\n",
      "Draw a stepwise constant function as a line or a filled plot.\n",
      "\n",
      "*edges* define the x-axis positions of the steps. *values* the function values\n",
      "between these steps. Depending on *fill*, the function is drawn either as a\n",
      "continuous line with vertical segments at the edges, or as a filled area.\n",
      "\n",
      "Parameters\n",
      "----------\n",
      "values : array-like\n",
      "    The step heights.\n",
      "\n",
      "edges : array-like\n",
      "    The step positions, with ``len(edges) == len(vals) + 1``,\n",
      "    between which the curve takes on vals values.\n",
      "\n",
      "orientation : {'vertical', 'horizontal'}, default: 'vertical'\n",
      "    The direction of the steps. Vertical means that *values* are along\n",
      "    the y-axis, and edges are along the x-axis.\n",
      "\n",
      "baseline : float, array-like or None, default: 0\n",
      "    The bottom value of the bounding edges or when\n",
      "    ``fill=True``, position of lower edge. If *fill* is\n",
      "    True or an array is passed to *baseline*, a closed\n",
      "    path is drawn.\n",
      "\n",
      "    If None, then drawn as an unclosed Path.\n",
      "\n",
      "fill : bool, default: False\n",
      "    Whether the area under the step curve should be filled.\n",
      "\n",
      "    Passing both ``fill=True` and ``baseline=None`` will likely result in\n",
      "    undesired filling: the first and last points will be connected\n",
      "    with a straight line and the fill will be between this line and the stairs.\n",
      "\n",
      "\n",
      "Returns\n",
      "-------\n",
      "StepPatch : `~matplotlib.patches.StepPatch`\n",
      "\n",
      "Other Parameters\n",
      "----------------\n",
      "data : indexable object, optional\n",
      "    If given, all parameters also accept a string ``s``, which is\n",
      "    interpreted as ``data[s]`` if ``s`` is a key in ``data``.\n",
      "\n",
      "**kwargs\n",
      "    `~matplotlib.patches.StepPatch` properties\n",
      "\n",
      "Notes\n",
      "-----\n",
      "\n",
      ".. note::\n",
      "\n",
      "    This is the :ref:`pyplot wrapper <pyplot_interface>` for `.axes.Axes.stairs`.\n",
      "\u001b[1;31mFile:\u001b[0m      c:\\users\\shaun\\source\\thesis\\misdiagnosisofathleteecg\\.venv\\lib\\site-packages\\matplotlib\\pyplot.py\n",
      "\u001b[1;31mType:\u001b[0m      function"
     ]
    }
   ],
   "source": [
    "plt.stairs?"
   ]
  }
 ],
 "metadata": {
  "kernelspec": {
   "display_name": ".venv",
   "language": "python",
   "name": "python3"
  },
  "language_info": {
   "codemirror_mode": {
    "name": "ipython",
    "version": 3
   },
   "file_extension": ".py",
   "mimetype": "text/x-python",
   "name": "python",
   "nbconvert_exporter": "python",
   "pygments_lexer": "ipython3",
   "version": "3.10.16"
  }
 },
 "nbformat": 4,
 "nbformat_minor": 2
}
