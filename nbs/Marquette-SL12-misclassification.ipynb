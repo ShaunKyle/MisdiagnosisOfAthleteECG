{
 "cells": [
  {
   "cell_type": "markdown",
   "metadata": {},
   "source": [
    "# ECG machines are confused by athlete hearts"
   ]
  },
  {
   "cell_type": "markdown",
   "metadata": {},
   "source": [
    "> Misclassification of athlete ECG by GE Marquette SL12 algorithm\n",
    "\n",
    "This report will demonstrate that an existing that Marquette SL12 from General \n",
    "Electric, a clinical decision support software for diagnosis of cardiac health \n",
    "from electrocardiogram (ECG), **consistently misdiagnoses elite athletes**."
   ]
  },
  {
   "cell_type": "markdown",
   "metadata": {},
   "source": [
    "![](../media/GE-Muse-MAC-VU-360.png)\n",
    "\n",
    "***Figure: Hardware for taking and processing ECG. Left - GE CAM acquisition module. Right - GE MAC VU360 electrocardiograph.***\n",
    "\n",
    "TODO: crop GE CAM image to focus on chest diagram"
   ]
  },
  {
   "cell_type": "markdown",
   "metadata": {},
   "source": [
    "## Notebook setup"
   ]
  },
  {
   "cell_type": "code",
   "execution_count": null,
   "metadata": {},
   "outputs": [],
   "source": [
    "#| code-fold: true\n",
    "#| code-summary: \"Click to see packages imported\"\n",
    "import os\n",
    "import configparser\n",
    "from pathlib import Path\n",
    "from typing import TypedDict, List\n",
    "from enum import Enum\n",
    "\n",
    "import wfdb\n",
    "import pandas as pd\n",
    "import matplotlib.pyplot as plt\n",
    "import seaborn as sns\n",
    "import numpy as np"
   ]
  },
  {
   "cell_type": "code",
   "execution_count": null,
   "metadata": {},
   "outputs": [],
   "source": [
    "#|include: false\n",
    "# If the current working directory is the nbs/ folder, change to the project \n",
    "# root directory instead.\n",
    "\n",
    "if Path.cwd().stem == \"nbs\":\n",
    "    os.chdir(Path.cwd().parent)\n",
    "print(f\"The current working directory is {Path.cwd()}\")"
   ]
  },
  {
   "cell_type": "code",
   "execution_count": null,
   "metadata": {},
   "outputs": [],
   "source": [
    "#|include: false\n",
    "# Import configuration settings, like location of data directory.\n",
    "config = configparser.ConfigParser()\n",
    "if not Path(\"config.ini\").exists():\n",
    "    print(\"WARNING: Please generate a config.ini file by running scripts/get_datasets.py\")\n",
    "else:\n",
    "    config.read(\"config.ini\")\n",
    "    data_dir = Path((config[\"datasets\"][\"path\"])).expanduser()\n",
    "    print(f\"Datasets are located at {data_dir.resolve()}\")"
   ]
  },
  {
   "cell_type": "markdown",
   "metadata": {},
   "source": [
    "## The norwegian-athlete-ecg dataset"
   ]
  },
  {
   "cell_type": "markdown",
   "metadata": {},
   "source": [
    "The [Norwegian Endurance Athlete ECG Database](https://physionet.org/content/norwegian-athlete-ecg/1.0.0/) (norwegian-athlete-ecg) contains 12-lead ECG recordings from 28 elite athletes from various sports in Norway. All recordings are 10 seconds resting ECGs recorded with a General Electric (GE) MAC VUE 360 electrocardiograph. All ECGs are interpreted with both the [GE Marquette SL12 algorithm](https://www.gehealthcare.com/products/marquette-12sl) (version 23 (v243)) and one cardiologist with training in interpretation of athlete's ECG. The data was collected at the University of Oslo in February and March 2020."
   ]
  },
  {
   "cell_type": "code",
   "execution_count": null,
   "metadata": {},
   "outputs": [],
   "source": [
    "athlete_ecg_dir = data_dir / \"norwegian-athlete-ecg\" / \"1.0.0\""
   ]
  },
  {
   "cell_type": "markdown",
   "metadata": {},
   "source": [
    "An example of the data for athlete `ath_001` is shown below."
   ]
  },
  {
   "cell_type": "code",
   "execution_count": null,
   "metadata": {},
   "outputs": [],
   "source": [
    "#| output: show\n",
    "# 12-lead ECG recording from subject ath_001\n",
    "record = wfdb.rdrecord(athlete_ecg_dir / \"ath_001\")\n",
    "wfdb.plot_wfdb(record=record, title='ath_001 from Norwegian Athlete ECG database')"
   ]
  },
  {
   "cell_type": "code",
   "execution_count": null,
   "metadata": {},
   "outputs": [],
   "source": [
    "#| output: show\n",
    "# Machine (SL12) and Cardiologist (C) interpretation of ath_001 ECG recording\n",
    "record = wfdb.rdheader(athlete_ecg_dir / \"ath_001\")\n",
    "record.__dict__[\"comments\"]"
   ]
  },
  {
   "cell_type": "code",
   "execution_count": null,
   "metadata": {},
   "outputs": [],
   "source": [
    "#| code-fold: true\n",
    "#| code-summary: Put ECG finding reports into a pandas dataframe\n",
    "class AthleteReport():\n",
    "    athlete_id: str\n",
    "    cardiologist: str\n",
    "    machine: str\n",
    "\n",
    "reports_list = []\n",
    "for i in range(1, 29):\n",
    "    athlete_id = f\"ath_00{i}\" if i < 10 else f\"ath_0{i}\"\n",
    "    record = wfdb.rdheader(athlete_ecg_dir / athlete_id)\n",
    "    comments = record.__dict__[\"comments\"]\n",
    "    report: AthleteReport = {\n",
    "        \"athlete_id\": athlete_id,\n",
    "        \"cardiologist\": comments[1],\n",
    "        \"machine\": comments[0],\n",
    "    }\n",
    "    reports_list.append(report)\n",
    "athlete_ecg_df = pd.DataFrame(reports_list)"
   ]
  },
  {
   "cell_type": "code",
   "execution_count": null,
   "metadata": {},
   "outputs": [],
   "source": [
    "#| output: show\n",
    "athlete_ecg_df.head()"
   ]
  },
  {
   "cell_type": "markdown",
   "metadata": {},
   "source": [
    "## Findings from ECG reports"
   ]
  },
  {
   "cell_type": "markdown",
   "metadata": {},
   "source": [
    "In the norwegian-athlete-ecg dataset, findings in ECG reports are delimited by \n",
    "a comma (`,`). However, some machine findings also make use of a comma to make \n",
    "a follow-up comment on a finding. This is not done in any of the human \n",
    "cardiologist reports in the dataset.\n",
    "\n",
    "***Table: Examples of findings with follow-up comment***\n",
    "\n",
    "| Finding with follow-up comment | Record |\n",
    "|-|-|\n",
    "| `Minimal voltage criteria for LVH, may be normal variant` | `ath_024` |\n",
    "| `ST elevation, probably due to early repolarization` | `ath_024` |\n",
    "| `ST elevation, consider early repolarization, pericarditis, or injury` | `ath_027` |\n",
    "\n",
    "Follow-up comments from SL12 all seem to start with a lower-case letter, so \n",
    "they can be detected this way.\n",
    "\n",
    "Some findings are also combined into one sentence using a conjunction word such \n",
    "as \"and\". \n",
    "\n",
    "e.g. `Sinus bradycardia and sinus arrhythmia and first degree AV block`"
   ]
  },
  {
   "cell_type": "code",
   "execution_count": null,
   "metadata": {},
   "outputs": [],
   "source": [
    "#| code-fold: true\n",
    "#| code-summary: Click to see function for extracting a list of findings from a single line report\n",
    "\n",
    "def extract_findings(report: str, follow_on: bool=True, split_and=True) -> List[str]:\n",
    "    \"\"\"Extract a list of all findings in a single line cardiologist report\n",
    "    \"\"\"\n",
    "    comments = report.split(': ', maxsplit=1)[1].split(', ')\n",
    "    \n",
    "    # Also split multiple findings in a single comment joined by 'and'.\n",
    "    # e.g. Sinus bradycardia and sinus arrhythmia and first degree AV block\n",
    "    if split_and:\n",
    "        temp = []\n",
    "        for comment in comments:\n",
    "            for segment in comment.split('and'):\n",
    "                temp.append(segment)\n",
    "        comments = temp\n",
    "\n",
    "    # Cleanup (e.g. remove leading/trailing whitespace)\n",
    "    comments[:] = list(map(str.strip, comments))\n",
    "\n",
    "    if not follow_on:\n",
    "        return comments     # i.e. assume every comment is a new finding\n",
    "\n",
    "    # Combine follow-on comments with parent comment to produce full finding \n",
    "    # for SL12 machine comments.\n",
    "    #\n",
    "    # e.g. ST elevation, consider early repolarization, pericarditis, or injury\n",
    "    findings = []\n",
    "    for i, comment in enumerate(comments):\n",
    "        if comment[0].isupper() or comment[0] == '*':\n",
    "            findings.append(comment)\n",
    "        else:\n",
    "            findings[-1] = ''.join([findings[-1], \", \", comment])\n",
    "    return findings"
   ]
  },
  {
   "cell_type": "code",
   "execution_count": null,
   "metadata": {},
   "outputs": [],
   "source": [
    "#| output: show\n",
    "# Example usage of `extract_findings()`\n",
    "report = athlete_ecg_df.loc[23].machine\n",
    "extract_findings(report)"
   ]
  },
  {
   "cell_type": "code",
   "execution_count": null,
   "metadata": {},
   "outputs": [],
   "source": [
    "# Find every unique finding in dataset\n",
    "unique_findings_sl12 = []\n",
    "unique_findings_c = []\n",
    "for i in range(1, 29):\n",
    "    athlete_id = f\"ath_00{i}\" if i < 10 else f\"ath_0{i}\"\n",
    "    record = wfdb.rdheader(athlete_ecg_dir / athlete_id)\n",
    "    comments = record.__dict__[\"comments\"]\n",
    "\n",
    "    # Machine algorithm findings\n",
    "    findings_sl12 = extract_findings(comments[0])\n",
    "    for finding in findings_sl12:\n",
    "        if finding not in unique_findings_sl12:\n",
    "            unique_findings_sl12.append(finding)\n",
    "    \n",
    "    # Cardiologist findings\n",
    "    findings_c = extract_findings(comments[1], follow_on=False)\n",
    "    for finding in findings_c:\n",
    "        if finding not in unique_findings_c:\n",
    "            unique_findings_c.append(finding)\n"
   ]
  },
  {
   "cell_type": "code",
   "execution_count": null,
   "metadata": {},
   "outputs": [],
   "source": [
    "#| output: show\n",
    "unique_findings_c"
   ]
  },
  {
   "cell_type": "code",
   "execution_count": null,
   "metadata": {},
   "outputs": [],
   "source": [
    "#| output: show\n",
    "unique_findings_sl12"
   ]
  },
  {
   "cell_type": "markdown",
   "metadata": {},
   "source": [
    "TODO: Explain how we're classifying different abnormalities.\n",
    "\n",
    "TODO: Explain which abnormalities are relevant for athlete misdiagnosis."
   ]
  },
  {
   "cell_type": "code",
   "execution_count": null,
   "metadata": {},
   "outputs": [],
   "source": [
    "# Classifying findings by the type of abnormality\n",
    "\n",
    "class AbnormalityClass(Enum):\n",
    "    # overall = \"Overall ECG recording\"   # Normal/Abnormal/Borderline etc.\n",
    "    rhythm = \"Rhythm\"                   # e.g. sinus rhythm\n",
    "    conduction = \"Conduction\"           # e.g. bundle branch block, AV block\n",
    "    ischemia = \"Ischemia\"               # e.g. ST-segment, T-wave inversion\n",
    "    structural = \"Structural\"           # e.g. chamber enlargement, hypertrophy\n",
    "    measurement = \"Measurement\"         # e.g. axis deviation, wide QRS, PR interval\n",
    "    equipment = \"Equipment\"             # e.g. Misplaced electrodes\n",
    "    other = \"Other\"\n"
   ]
  },
  {
   "cell_type": "markdown",
   "metadata": {},
   "source": [
    "## Disagreement between machine and cardiologist findings"
   ]
  },
  {
   "cell_type": "markdown",
   "metadata": {},
   "source": [
    "TODO: Explanation of why athlete is likely to be misinterpreted. ECG interpretation guidelines for athletes."
   ]
  },
  {
   "cell_type": "markdown",
   "metadata": {},
   "source": [
    "### Overall finding"
   ]
  },
  {
   "cell_type": "markdown",
   "metadata": {},
   "source": [
    "It is common practice to give an ECG recording or segment of a recording an \n",
    "overall finding of \"normal\", \"borderline\" or \"abnormal\" to aid clinical \n",
    "decision-making.\n",
    "\n",
    "In the norwegian-athlete-ecg dataset, human cardiologists classified 2 \n",
    "recordings as \"borderline\", and the remaining 26 as \"normal\". Observing the \n",
    "difference in overall finding between human cardiologist and SL12 algorithm \n",
    "gives an idea of the difficulty of interpretation posed by each recording."
   ]
  },
  {
   "cell_type": "code",
   "execution_count": null,
   "metadata": {},
   "outputs": [],
   "source": [
    "#| code-fold: true\n",
    "#| code-summary: Extract overall ECG findings from dataset and measure disagreement between C and SL12\n",
    "\n",
    "# The final finding in each report is an \"overall\" classification for the \n",
    "# entire ECG recording.\n",
    "\n",
    "# We can use the difference between machine and cardiologist `OverallFinding`\n",
    "# values to quantify if the disagreement is \"small\" or \"large\".\n",
    "\n",
    "class OverallFinding(Enum):\n",
    "    Unknown = -99\n",
    "    Normal = 0\n",
    "    Borderline = 1\n",
    "    Abnormal = 2\n",
    "\n",
    "def classifyOverallFinding(findings: List[str]) -> OverallFinding:\n",
    "    \"\"\"Classifies the overall finding for an ECG recording.\n",
    "\n",
    "    Assumes that the final finding in `findings` list comments on overall \n",
    "    finding.\n",
    "    \"\"\"\n",
    "    overall = findings[-1].lower()\n",
    "    if overall.find(\"abnormal\") != -1:\n",
    "        return OverallFinding.Abnormal\n",
    "    elif overall.find(\"borderline\") != -1:\n",
    "        return OverallFinding.Borderline\n",
    "    elif overall.find(\"normal\") != -1:\n",
    "        return OverallFinding.Normal\n",
    "    else:\n",
    "        return OverallFinding.Unknown\n",
    "\n",
    "# Quantify the \"overall disagreement\" between cardiologist and SL12 algorithm.\n",
    "count_0 = 0     # Agree\n",
    "count_1 = 0     # Disagree (small)\n",
    "count_2 = 0     # Disagree (large)\n",
    "\n",
    "count_sl12_normal = 0\n",
    "count_sl12_borderline = 0\n",
    "count_sl12_abnormal = 0\n",
    "\n",
    "for i in range(1, 29):\n",
    "    athlete_id = f\"ath_00{i}\" if i < 10 else f\"ath_0{i}\"\n",
    "\n",
    "    record = wfdb.rdheader(athlete_ecg_dir / athlete_id)\n",
    "    comments = record.__dict__[\"comments\"]\n",
    "\n",
    "    findings_sl12 = extract_findings(comments[0])\n",
    "    findings_c = extract_findings(comments[1])\n",
    "\n",
    "    overall_sl12 = classifyOverallFinding(findings_sl12)\n",
    "    overall_c = classifyOverallFinding(findings_c)\n",
    "\n",
    "    if (overall_sl12.value - overall_c.value) == 0:\n",
    "        count_0 += 1\n",
    "    elif (overall_sl12.value - overall_c.value) == 1:\n",
    "        count_1 += 1\n",
    "    elif (overall_sl12.value - overall_c.value) == 2:\n",
    "        count_2 += 1\n",
    "    \n",
    "    if (overall_sl12 == OverallFinding.Normal):\n",
    "        count_sl12_normal += 1\n",
    "    elif (overall_sl12 == OverallFinding.Borderline):\n",
    "        count_sl12_borderline += 1\n",
    "    elif (overall_sl12 == OverallFinding.Abnormal):\n",
    "        count_sl12_abnormal += 1\n",
    "\n",
    "    # print(f\"{athlete_id} disagreement = {overall_sl12.value - overall_c.value}\\tc = {overall_c.name}\")\n"
   ]
  },
  {
   "cell_type": "code",
   "execution_count": null,
   "metadata": {},
   "outputs": [],
   "source": [
    "#| output: show\n",
    "#| code-fold: true\n",
    "#| code-summary: Plot difference between C and SL12 overall findings\n",
    "sns.set_theme(style=\"ticks\")\n",
    "\n",
    "fig, (ax1, ax2) = plt.subplots(1, 2)\n",
    "plt.suptitle(\"Difference in overall findings\")\n",
    "\n",
    "#\n",
    "# Stacked bar charts showing ratio of normal/borderline/abnormal findings\n",
    "#\n",
    "\n",
    "colors = sns.color_palette('pastel')[5:8]\n",
    "report_source = [\"Cardiologist\", \"SL12\"]\n",
    "overall_finding_labels = [\"Normal\", \"Borderline\", \"Abnormal\"]\n",
    "overall_findings_data = {\n",
    "    \"Normal\": np.array([26, count_sl12_normal]) / 28.0,\n",
    "    \"Borderline\": np.array([2, count_sl12_borderline]) / 28.0,\n",
    "    \"Abnormal\": np.array([0, count_sl12_abnormal]) / 28.0,\n",
    "}\n",
    "\n",
    "# Iteratively build stacked bar chart, one finding class at a time.\n",
    "bot_c = 0\n",
    "bot_sl12 = 0\n",
    "color_index = 0\n",
    "for finding, counts in overall_findings_data.items():\n",
    "    ax1.bar(\n",
    "        report_source, \n",
    "        counts, \n",
    "        label=finding, \n",
    "        bottom=[bot_c, bot_sl12], \n",
    "        color=colors[color_index],\n",
    "    )\n",
    "    bot_c += counts[0]\n",
    "    bot_sl12 += counts[1]\n",
    "    color_index += 1\n",
    "\n",
    "ax1.set_title(\"a) Proportion of overall findings\")\n",
    "ax1.set_ylabel(\"Proportion of athletes in dataset\")\n",
    "ax1.legend(loc=\"lower center\")\n",
    "\n",
    "# \n",
    "# Pie chart summarising overall disagreement\n",
    "#\n",
    "\n",
    "colors = sns.color_palette('pastel')[2:5]\n",
    "\n",
    "ax2.pie(\n",
    "    [count_0, count_1, count_2],\n",
    "    colors = colors,\n",
    "    autopct='%.0f%%',\n",
    "    pctdistance=0.6,\n",
    ")\n",
    "\n",
    "ax2.legend(\n",
    "    [\"Agree\", \"Disagree (small)\", \"Disagree (large)\"],\n",
    "    bbox_to_anchor=(0.9, 0.05),\n",
    ")\n",
    "ax2.set_title(\"b) Disagreement between \\nC & SL12 reports\")\n",
    "\n",
    "plt.show()"
   ]
  },
  {
   "cell_type": "markdown",
   "metadata": {},
   "source": [
    "***Figure: Difference in overall ECG recording finding between Cardiologist (C) and Machine (SL12) reports.***"
   ]
  },
  {
   "cell_type": "code",
   "execution_count": null,
   "metadata": {},
   "outputs": [],
   "source": [
    "#| code-fold: true\n",
    "#| code-summary: Add overall finding labels to pandas dataframe\n",
    "athlete_ecg_df = athlete_ecg_df.assign(\n",
    "    overall_c=list(map(lambda x: classifyOverallFinding( extract_findings(x, follow_on=False) ).name, athlete_ecg_df.cardiologist))\n",
    ")\n",
    "\n",
    "athlete_ecg_df = athlete_ecg_df.assign(\n",
    "    overall_sl12=list(map(lambda x: classifyOverallFinding( extract_findings(x, follow_on=True) ).name, athlete_ecg_df.machine))\n",
    ")"
   ]
  },
  {
   "cell_type": "code",
   "execution_count": null,
   "metadata": {},
   "outputs": [],
   "source": [
    "athlete_ecg_df.head()"
   ]
  },
  {
   "cell_type": "markdown",
   "metadata": {},
   "source": [
    "### Rhythm findings"
   ]
  },
  {
   "cell_type": "markdown",
   "metadata": {},
   "source": [
    "TODO: Disagreement between cardiologist and machine for individual abnormality \n",
    "classes."
   ]
  },
  {
   "cell_type": "code",
   "execution_count": null,
   "metadata": {},
   "outputs": [],
   "source": [
    "class SinusRhythmFinding(Enum):\n",
    "    Normal = 0\n",
    "    Bradycardia = 1     # Slow rhythm\n",
    "    Tachycardia = 2     # Fast rhythm\n",
    "    Arrhythmia = 3      # Other abnormal rhythm\n",
    "\n",
    "def classifySinusRhythmFindings(comments: List[str]) -> List[SinusRhythmFinding]:\n",
    "    \"\"\"Classifies sinus rhythm findings from an ECG findings report\n",
    "\n",
    "    Multiple rhythm findings could be present in a single comment. \n",
    "    e.g. 'Sinus bradycardia with marked sinus arrhythmia'\n",
    "\n",
    "    Returns a list of `SinusRhythmFinding`.\n",
    "    \"\"\"\n",
    "    findings = []\n",
    "    for c in comments:\n",
    "        c = c.lower()\n",
    "        if c.find(\"sinus\") != -1:\n",
    "            if c.find(\"arrhythmia\") != -1:\n",
    "                findings.append(SinusRhythmFinding.Arrhythmia)\n",
    "            if c.find(\"bradycardia\") != -1:\n",
    "                findings.append(SinusRhythmFinding.Bradycardia)\n",
    "            if c.find(\"tachycardia\") != -1:\n",
    "                findings.append(SinusRhythmFinding.Tachycardia)\n",
    "            if (c.find(\"normal\") != -1) and not (c.find(\"abnormal\") != -1):\n",
    "                findings.append(SinusRhythmFinding.Normal)\n",
    "    return findings"
   ]
  },
  {
   "cell_type": "code",
   "execution_count": null,
   "metadata": {},
   "outputs": [],
   "source": [
    "# Example usage\n",
    "comments = extract_findings(athlete_ecg_df.sample()['machine'].values[0])\n",
    "sinus_findings = classifySinusRhythmFindings(comments)\n",
    "print(sinus_findings)\n",
    "print(comments)"
   ]
  },
  {
   "cell_type": "code",
   "execution_count": null,
   "metadata": {},
   "outputs": [],
   "source": [
    "#| code-fold: true\n",
    "#| code-summary: Add sinus rhythm finding labels to pandas dataframe\n",
    "\n",
    "# Get a list of sinus rhythm findings for every cardiologist record\n",
    "sinus_rhythm_findings_c = list(map(lambda x: classifySinusRhythmFindings( extract_findings(x, follow_on=False) ), athlete_ecg_df.cardiologist))\n",
    "sinus_rhythm_findings_sl12 = list(map(lambda x: classifySinusRhythmFindings( extract_findings(x, follow_on=True) ), athlete_ecg_df.machine))\n",
    "\n",
    "# Convert to boolean flag for each finding\n",
    "normal_flags = []\n",
    "bradycardia_flags = []\n",
    "tachycardia_flags = []\n",
    "arrhythmia_flags = []\n",
    "normal_flags_sl12 = []\n",
    "bradycardia_flags_sl12 = []\n",
    "tachycardia_flags_sl12 = []\n",
    "arrhythmia_flags_sl12 = []\n",
    "for lst in sinus_rhythm_findings_c:\n",
    "    normal_flags.append(True) if SinusRhythmFinding.Normal in lst else normal_flags.append(False)\n",
    "    bradycardia_flags.append(True) if SinusRhythmFinding.Bradycardia in lst else bradycardia_flags.append(False)\n",
    "    tachycardia_flags.append(True) if SinusRhythmFinding.Tachycardia in lst else tachycardia_flags.append(False)\n",
    "    arrhythmia_flags.append(True) if SinusRhythmFinding.Arrhythmia in lst else arrhythmia_flags.append(False)\n",
    "for lst in sinus_rhythm_findings_sl12:\n",
    "    normal_flags_sl12.append(True) if SinusRhythmFinding.Normal in lst else normal_flags_sl12.append(False)\n",
    "    bradycardia_flags_sl12.append(True) if SinusRhythmFinding.Bradycardia in lst else bradycardia_flags_sl12.append(False)\n",
    "    tachycardia_flags_sl12.append(True) if SinusRhythmFinding.Tachycardia in lst else tachycardia_flags_sl12.append(False)\n",
    "    arrhythmia_flags_sl12.append(True) if SinusRhythmFinding.Arrhythmia in lst else arrhythmia_flags_sl12.append(False)\n",
    "\n",
    "# Add each finding to dataframe as a new column\n",
    "athlete_ecg_df = athlete_ecg_df.assign(\n",
    "    sinus_rhythm_normal_c=normal_flags,\n",
    "    sinus_rhythm_bradycardia_c=bradycardia_flags,\n",
    "    sinus_rhythm_tachycardia_c=tachycardia_flags,\n",
    "    sinus_rhythm_arrhythmia_c=arrhythmia_flags,\n",
    "    sinus_rhythm_normal_sl12=normal_flags_sl12,\n",
    "    sinus_rhythm_bradycardia_sl12=bradycardia_flags_sl12,\n",
    "    sinus_rhythm_tachycardia_sl12=tachycardia_flags_sl12,\n",
    "    sinus_rhythm_arrhythmia_sl12=arrhythmia_flags_sl12,\n",
    ")"
   ]
  },
  {
   "cell_type": "code",
   "execution_count": null,
   "metadata": {},
   "outputs": [],
   "source": [
    "athlete_ecg_df.head()"
   ]
  },
  {
   "cell_type": "markdown",
   "metadata": {},
   "source": [
    "## Exporting the labelled dataset"
   ]
  }
 ],
 "metadata": {
  "kernelspec": {
   "display_name": ".venv",
   "language": "python",
   "name": "python3"
  },
  "language_info": {
   "codemirror_mode": {
    "name": "ipython",
    "version": 3
   },
   "file_extension": ".py",
   "mimetype": "text/x-python",
   "name": "python",
   "nbconvert_exporter": "python",
   "pygments_lexer": "ipython3",
   "version": "3.10.16"
  }
 },
 "nbformat": 4,
 "nbformat_minor": 2
}
