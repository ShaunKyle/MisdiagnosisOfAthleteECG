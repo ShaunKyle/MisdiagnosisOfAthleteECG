{
 "cells": [
  {
   "cell_type": "markdown",
   "metadata": {},
   "source": [
    "# Miscellaneous poster stats"
   ]
  },
  {
   "cell_type": "markdown",
   "metadata": {},
   "source": [
    "## Notebook setup"
   ]
  },
  {
   "cell_type": "code",
   "execution_count": 1,
   "metadata": {},
   "outputs": [],
   "source": [
    "#| code-fold: true\n",
    "#| code-summary: \"Click to see packages imported\"\n",
    "import os\n",
    "import configparser\n",
    "from pathlib import Path\n",
    "\n",
    "import wfdb\n",
    "import pandas as pd\n",
    "import numpy as np"
   ]
  },
  {
   "cell_type": "code",
   "execution_count": 2,
   "metadata": {},
   "outputs": [
    {
     "name": "stdout",
     "output_type": "stream",
     "text": [
      "The current working directory is /Users/shaun/source/Thesis/PhysioNetChallenge2020\n"
     ]
    }
   ],
   "source": [
    "#|include: false\n",
    "# If the current working directory is the nbs/ folder, change to the project \n",
    "# root directory instead.\n",
    "\n",
    "if Path.cwd().stem == \"nbs\":\n",
    "    os.chdir(Path.cwd().parent)\n",
    "print(f\"The current working directory is {Path.cwd()}\")"
   ]
  },
  {
   "cell_type": "code",
   "execution_count": 3,
   "metadata": {},
   "outputs": [
    {
     "name": "stdout",
     "output_type": "stream",
     "text": [
      "Datasets are located at /Users/shaun/source/Thesis/PhysioNetChallenge2020/data\n"
     ]
    }
   ],
   "source": [
    "#|include: false\n",
    "# Import configuration settings, like location of data directory.\n",
    "config = configparser.ConfigParser()\n",
    "if not Path(\"config.ini\").exists():\n",
    "    print(\"WARNING: Please generate a config.ini file by running scripts/get_datasets.py\")\n",
    "else:\n",
    "    config.read(\"config.ini\")\n",
    "    data_dir = Path((config[\"datasets\"][\"path\"])).expanduser()\n",
    "    print(f\"Datasets are located at {data_dir.resolve()}\")"
   ]
  },
  {
   "cell_type": "markdown",
   "metadata": {},
   "source": [
    "## Norwegian endurance athletes"
   ]
  },
  {
   "cell_type": "code",
   "execution_count": 4,
   "metadata": {},
   "outputs": [],
   "source": [
    "from sklearn.metrics import confusion_matrix\n",
    "\n",
    "from src.data.util import get_all_records, diagnosis_codes, codes_to_label_vector\n",
    "from src.data import norwegian"
   ]
  },
  {
   "cell_type": "code",
   "execution_count": 5,
   "metadata": {},
   "outputs": [],
   "source": [
    "athlete_ecg_dir = data_dir / \"norwegian-athlete-ecg\" / \"1.0.0\""
   ]
  },
  {
   "cell_type": "code",
   "execution_count": 6,
   "metadata": {},
   "outputs": [
    {
     "name": "stdout",
     "output_type": "stream",
     "text": [
      "ath_022\n",
      "Normal sinus rhythm\n",
      "\n",
      "ath_023\n",
      "Sinus bradycardia\n",
      "\n",
      "ath_021\n",
      "Sinus arrhythmia\n",
      "\n",
      "ath_009\n",
      "Normal sinus rhythm\n",
      "\n",
      "ath_008\n",
      "Normal sinus rhythm\n",
      "Incomplete right bundle branch block\n",
      "\n",
      "ath_020\n",
      "Normal sinus rhythm\n",
      "\n",
      "ath_018\n",
      "Sinus arrhythmia\n",
      "\n",
      "ath_024\n",
      "Sinus bradycardia\n",
      "Incomplete right bundle branch block\n",
      "\n",
      "ath_025\n",
      "Normal sinus rhythm\n",
      "\n",
      "ath_019\n",
      "Sinus arrhythmia\n",
      "\n",
      "ath_027\n",
      "Sinus bradycardia\n",
      "\n",
      "ath_026\n",
      "Normal sinus rhythm\n",
      "\n",
      "ath_003\n",
      "Normal sinus rhythm\n",
      "\n",
      "ath_017\n",
      "Normal sinus rhythm\n",
      "\n",
      "ath_016\n",
      "Normal sinus rhythm\n",
      "\n",
      "ath_002\n",
      "Sinus arrhythmia\n",
      "\n",
      "ath_014\n",
      "Normal sinus rhythm\n",
      "\n",
      "ath_028\n",
      "Normal sinus rhythm\n",
      "\n",
      "ath_001\n",
      "Sinus arrhythmia\n",
      "\n",
      "ath_015\n",
      "Normal sinus rhythm\n",
      "\n",
      "ath_011\n",
      "Sinus arrhythmia\n",
      "\n",
      "ath_005\n",
      "Sinus bradycardia\n",
      "Normal sinus rhythm\n",
      "\n",
      "ath_004\n",
      "Normal sinus rhythm\n",
      "\n",
      "ath_010\n",
      "Normal sinus rhythm\n",
      "\n",
      "ath_006\n",
      "Normal sinus rhythm\n",
      "\n",
      "ath_012\n",
      "Sinus arrhythmia\n",
      "\n",
      "ath_013\n",
      "Sinus bradycardia\n",
      "\n",
      "ath_007\n",
      "Normal sinus rhythm\n",
      "\n"
     ]
    }
   ],
   "source": [
    "for entry in get_all_records(athlete_ecg_dir):\n",
    "    # Actual labels from dataset\n",
    "    record = wfdb.rdrecord(athlete_ecg_dir / entry)\n",
    "    comments_c = record.comments[1]\n",
    "    findings_c = norwegian.extract_findings(comments_c)\n",
    "\n",
    "    actual_findings = norwegian.classify_relevant_findings(findings_c)\n",
    "    # TODO: print sl12 findigns\n",
    "\n",
    "    print(entry)\n",
    "    for finding in actual_findings:\n",
    "        print(diagnosis_codes[finding])\n",
    "    print()"
   ]
  },
  {
   "cell_type": "code",
   "execution_count": 7,
   "metadata": {},
   "outputs": [
    {
     "data": {
      "text/plain": [
       "0.07142857142857142"
      ]
     },
     "execution_count": 7,
     "metadata": {},
     "output_type": "execute_result"
    }
   ],
   "source": [
    "2/28"
   ]
  },
  {
   "cell_type": "code",
   "execution_count": 8,
   "metadata": {},
   "outputs": [
    {
     "name": "stdout",
     "output_type": "stream",
     "text": [
      "ath_022\n",
      "Normal sinus rhythm\n",
      "\n",
      "ath_023\n",
      "Sinus bradycardia\n",
      "\n",
      "ath_021\n",
      "Sinus arrhythmia\n",
      "Sinus bradycardia\n",
      "\n",
      "ath_009\n",
      "Sinus bradycardia\n",
      "\n",
      "ath_008\n",
      "Normal sinus rhythm\n",
      "\n",
      "ath_020\n",
      "Normal sinus rhythm\n",
      "\n",
      "ath_018\n",
      "Sinus arrhythmia\n",
      "Sinus bradycardia\n",
      "\n",
      "ath_024\n",
      "Sinus bradycardia\n",
      "Incomplete right bundle branch block\n",
      "\n",
      "ath_025\n",
      "Sinus bradycardia\n",
      "\n",
      "ath_019\n",
      "Sinus arrhythmia\n",
      "Normal sinus rhythm\n",
      "\n",
      "ath_027\n",
      "Sinus bradycardia\n",
      "\n",
      "ath_026\n",
      "Normal sinus rhythm\n",
      "\n",
      "ath_003\n",
      "Sinus arrhythmia\n",
      "Sinus bradycardia\n",
      "\n",
      "ath_017\n",
      "\n",
      "ath_016\n",
      "Sinus bradycardia\n",
      "\n",
      "ath_002\n",
      "Sinus arrhythmia\n",
      "Sinus bradycardia\n",
      "\n",
      "ath_014\n",
      "Normal sinus rhythm\n",
      "\n",
      "ath_028\n",
      "Sinus bradycardia\n",
      "\n",
      "ath_001\n",
      "Sinus arrhythmia\n",
      "Sinus bradycardia\n",
      "\n",
      "ath_015\n",
      "Sinus bradycardia\n",
      "\n",
      "ath_011\n",
      "Sinus arrhythmia\n",
      "Normal sinus rhythm\n",
      "\n",
      "ath_005\n",
      "Sinus arrhythmia\n",
      "Sinus bradycardia\n",
      "\n",
      "ath_004\n",
      "Sinus bradycardia\n",
      "\n",
      "ath_010\n",
      "Sinus bradycardia\n",
      "\n",
      "ath_006\n",
      "Sinus bradycardia\n",
      "\n",
      "ath_012\n",
      "Sinus arrhythmia\n",
      "Sinus bradycardia\n",
      "\n",
      "ath_013\n",
      "Sinus bradycardia\n",
      "\n",
      "ath_007\n",
      "Normal sinus rhythm\n",
      "Incomplete right bundle branch block\n",
      "\n"
     ]
    }
   ],
   "source": [
    "for entry in get_all_records(athlete_ecg_dir):\n",
    "    # SL12 predicted labels from dataset\n",
    "    record = wfdb.rdrecord(athlete_ecg_dir / entry)\n",
    "    comments_sl12 = record.comments[0]\n",
    "    findings_sl12 = norwegian.extract_findings(comments_sl12)\n",
    "\n",
    "    predicted_findings = norwegian.classify_relevant_findings(findings_sl12)\n",
    "\n",
    "    print(entry)\n",
    "    for finding in predicted_findings:\n",
    "        print(diagnosis_codes[finding])\n",
    "    print()"
   ]
  },
  {
   "cell_type": "markdown",
   "metadata": {},
   "source": [
    "## Scoring SL12 with confusion matrix"
   ]
  },
  {
   "cell_type": "code",
   "execution_count": 41,
   "metadata": {},
   "outputs": [],
   "source": [
    "\n",
    "\n",
    "# sinus_labels = [426177001, 426783006, 427084000, 427393009]\n",
    "# sinus_labels = [426177001, 426783006]       # Bradycardia or Normal\n",
    "# sinus_labels = [426177001, 427084000, 427393009]    # Brady, Tachy, Arrythmia\n",
    "\n",
    "brady_label = [426177001]\n",
    "arry_label = [427393009]\n",
    "rbbb_labels = [713427006, 713426002]        # Incomplete RBBB, Complete RBBB\n",
    "athlete_labels = arry_label\n",
    "\n",
    "total_confusion = np.zeros((2,2), dtype=int)\n",
    "for entry in get_all_records(athlete_ecg_dir):\n",
    "    # Actual labels from cardiologist\n",
    "    record = wfdb.rdrecord(athlete_ecg_dir / entry)\n",
    "    comments_c = record.comments[1]\n",
    "    findings_c = norwegian.extract_findings(comments_c)\n",
    "    actual_findings = norwegian.classify_relevant_findings(findings_c)\n",
    "    actual_labels = codes_to_label_vector(actual_findings, athlete_labels)\n",
    "\n",
    "    # Predicted labels from SL12 algorithm\n",
    "    comments_sl12 = record.comments[0]\n",
    "    findings_sl12 = norwegian.extract_findings(comments_sl12)\n",
    "    predicted_findings = norwegian.classify_relevant_findings(findings_sl12)\n",
    "    predicted_labels = codes_to_label_vector(predicted_findings, athlete_labels)\n",
    "\n",
    "    # # Hack: If no sinus rhythm findings, assume normal sinus rhythm (426783006)\n",
    "    # if sum(actual_labels) == 0:\n",
    "    #     actual_labels[1] = 1\n",
    "    # if sum(predicted_labels) == 0:\n",
    "    #     predicted_labels[1] = 1\n",
    "\n",
    "    # if \"Incomplete right bundle branch block\" in findings_c:\n",
    "    #     print(f\"{entry}\")\n",
    "    #     print(actual_findings)\n",
    "    #     print(actual_labels)\n",
    "    \n",
    "    # Calculate confusion matrix for entry, add to total\n",
    "    for i in range(len(athlete_labels)):\n",
    "        if actual_labels[i] == predicted_labels[i]:\n",
    "            if actual_labels[i] == 1:\n",
    "                total_confusion[1][1] += 1  # tp\n",
    "            if actual_labels[i] == 0:\n",
    "                total_confusion[0][0] += 1  # tn\n",
    "        else:\n",
    "            if actual_labels[i] == 1:\n",
    "                total_confusion[1][0] += 1  # fn\n",
    "            if actual_labels[i] == 0:\n",
    "                total_confusion[0][1] += 1  # fp\n",
    "    \n",
    "    # total_confusion += confusion_matrix(actual_labels, predicted_labels)\n",
    "\n",
    "# confusion_matrix(actual_labels, predicted_labels)"
   ]
  },
  {
   "cell_type": "code",
   "execution_count": 42,
   "metadata": {},
   "outputs": [
    {
     "data": {
      "text/plain": [
       "array([[19,  2],\n",
       "       [ 0,  7]])"
      ]
     },
     "execution_count": 42,
     "metadata": {},
     "output_type": "execute_result"
    }
   ],
   "source": [
    "total_confusion"
   ]
  },
  {
   "cell_type": "code",
   "execution_count": 39,
   "metadata": {},
   "outputs": [],
   "source": [
    "def print_classifier_metrics(tn, fp, fn, tp):\n",
    "    P = tp + fn\n",
    "    N = fp + tn\n",
    "    print(\"Population\")\n",
    "    print(\"----------\")\n",
    "    print(f\"Total population: {P+N}\")\n",
    "    print(f\"Positive: {P}\")\n",
    "    print(f\"Negative: {N}\\n\")\n",
    "\n",
    "    acc = (tp + tn) / (P+N)\n",
    "    ppv = tp / (tp + fp)\n",
    "    f1 = 2 * tp / (2*tp + fp + fn)\n",
    "    fpr = fp / N\n",
    "    fnr = fn / P\n",
    "    print(\"Performance\")\n",
    "    print(\"-----------\")\n",
    "    print(f\"Accuracy: {acc}\")\n",
    "    print(f\"Precision: {ppv}\")\n",
    "    print(f\"F1-Score: {f1}\")\n",
    "    print(f\"False-positive rate: {fpr}\")\n",
    "    print(f\"False-negative rate: {fnr}\")"
   ]
  },
  {
   "cell_type": "markdown",
   "metadata": {},
   "source": [
    "Accuracy is a VERY misleading metric."
   ]
  },
  {
   "cell_type": "code",
   "execution_count": 43,
   "metadata": {},
   "outputs": [
    {
     "name": "stdout",
     "output_type": "stream",
     "text": [
      "Population\n",
      "----------\n",
      "Total population: 28\n",
      "Positive: 7\n",
      "Negative: 21\n",
      "\n",
      "Performance\n",
      "-----------\n",
      "Accuracy: 0.9285714285714286\n",
      "Precision: 0.7777777777777778\n",
      "F1-Score: 0.875\n",
      "False-positive rate: 0.09523809523809523\n",
      "False-negative rate: 0.0\n"
     ]
    }
   ],
   "source": [
    "tn, fp, fn, tp = total_confusion.ravel()\n",
    "print_classifier_metrics(tn, fp, fn, tp)"
   ]
  }
 ],
 "metadata": {
  "kernelspec": {
   "display_name": ".venv",
   "language": "python",
   "name": "python3"
  },
  "language_info": {
   "codemirror_mode": {
    "name": "ipython",
    "version": 3
   },
   "file_extension": ".py",
   "mimetype": "text/x-python",
   "name": "python",
   "nbconvert_exporter": "python",
   "pygments_lexer": "ipython3",
   "version": "3.10.16"
  }
 },
 "nbformat": 4,
 "nbformat_minor": 2
}
