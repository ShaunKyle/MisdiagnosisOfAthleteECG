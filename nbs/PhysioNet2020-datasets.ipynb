{
 "cells": [
  {
   "cell_type": "markdown",
   "metadata": {},
   "source": [
    "# Typical training data for ECG classifiers"
   ]
  },
  {
   "cell_type": "markdown",
   "metadata": {},
   "source": [
    "## Notebook setup"
   ]
  },
  {
   "cell_type": "code",
   "execution_count": 22,
   "metadata": {},
   "outputs": [],
   "source": [
    "import os\n",
    "import configparser\n",
    "from pathlib import Path\n",
    "from typing import List, TypedDict\n",
    "\n",
    "import wfdb\n",
    "import numpy as np\n",
    "import pandas as pd\n",
    "import matplotlib.pyplot as plt\n",
    "import seaborn as sns"
   ]
  },
  {
   "cell_type": "code",
   "execution_count": 2,
   "metadata": {},
   "outputs": [
    {
     "name": "stdout",
     "output_type": "stream",
     "text": [
      "The current working directory is /Users/shaun/source/Thesis/PhysioNetChallenge2020\n"
     ]
    }
   ],
   "source": [
    "#|include: false\n",
    "# If the current working directory is the nbs/ folder, change to the project \n",
    "# root directory instead.\n",
    "\n",
    "if Path.cwd().stem == \"nbs\":\n",
    "    os.chdir(Path.cwd().parent)\n",
    "print(f\"The current working directory is {Path.cwd()}\")"
   ]
  },
  {
   "cell_type": "code",
   "execution_count": 3,
   "metadata": {},
   "outputs": [
    {
     "name": "stdout",
     "output_type": "stream",
     "text": [
      "Datasets are located at /Users/shaun/source/Thesis/PhysioNetChallenge2020/data\n"
     ]
    }
   ],
   "source": [
    "#|include: false\n",
    "# Import configuration settings, like location of data directory.\n",
    "config = configparser.ConfigParser()\n",
    "if not Path(\"config.ini\").exists():\n",
    "    print(\"WARNING: Please generate a config.ini file by running scripts/get_datasets.py\")\n",
    "else:\n",
    "    config.read(\"config.ini\")\n",
    "    data_dir = Path((config[\"datasets\"][\"path\"])).expanduser()\n",
    "    print(f\"Datasets are located at {data_dir.resolve()}\")"
   ]
  },
  {
   "cell_type": "markdown",
   "metadata": {},
   "source": [
    "## Dataset quickstart"
   ]
  },
  {
   "cell_type": "markdown",
   "metadata": {},
   "source": [
    "***Table: Characteristics of 12-lead ECG recordings used for PhysioNet Challenge 2020***\n",
    "\n",
    "| Dataset | Sampling frequency \\[Hz\\] | Recording length \\[s\\] | Notes |\n",
    "|-|-|-|-|\n",
    "| `cpsc`/`cpsc_extra` | 500 | 6 to 60 | Per HIPAA guidelines ages over 89 are removed |\n",
    "| `incart` | 257 | 1800 | Holter recordings, annotations included |\n",
    "| `ptb` | 1000 | ? |  |\n",
    "| `ptbxl` | 500 | 10 |  |\n",
    "| `georgia` | 500 | 10 | Southeastern US patient demographic |\n",
    "\n",
    "Probably just use `ptbxl` and `georgia` for this project.\n"
   ]
  },
  {
   "cell_type": "code",
   "execution_count": 4,
   "metadata": {},
   "outputs": [],
   "source": [
    "# Path to each training dataset\n",
    "\n",
    "training_dir = data_dir / \"challenge-2020\" / \"1.0.2\" / \"training\"\n",
    "\n",
    "georgia_dir = training_dir / \"georgia\"\n",
    "cpsc_dir = training_dir / \"cpsc_2018\"\n",
    "cpscextra_dir = training_dir / \"cpsc_2018_extra\"\n",
    "ptb_dir = training_dir / \"ptb\"\n",
    "ptbxl_dir = training_dir / \"ptb-xl\"\n",
    "incart_dir = training_dir / \"st_petersburg_incart\""
   ]
  },
  {
   "cell_type": "markdown",
   "metadata": {},
   "source": [
    "`wfdb.rdheader` to read metadata about record.\n",
    "\n",
    "`wfdb.rdrecord` to read signal data."
   ]
  },
  {
   "cell_type": "code",
   "execution_count": 5,
   "metadata": {},
   "outputs": [],
   "source": [
    "# record = wfdb.rdheader(georgia_dir / \"g1\" / \"E00001\")\n",
    "# record = wfdb.rdheader(ptbxl_dir / \"g1\" / \"HR00001\")\n",
    "\n",
    "record = wfdb.rdrecord(ptbxl_dir / \"g1\" / \"HR00001\")"
   ]
  },
  {
   "cell_type": "code",
   "execution_count": 6,
   "metadata": {},
   "outputs": [
    {
     "data": {
      "text/html": [
       "<div>\n",
       "<style scoped>\n",
       "    .dataframe tbody tr th:only-of-type {\n",
       "        vertical-align: middle;\n",
       "    }\n",
       "\n",
       "    .dataframe tbody tr th {\n",
       "        vertical-align: top;\n",
       "    }\n",
       "\n",
       "    .dataframe thead th {\n",
       "        text-align: right;\n",
       "    }\n",
       "</style>\n",
       "<table border=\"1\" class=\"dataframe\">\n",
       "  <thead>\n",
       "    <tr style=\"text-align: right;\">\n",
       "      <th></th>\n",
       "      <th>I</th>\n",
       "      <th>II</th>\n",
       "      <th>III</th>\n",
       "      <th>aVR</th>\n",
       "      <th>aVL</th>\n",
       "      <th>aVF</th>\n",
       "      <th>V1</th>\n",
       "      <th>V2</th>\n",
       "      <th>V3</th>\n",
       "      <th>V4</th>\n",
       "      <th>V5</th>\n",
       "      <th>V6</th>\n",
       "    </tr>\n",
       "  </thead>\n",
       "  <tbody>\n",
       "    <tr>\n",
       "      <th>0 days 00:00:00</th>\n",
       "      <td>-0.115</td>\n",
       "      <td>-0.05</td>\n",
       "      <td>0.065</td>\n",
       "      <td>0.082</td>\n",
       "      <td>-0.09</td>\n",
       "      <td>0.007</td>\n",
       "      <td>-0.065</td>\n",
       "      <td>-0.04</td>\n",
       "      <td>-0.005</td>\n",
       "      <td>-0.035</td>\n",
       "      <td>-0.035</td>\n",
       "      <td>-0.075</td>\n",
       "    </tr>\n",
       "    <tr>\n",
       "      <th>0 days 00:00:00.002000</th>\n",
       "      <td>-0.115</td>\n",
       "      <td>-0.05</td>\n",
       "      <td>0.065</td>\n",
       "      <td>0.082</td>\n",
       "      <td>-0.09</td>\n",
       "      <td>0.007</td>\n",
       "      <td>-0.065</td>\n",
       "      <td>-0.04</td>\n",
       "      <td>-0.005</td>\n",
       "      <td>-0.035</td>\n",
       "      <td>-0.035</td>\n",
       "      <td>-0.075</td>\n",
       "    </tr>\n",
       "    <tr>\n",
       "      <th>0 days 00:00:00.004000</th>\n",
       "      <td>-0.115</td>\n",
       "      <td>-0.05</td>\n",
       "      <td>0.065</td>\n",
       "      <td>0.082</td>\n",
       "      <td>-0.09</td>\n",
       "      <td>0.007</td>\n",
       "      <td>-0.065</td>\n",
       "      <td>-0.04</td>\n",
       "      <td>-0.005</td>\n",
       "      <td>-0.035</td>\n",
       "      <td>-0.035</td>\n",
       "      <td>-0.075</td>\n",
       "    </tr>\n",
       "    <tr>\n",
       "      <th>0 days 00:00:00.006000</th>\n",
       "      <td>-0.115</td>\n",
       "      <td>-0.05</td>\n",
       "      <td>0.065</td>\n",
       "      <td>0.082</td>\n",
       "      <td>-0.09</td>\n",
       "      <td>0.007</td>\n",
       "      <td>-0.065</td>\n",
       "      <td>-0.04</td>\n",
       "      <td>-0.005</td>\n",
       "      <td>-0.035</td>\n",
       "      <td>-0.035</td>\n",
       "      <td>-0.075</td>\n",
       "    </tr>\n",
       "    <tr>\n",
       "      <th>0 days 00:00:00.008000</th>\n",
       "      <td>-0.115</td>\n",
       "      <td>-0.05</td>\n",
       "      <td>0.065</td>\n",
       "      <td>0.082</td>\n",
       "      <td>-0.09</td>\n",
       "      <td>0.007</td>\n",
       "      <td>-0.065</td>\n",
       "      <td>-0.04</td>\n",
       "      <td>-0.005</td>\n",
       "      <td>-0.035</td>\n",
       "      <td>-0.035</td>\n",
       "      <td>-0.075</td>\n",
       "    </tr>\n",
       "  </tbody>\n",
       "</table>\n",
       "</div>"
      ],
      "text/plain": [
       "                            I    II    III    aVR   aVL    aVF     V1    V2  \\\n",
       "0 days 00:00:00        -0.115 -0.05  0.065  0.082 -0.09  0.007 -0.065 -0.04   \n",
       "0 days 00:00:00.002000 -0.115 -0.05  0.065  0.082 -0.09  0.007 -0.065 -0.04   \n",
       "0 days 00:00:00.004000 -0.115 -0.05  0.065  0.082 -0.09  0.007 -0.065 -0.04   \n",
       "0 days 00:00:00.006000 -0.115 -0.05  0.065  0.082 -0.09  0.007 -0.065 -0.04   \n",
       "0 days 00:00:00.008000 -0.115 -0.05  0.065  0.082 -0.09  0.007 -0.065 -0.04   \n",
       "\n",
       "                           V3     V4     V5     V6  \n",
       "0 days 00:00:00        -0.005 -0.035 -0.035 -0.075  \n",
       "0 days 00:00:00.002000 -0.005 -0.035 -0.035 -0.075  \n",
       "0 days 00:00:00.004000 -0.005 -0.035 -0.035 -0.075  \n",
       "0 days 00:00:00.006000 -0.005 -0.035 -0.035 -0.075  \n",
       "0 days 00:00:00.008000 -0.005 -0.035 -0.035 -0.075  "
      ]
     },
     "execution_count": 6,
     "metadata": {},
     "output_type": "execute_result"
    }
   ],
   "source": [
    "# Signal data as pandas dataframe\n",
    "signals = record.to_dataframe()\n",
    "signals.head()"
   ]
  },
  {
   "cell_type": "code",
   "execution_count": 7,
   "metadata": {},
   "outputs": [
    {
     "data": {
      "text/plain": [
       "0 days 00:00:00          -0.115\n",
       "0 days 00:00:00.002000   -0.115\n",
       "0 days 00:00:00.004000   -0.115\n",
       "0 days 00:00:00.006000   -0.115\n",
       "0 days 00:00:00.008000   -0.115\n",
       "Freq: 2ms, Name: I, dtype: float64"
      ]
     },
     "execution_count": 7,
     "metadata": {},
     "output_type": "execute_result"
    }
   ],
   "source": [
    "# Each individual signal is a `Series` object\n",
    "signals.I.head()"
   ]
  },
  {
   "cell_type": "code",
   "execution_count": 8,
   "metadata": {},
   "outputs": [
    {
     "data": {
      "text/plain": [
       "['mv', 'mv', 'mv', 'mv', 'mv', 'mv', 'mv', 'mv', 'mv', 'mv', 'mv', 'mv']"
      ]
     },
     "execution_count": 8,
     "metadata": {},
     "output_type": "execute_result"
    }
   ],
   "source": [
    "# Units for each channel (should all be in mV)\n",
    "record.units"
   ]
  },
  {
   "cell_type": "code",
   "execution_count": 9,
   "metadata": {},
   "outputs": [
    {
     "data": {
      "text/plain": [
       "500"
      ]
     },
     "execution_count": 9,
     "metadata": {},
     "output_type": "execute_result"
    }
   ],
   "source": [
    "# Sampling frequency (Hz)\n",
    "record.fs\n",
    "\n",
    "# If not 500 Hz, resample.\n",
    "# https://pandas.pydata.org/docs/getting_started/intro_tutorials/09_timeseries.html#resample-a-time-series-to-another-frequency"
   ]
  },
  {
   "cell_type": "code",
   "execution_count": 10,
   "metadata": {},
   "outputs": [
    {
     "name": "stdout",
     "output_type": "stream",
     "text": [
      "Length (s): 10.0\n"
     ]
    }
   ],
   "source": [
    "# Length of recording (should always be 10 s)\n",
    "print(f\"Length (s): {len(record.to_dataframe()) * (1/record.fs)}\")"
   ]
  },
  {
   "cell_type": "markdown",
   "metadata": {},
   "source": [
    "## Medical terminologies and codes"
   ]
  },
  {
   "cell_type": "markdown",
   "metadata": {},
   "source": [
    "SNOMED-CT codes are provided as labels for each training dataset.\n",
    "\n",
    "Dx stands for diagnosis?"
   ]
  },
  {
   "cell_type": "code",
   "execution_count": 11,
   "metadata": {},
   "outputs": [
    {
     "data": {
      "text/plain": [
       "['Age: 56',\n",
       " 'Sex: Female',\n",
       " 'Dx: 251146004,426783006',\n",
       " 'Rx: Unknown',\n",
       " 'Hx: Unknown',\n",
       " 'Sx: Unknown']"
      ]
     },
     "execution_count": 11,
     "metadata": {},
     "output_type": "execute_result"
    }
   ],
   "source": [
    "record = wfdb.rdheader(ptbxl_dir / \"g1\" / \"HR00001\")\n",
    "record.comments # [2] is the diagnosis comment"
   ]
  },
  {
   "cell_type": "markdown",
   "metadata": {},
   "source": [
    "We could use a package such as [PyMedTermino2](https://owlready2.readthedocs.io/en/latest/pymedtermino2.html) to access medical terminologies from a UMLS database. \n",
    "However, we only need a very small subset of diagnosis codes. We'll just keep a \n",
    "Python dictionary of ~10 codes."
   ]
  },
  {
   "cell_type": "code",
   "execution_count": 12,
   "metadata": {},
   "outputs": [],
   "source": [
    "diagnosis_codes = {\n",
    "    # Sinus rhythm\n",
    "    426177001:  \"Sinus bradycardia\",\n",
    "    426783006:  \"Normal sinus rhythm\",\n",
    "    427084000:  \"Sinus tachycardia\",\n",
    "    427393009:  \"Sinus arrhythmia\",\n",
    "\n",
    "    # Conduction pathway (specifically right bundle branch)\n",
    "    713427006:  \"Complete right bundle branch block\",\n",
    "    713426002:  \"Incomplete right bundle branch block\",\n",
    "\n",
    "    # T-wave (should be for each lead)\n",
    "    164934002:  \"T-wave abnormal\",\n",
    "    59931005:   \"T-wave inversion\",\n",
    "}"
   ]
  },
  {
   "cell_type": "code",
   "execution_count": 13,
   "metadata": {},
   "outputs": [],
   "source": [
    "def extract_snomed_ct_codes_from_comment(dx_comment: str) -> List[int]:\n",
    "    \"\"\"Returns a list of SNOMED-CT codes related to ECG diagnoses.\n",
    "\n",
    "    Assumes that `dx_comment` is in the form \"Dx: code1,code2,etc.\"\n",
    "\n",
    "    Example usage:\n",
    "    ```\n",
    "    record = wfdb.rdheader(ptbxl_dir / \"g1\" / \"HR00001\")\n",
    "    dx_comment = record.comments[2]\n",
    "    dx_comment\n",
    "    > 'Dx: 251146004,426783006'\n",
    "\n",
    "    extract_snomed_ct_codes_from_comment(dx_comment)\n",
    "    > [251146004, 426783006]\n",
    "    ```\n",
    "    \"\"\"\n",
    "    # Just the diagnosis codes (ignore the \"Dx: \" prefix)\n",
    "    comment = dx_comment.split(': ')[1]\n",
    "\n",
    "    # Split codes into list, convert to integers\n",
    "    code_text = comment.split(',')\n",
    "    return list(map(int, code_text))\n"
   ]
  },
  {
   "cell_type": "code",
   "execution_count": 14,
   "metadata": {},
   "outputs": [
    {
     "data": {
      "text/plain": [
       "[251146004, 426783006]"
      ]
     },
     "execution_count": 14,
     "metadata": {},
     "output_type": "execute_result"
    }
   ],
   "source": [
    "# Example usage\n",
    "extract_snomed_ct_codes_from_comment(record.comments[2])"
   ]
  },
  {
   "cell_type": "markdown",
   "metadata": {},
   "source": [
    "## Extract demographics and labels for population analysis"
   ]
  },
  {
   "cell_type": "markdown",
   "metadata": {},
   "source": [
    "TODO.\n",
    "\n",
    "Demographics: age, sex\n",
    "\n",
    "Labels: subset of SNOMED-CT codes"
   ]
  },
  {
   "cell_type": "code",
   "execution_count": 15,
   "metadata": {},
   "outputs": [],
   "source": [
    "def get_all_records(dataset_dir: Path) -> List[Path]:\n",
    "    \"\"\"Returns a list of every record in a PhysioNet Challenge 2020 dataset\n",
    "    \"\"\"\n",
    "    records = []\n",
    "    # For every folder (e.g. g1/, g2/, etc.)\n",
    "    for folder in dataset_dir.iterdir():\n",
    "        if folder.is_dir():\n",
    "            # print(f\"Searching folder: {folder}\")\n",
    "            # For every record (each record has a `.hea` header file)\n",
    "            for file in folder.iterdir():\n",
    "                if file.suffix == '.hea':\n",
    "                    records.append( folder / file.stem )\n",
    "    # print(f\"Found {len(records)} records\")\n",
    "    return records"
   ]
  },
  {
   "cell_type": "code",
   "execution_count": 24,
   "metadata": {},
   "outputs": [],
   "source": [
    "ptbxl_records = get_all_records(ptbxl_dir)\n",
    "georgia_records = get_all_records(georgia_dir)"
   ]
  },
  {
   "cell_type": "code",
   "execution_count": 46,
   "metadata": {},
   "outputs": [],
   "source": [
    "class DemographicInfo(TypedDict):\n",
    "    age: int\n",
    "    sex: str\n",
    "\n",
    "def records_to_demographics_table(records: List[Path]) -> pd.DataFrame:\n",
    "    data = []\n",
    "    for record in records:\n",
    "        header = wfdb.rdheader(record)\n",
    "\n",
    "        # Extract demographic info\n",
    "        age_str = header.comments[0].split(': ')[1]\n",
    "        age = int( age_str ) if age_str.isnumeric() else None\n",
    "        sex = header.comments[1].split(': ')[1]\n",
    "        demographics: DemographicInfo = {\n",
    "            'age': age,\n",
    "            'sex': sex,\n",
    "        }\n",
    "\n",
    "        # Ignore obviously wrong ages\n",
    "        if not age == None:\n",
    "            if age > 150:\n",
    "                continue\n",
    "\n",
    "        data.append(demographics)\n",
    "\n",
    "        # # Extract diagnostic info\n",
    "        # diagnoses = extract_snomed_ct_codes_from_comment( header.comments[2] )\n",
    "        # # TODO: save relevant ecg results as flags\n",
    "    return pd.DataFrame(data)"
   ]
  },
  {
   "cell_type": "code",
   "execution_count": 48,
   "metadata": {},
   "outputs": [],
   "source": [
    "ptbxl_df = records_to_demographics_table(ptbxl_records)"
   ]
  },
  {
   "cell_type": "code",
   "execution_count": 49,
   "metadata": {},
   "outputs": [],
   "source": [
    "georgia_df = records_to_demographics_table(georgia_records)"
   ]
  },
  {
   "cell_type": "markdown",
   "metadata": {},
   "source": [
    "### Data integrity issues"
   ]
  },
  {
   "cell_type": "code",
   "execution_count": 19,
   "metadata": {},
   "outputs": [
    {
     "data": {
      "text/plain": [
       "['Age: 300',\n",
       " 'Sex: Female',\n",
       " 'Dx: 164873001,164934002,426783006',\n",
       " 'Rx: Unknown',\n",
       " 'Hx: Unknown',\n",
       " 'Sx: Unknown']"
      ]
     },
     "execution_count": 19,
     "metadata": {},
     "output_type": "execute_result"
    }
   ],
   "source": [
    "# Note: There seem to be errors in some of the comments. \n",
    "# Like this 300 year old lady.\n",
    "header = wfdb.rdheader(ptbxl_records[248])\n",
    "header.comments"
   ]
  },
  {
   "cell_type": "code",
   "execution_count": 20,
   "metadata": {},
   "outputs": [
    {
     "data": {
      "text/plain": [
       "['Age: NaN',\n",
       " 'Sex: Female',\n",
       " 'Dx: 39732003,426783006,429622005,445118002',\n",
       " 'Rx: Unknown',\n",
       " 'Hx: Unknown',\n",
       " 'Sx: Unknown']"
      ]
     },
     "execution_count": 20,
     "metadata": {},
     "output_type": "execute_result"
    }
   ],
   "source": [
    "# Some records don't have an age recorded. Represented with \"NaN\".\n",
    "header = wfdb.rdheader(\"data/challenge-2020/1.0.2/training/ptb-xl/g6/HR05040\")\n",
    "header.comments"
   ]
  },
  {
   "cell_type": "code",
   "execution_count": 21,
   "metadata": {},
   "outputs": [
    {
     "data": {
      "text/html": [
       "<div>\n",
       "<style scoped>\n",
       "    .dataframe tbody tr th:only-of-type {\n",
       "        vertical-align: middle;\n",
       "    }\n",
       "\n",
       "    .dataframe tbody tr th {\n",
       "        vertical-align: top;\n",
       "    }\n",
       "\n",
       "    .dataframe thead th {\n",
       "        text-align: right;\n",
       "    }\n",
       "</style>\n",
       "<table border=\"1\" class=\"dataframe\">\n",
       "  <thead>\n",
       "    <tr style=\"text-align: right;\">\n",
       "      <th></th>\n",
       "      <th>age</th>\n",
       "      <th>sex</th>\n",
       "    </tr>\n",
       "  </thead>\n",
       "  <tbody>\n",
       "    <tr>\n",
       "      <th>367</th>\n",
       "      <td>NaN</td>\n",
       "      <td>Female</td>\n",
       "    </tr>\n",
       "    <tr>\n",
       "      <th>511</th>\n",
       "      <td>NaN</td>\n",
       "      <td>Male</td>\n",
       "    </tr>\n",
       "    <tr>\n",
       "      <th>575</th>\n",
       "      <td>NaN</td>\n",
       "      <td>Female</td>\n",
       "    </tr>\n",
       "    <tr>\n",
       "      <th>656</th>\n",
       "      <td>NaN</td>\n",
       "      <td>Female</td>\n",
       "    </tr>\n",
       "    <tr>\n",
       "      <th>1003</th>\n",
       "      <td>NaN</td>\n",
       "      <td>Male</td>\n",
       "    </tr>\n",
       "  </tbody>\n",
       "</table>\n",
       "</div>"
      ],
      "text/plain": [
       "      age     sex\n",
       "367   NaN  Female\n",
       "511   NaN    Male\n",
       "575   NaN  Female\n",
       "656   NaN  Female\n",
       "1003  NaN    Male"
      ]
     },
     "execution_count": 21,
     "metadata": {},
     "output_type": "execute_result"
    }
   ],
   "source": [
    "# Some examples of NaN ages\n",
    "ptbxl_df[ptbxl_df.age.isna()].head()"
   ]
  },
  {
   "cell_type": "code",
   "execution_count": 71,
   "metadata": {},
   "outputs": [
    {
     "data": {
      "text/plain": [
       "89"
      ]
     },
     "execution_count": 71,
     "metadata": {},
     "output_type": "execute_result"
    }
   ],
   "source": [
    "len(ptbxl_df[ptbxl_df.age.isna()])"
   ]
  },
  {
   "cell_type": "code",
   "execution_count": 72,
   "metadata": {},
   "outputs": [
    {
     "data": {
      "text/plain": [
       "77"
      ]
     },
     "execution_count": 72,
     "metadata": {},
     "output_type": "execute_result"
    }
   ],
   "source": [
    "len(georgia_df[georgia_df.age.isna()])"
   ]
  },
  {
   "cell_type": "markdown",
   "metadata": {},
   "source": [
    "## Distributions"
   ]
  },
  {
   "cell_type": "markdown",
   "metadata": {},
   "source": [
    "TODO: seaborn plot of age distribution. Also sex."
   ]
  },
  {
   "cell_type": "code",
   "execution_count": 75,
   "metadata": {},
   "outputs": [
    {
     "data": {
      "text/html": [
       "<div>\n",
       "<style scoped>\n",
       "    .dataframe tbody tr th:only-of-type {\n",
       "        vertical-align: middle;\n",
       "    }\n",
       "\n",
       "    .dataframe tbody tr th {\n",
       "        vertical-align: top;\n",
       "    }\n",
       "\n",
       "    .dataframe thead th {\n",
       "        text-align: right;\n",
       "    }\n",
       "</style>\n",
       "<table border=\"1\" class=\"dataframe\">\n",
       "  <thead>\n",
       "    <tr style=\"text-align: right;\">\n",
       "      <th></th>\n",
       "      <th>age</th>\n",
       "    </tr>\n",
       "  </thead>\n",
       "  <tbody>\n",
       "    <tr>\n",
       "      <th>count</th>\n",
       "      <td>21544.000000</td>\n",
       "    </tr>\n",
       "    <tr>\n",
       "      <th>mean</th>\n",
       "      <td>59.540754</td>\n",
       "    </tr>\n",
       "    <tr>\n",
       "      <th>std</th>\n",
       "      <td>16.757152</td>\n",
       "    </tr>\n",
       "    <tr>\n",
       "      <th>min</th>\n",
       "      <td>2.000000</td>\n",
       "    </tr>\n",
       "    <tr>\n",
       "      <th>25%</th>\n",
       "      <td>50.000000</td>\n",
       "    </tr>\n",
       "    <tr>\n",
       "      <th>50%</th>\n",
       "      <td>61.000000</td>\n",
       "    </tr>\n",
       "    <tr>\n",
       "      <th>75%</th>\n",
       "      <td>72.000000</td>\n",
       "    </tr>\n",
       "    <tr>\n",
       "      <th>max</th>\n",
       "      <td>89.000000</td>\n",
       "    </tr>\n",
       "  </tbody>\n",
       "</table>\n",
       "</div>"
      ],
      "text/plain": [
       "                age\n",
       "count  21544.000000\n",
       "mean      59.540754\n",
       "std       16.757152\n",
       "min        2.000000\n",
       "25%       50.000000\n",
       "50%       61.000000\n",
       "75%       72.000000\n",
       "max       89.000000"
      ]
     },
     "execution_count": 75,
     "metadata": {},
     "output_type": "execute_result"
    }
   ],
   "source": [
    "ptbxl_df.describe()"
   ]
  },
  {
   "cell_type": "code",
   "execution_count": 50,
   "metadata": {},
   "outputs": [
    {
     "data": {
      "text/html": [
       "<div>\n",
       "<style scoped>\n",
       "    .dataframe tbody tr th:only-of-type {\n",
       "        vertical-align: middle;\n",
       "    }\n",
       "\n",
       "    .dataframe tbody tr th {\n",
       "        vertical-align: top;\n",
       "    }\n",
       "\n",
       "    .dataframe thead tr th {\n",
       "        text-align: left;\n",
       "    }\n",
       "\n",
       "    .dataframe thead tr:last-of-type th {\n",
       "        text-align: right;\n",
       "    }\n",
       "</style>\n",
       "<table border=\"1\" class=\"dataframe\">\n",
       "  <thead>\n",
       "    <tr>\n",
       "      <th></th>\n",
       "      <th colspan=\"8\" halign=\"left\">age</th>\n",
       "    </tr>\n",
       "    <tr>\n",
       "      <th></th>\n",
       "      <th>count</th>\n",
       "      <th>mean</th>\n",
       "      <th>std</th>\n",
       "      <th>min</th>\n",
       "      <th>25%</th>\n",
       "      <th>50%</th>\n",
       "      <th>75%</th>\n",
       "      <th>max</th>\n",
       "    </tr>\n",
       "    <tr>\n",
       "      <th>sex</th>\n",
       "      <th></th>\n",
       "      <th></th>\n",
       "      <th></th>\n",
       "      <th></th>\n",
       "      <th></th>\n",
       "      <th></th>\n",
       "      <th></th>\n",
       "      <th></th>\n",
       "    </tr>\n",
       "  </thead>\n",
       "  <tbody>\n",
       "    <tr>\n",
       "      <th>Female</th>\n",
       "      <td>10233.0</td>\n",
       "      <td>60.405942</td>\n",
       "      <td>18.026178</td>\n",
       "      <td>3.0</td>\n",
       "      <td>49.0</td>\n",
       "      <td>63.0</td>\n",
       "      <td>75.0</td>\n",
       "      <td>89.0</td>\n",
       "    </tr>\n",
       "    <tr>\n",
       "      <th>Male</th>\n",
       "      <td>11311.0</td>\n",
       "      <td>58.758023</td>\n",
       "      <td>15.479123</td>\n",
       "      <td>2.0</td>\n",
       "      <td>50.0</td>\n",
       "      <td>60.0</td>\n",
       "      <td>69.0</td>\n",
       "      <td>89.0</td>\n",
       "    </tr>\n",
       "  </tbody>\n",
       "</table>\n",
       "</div>"
      ],
      "text/plain": [
       "            age                                                   \n",
       "          count       mean        std  min   25%   50%   75%   max\n",
       "sex                                                               \n",
       "Female  10233.0  60.405942  18.026178  3.0  49.0  63.0  75.0  89.0\n",
       "Male    11311.0  58.758023  15.479123  2.0  50.0  60.0  69.0  89.0"
      ]
     },
     "execution_count": 50,
     "metadata": {},
     "output_type": "execute_result"
    }
   ],
   "source": [
    "ptbxl_df.groupby(\"sex\").describe()\n",
    "\n",
    "# TODO: Remove paediatric cases. Either below 18 (UK) or below 21 (US).\n",
    "# TODO: Remove obvious outlier ages. HIPAA guidelines say to remove ages over 89."
   ]
  },
  {
   "cell_type": "code",
   "execution_count": 51,
   "metadata": {},
   "outputs": [
    {
     "data": {
      "text/html": [
       "<div>\n",
       "<style scoped>\n",
       "    .dataframe tbody tr th:only-of-type {\n",
       "        vertical-align: middle;\n",
       "    }\n",
       "\n",
       "    .dataframe tbody tr th {\n",
       "        vertical-align: top;\n",
       "    }\n",
       "\n",
       "    .dataframe thead tr th {\n",
       "        text-align: left;\n",
       "    }\n",
       "\n",
       "    .dataframe thead tr:last-of-type th {\n",
       "        text-align: right;\n",
       "    }\n",
       "</style>\n",
       "<table border=\"1\" class=\"dataframe\">\n",
       "  <thead>\n",
       "    <tr>\n",
       "      <th></th>\n",
       "      <th colspan=\"8\" halign=\"left\">age</th>\n",
       "    </tr>\n",
       "    <tr>\n",
       "      <th></th>\n",
       "      <th>count</th>\n",
       "      <th>mean</th>\n",
       "      <th>std</th>\n",
       "      <th>min</th>\n",
       "      <th>25%</th>\n",
       "      <th>50%</th>\n",
       "      <th>75%</th>\n",
       "      <th>max</th>\n",
       "    </tr>\n",
       "    <tr>\n",
       "      <th>sex</th>\n",
       "      <th></th>\n",
       "      <th></th>\n",
       "      <th></th>\n",
       "      <th></th>\n",
       "      <th></th>\n",
       "      <th></th>\n",
       "      <th></th>\n",
       "      <th></th>\n",
       "    </tr>\n",
       "  </thead>\n",
       "  <tbody>\n",
       "    <tr>\n",
       "      <th>Female</th>\n",
       "      <td>4750.0</td>\n",
       "      <td>60.280000</td>\n",
       "      <td>16.135244</td>\n",
       "      <td>20.0</td>\n",
       "      <td>50.0</td>\n",
       "      <td>62.0</td>\n",
       "      <td>72.0</td>\n",
       "      <td>89.0</td>\n",
       "    </tr>\n",
       "    <tr>\n",
       "      <th>Male</th>\n",
       "      <td>5517.0</td>\n",
       "      <td>60.664854</td>\n",
       "      <td>14.803825</td>\n",
       "      <td>14.0</td>\n",
       "      <td>52.0</td>\n",
       "      <td>62.0</td>\n",
       "      <td>71.0</td>\n",
       "      <td>89.0</td>\n",
       "    </tr>\n",
       "  </tbody>\n",
       "</table>\n",
       "</div>"
      ],
      "text/plain": [
       "           age                                                    \n",
       "         count       mean        std   min   25%   50%   75%   max\n",
       "sex                                                               \n",
       "Female  4750.0  60.280000  16.135244  20.0  50.0  62.0  72.0  89.0\n",
       "Male    5517.0  60.664854  14.803825  14.0  52.0  62.0  71.0  89.0"
      ]
     },
     "execution_count": 51,
     "metadata": {},
     "output_type": "execute_result"
    }
   ],
   "source": [
    "georgia_df.groupby(\"sex\").describe()"
   ]
  },
  {
   "cell_type": "code",
   "execution_count": 74,
   "metadata": {},
   "outputs": [
    {
     "data": {
      "text/plain": [
       "Text(0.5, 1.0, 'Age distribution (georgia)')"
      ]
     },
     "execution_count": 74,
     "metadata": {},
     "output_type": "execute_result"
    },
    {
     "data": {
      "image/png": "[encoded data removed]",
      "text/plain": [
       "<Figure size 605.875x500 with 1 Axes>"
      ]
     },
     "metadata": {},
     "output_type": "display_data"
    }
   ],
   "source": [
    "sns.set_theme(style=\"ticks\")\n",
    "\n",
    "sns.displot(georgia_df, x=\"age\", hue=\"sex\")\n",
    "plt.title(\"Age distribution (georgia)\")"
   ]
  },
  {
   "cell_type": "code",
   "execution_count": 67,
   "metadata": {},
   "outputs": [
    {
     "data": {
      "text/plain": [
       "Text(0.5, 1.0, 'Estimated PDF for georgia dataset')"
      ]
     },
     "execution_count": 67,
     "metadata": {},
     "output_type": "execute_result"
    },
    {
     "data": {
      "image/png": "[encoded data removed]",
      "text/plain": [
       "<Figure size 605.875x500 with 1 Axes>"
      ]
     },
     "metadata": {},
     "output_type": "display_data"
    }
   ],
   "source": [
    "sns.set_theme(style=\"ticks\")\n",
    "\n",
    "sns.displot(ptbxl_df, x=\"age\", hue=\"sex\", kind=\"kde\", fill=True, bw_adjust=1)\n",
    "plt.title(\"Estimated PDF for georgia dataset\")"
   ]
  }
 ],
 "metadata": {
  "kernelspec": {
   "display_name": ".venv",
   "language": "python",
   "name": "python3"
  },
  "language_info": {
   "codemirror_mode": {
    "name": "ipython",
    "version": 3
   },
   "file_extension": ".py",
   "mimetype": "text/x-python",
   "name": "python",
   "nbconvert_exporter": "python",
   "pygments_lexer": "ipython3",
   "version": "3.10.16"
  }
 },
 "nbformat": 4,
 "nbformat_minor": 2
}
