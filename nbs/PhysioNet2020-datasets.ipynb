{
 "cells": [
  {
   "cell_type": "markdown",
   "metadata": {},
   "source": [
    "# Typical training data for ECG classifiers"
   ]
  },
  {
   "cell_type": "markdown",
   "metadata": {},
   "source": [
    "## Notebook setup"
   ]
  },
  {
   "cell_type": "code",
   "execution_count": 1,
   "metadata": {},
   "outputs": [],
   "source": [
    "import os\n",
    "import configparser\n",
    "from pathlib import Path\n",
    "from typing import List, TypedDict\n",
    "from enum import Enum\n",
    "\n",
    "import wfdb\n",
    "import numpy as np\n",
    "import pandas as pd\n",
    "import matplotlib.pyplot as plt\n",
    "import seaborn as sns"
   ]
  },
  {
   "cell_type": "code",
   "execution_count": 2,
   "metadata": {},
   "outputs": [
    {
     "name": "stdout",
     "output_type": "stream",
     "text": [
      "The current working directory is /Users/shaun/source/Thesis/PhysioNetChallenge2020\n"
     ]
    }
   ],
   "source": [
    "#|include: false\n",
    "# If the current working directory is the nbs/ folder, change to the project \n",
    "# root directory instead.\n",
    "\n",
    "if Path.cwd().stem == \"nbs\":\n",
    "    os.chdir(Path.cwd().parent)\n",
    "print(f\"The current working directory is {Path.cwd()}\")"
   ]
  },
  {
   "cell_type": "code",
   "execution_count": 3,
   "metadata": {},
   "outputs": [
    {
     "name": "stdout",
     "output_type": "stream",
     "text": [
      "Datasets are located at /Users/shaun/source/Thesis/PhysioNetChallenge2020/data\n"
     ]
    }
   ],
   "source": [
    "#|include: false\n",
    "# Import configuration settings, like location of data directory.\n",
    "config = configparser.ConfigParser()\n",
    "if not Path(\"config.ini\").exists():\n",
    "    print(\"WARNING: Please generate a config.ini file by running scripts/get_datasets.py\")\n",
    "else:\n",
    "    config.read(\"config.ini\")\n",
    "    data_dir = Path((config[\"datasets\"][\"path\"])).expanduser()\n",
    "    print(f\"Datasets are located at {data_dir.resolve()}\")"
   ]
  },
  {
   "cell_type": "markdown",
   "metadata": {},
   "source": [
    "## Dataset quickstart"
   ]
  },
  {
   "cell_type": "markdown",
   "metadata": {},
   "source": [
    "***Table: Characteristics of 12-lead ECG recordings used for PhysioNet Challenge 2020***\n",
    "\n",
    "| Dataset | Sampling frequency \\[Hz\\] | Recording length \\[s\\] | Notes |\n",
    "|-|-|-|-|\n",
    "| `cpsc`/`cpsc_extra` | 500 | 6 to 60 | Per HIPAA guidelines ages over 89 are removed |\n",
    "| `incart` | 257 | 1800 | Holter recordings, annotations included |\n",
    "| `ptb` | 1000 | ? |  |\n",
    "| `ptbxl` | 500 | 10 |  |\n",
    "| `georgia` | 500 | 10 | Southeastern US patient demographic |\n",
    "\n",
    "Probably just use `ptbxl` and `georgia` for this project.\n"
   ]
  },
  {
   "cell_type": "code",
   "execution_count": 4,
   "metadata": {},
   "outputs": [],
   "source": [
    "# Path to each training dataset\n",
    "\n",
    "training_dir = data_dir / \"challenge-2020\" / \"1.0.2\" / \"training\"\n",
    "\n",
    "georgia_dir = training_dir / \"georgia\"\n",
    "cpsc_dir = training_dir / \"cpsc_2018\"\n",
    "cpscextra_dir = training_dir / \"cpsc_2018_extra\"\n",
    "ptb_dir = training_dir / \"ptb\"\n",
    "ptbxl_dir = training_dir / \"ptb-xl\"\n",
    "incart_dir = training_dir / \"st_petersburg_incart\""
   ]
  },
  {
   "cell_type": "markdown",
   "metadata": {},
   "source": [
    "`wfdb.rdheader` to read metadata about record.\n",
    "\n",
    "`wfdb.rdrecord` to read signal data."
   ]
  },
  {
   "cell_type": "code",
   "execution_count": 5,
   "metadata": {},
   "outputs": [],
   "source": [
    "# record = wfdb.rdheader(georgia_dir / \"g1\" / \"E00001\")\n",
    "# record = wfdb.rdheader(ptbxl_dir / \"g1\" / \"HR00001\")\n",
    "\n",
    "record = wfdb.rdrecord(ptbxl_dir / \"g1\" / \"HR00001\")"
   ]
  },
  {
   "cell_type": "code",
   "execution_count": 6,
   "metadata": {},
   "outputs": [
    {
     "data": {
      "text/html": [
       "<div>\n",
       "<style scoped>\n",
       "    .dataframe tbody tr th:only-of-type {\n",
       "        vertical-align: middle;\n",
       "    }\n",
       "\n",
       "    .dataframe tbody tr th {\n",
       "        vertical-align: top;\n",
       "    }\n",
       "\n",
       "    .dataframe thead th {\n",
       "        text-align: right;\n",
       "    }\n",
       "</style>\n",
       "<table border=\"1\" class=\"dataframe\">\n",
       "  <thead>\n",
       "    <tr style=\"text-align: right;\">\n",
       "      <th></th>\n",
       "      <th>I</th>\n",
       "      <th>II</th>\n",
       "      <th>III</th>\n",
       "      <th>aVR</th>\n",
       "      <th>aVL</th>\n",
       "      <th>aVF</th>\n",
       "      <th>V1</th>\n",
       "      <th>V2</th>\n",
       "      <th>V3</th>\n",
       "      <th>V4</th>\n",
       "      <th>V5</th>\n",
       "      <th>V6</th>\n",
       "    </tr>\n",
       "  </thead>\n",
       "  <tbody>\n",
       "    <tr>\n",
       "      <th>0 days 00:00:00</th>\n",
       "      <td>-0.115</td>\n",
       "      <td>-0.05</td>\n",
       "      <td>0.065</td>\n",
       "      <td>0.082</td>\n",
       "      <td>-0.09</td>\n",
       "      <td>0.007</td>\n",
       "      <td>-0.065</td>\n",
       "      <td>-0.04</td>\n",
       "      <td>-0.005</td>\n",
       "      <td>-0.035</td>\n",
       "      <td>-0.035</td>\n",
       "      <td>-0.075</td>\n",
       "    </tr>\n",
       "    <tr>\n",
       "      <th>0 days 00:00:00.002000</th>\n",
       "      <td>-0.115</td>\n",
       "      <td>-0.05</td>\n",
       "      <td>0.065</td>\n",
       "      <td>0.082</td>\n",
       "      <td>-0.09</td>\n",
       "      <td>0.007</td>\n",
       "      <td>-0.065</td>\n",
       "      <td>-0.04</td>\n",
       "      <td>-0.005</td>\n",
       "      <td>-0.035</td>\n",
       "      <td>-0.035</td>\n",
       "      <td>-0.075</td>\n",
       "    </tr>\n",
       "    <tr>\n",
       "      <th>0 days 00:00:00.004000</th>\n",
       "      <td>-0.115</td>\n",
       "      <td>-0.05</td>\n",
       "      <td>0.065</td>\n",
       "      <td>0.082</td>\n",
       "      <td>-0.09</td>\n",
       "      <td>0.007</td>\n",
       "      <td>-0.065</td>\n",
       "      <td>-0.04</td>\n",
       "      <td>-0.005</td>\n",
       "      <td>-0.035</td>\n",
       "      <td>-0.035</td>\n",
       "      <td>-0.075</td>\n",
       "    </tr>\n",
       "    <tr>\n",
       "      <th>0 days 00:00:00.006000</th>\n",
       "      <td>-0.115</td>\n",
       "      <td>-0.05</td>\n",
       "      <td>0.065</td>\n",
       "      <td>0.082</td>\n",
       "      <td>-0.09</td>\n",
       "      <td>0.007</td>\n",
       "      <td>-0.065</td>\n",
       "      <td>-0.04</td>\n",
       "      <td>-0.005</td>\n",
       "      <td>-0.035</td>\n",
       "      <td>-0.035</td>\n",
       "      <td>-0.075</td>\n",
       "    </tr>\n",
       "    <tr>\n",
       "      <th>0 days 00:00:00.008000</th>\n",
       "      <td>-0.115</td>\n",
       "      <td>-0.05</td>\n",
       "      <td>0.065</td>\n",
       "      <td>0.082</td>\n",
       "      <td>-0.09</td>\n",
       "      <td>0.007</td>\n",
       "      <td>-0.065</td>\n",
       "      <td>-0.04</td>\n",
       "      <td>-0.005</td>\n",
       "      <td>-0.035</td>\n",
       "      <td>-0.035</td>\n",
       "      <td>-0.075</td>\n",
       "    </tr>\n",
       "  </tbody>\n",
       "</table>\n",
       "</div>"
      ],
      "text/plain": [
       "                            I    II    III    aVR   aVL    aVF     V1    V2  \\\n",
       "0 days 00:00:00        -0.115 -0.05  0.065  0.082 -0.09  0.007 -0.065 -0.04   \n",
       "0 days 00:00:00.002000 -0.115 -0.05  0.065  0.082 -0.09  0.007 -0.065 -0.04   \n",
       "0 days 00:00:00.004000 -0.115 -0.05  0.065  0.082 -0.09  0.007 -0.065 -0.04   \n",
       "0 days 00:00:00.006000 -0.115 -0.05  0.065  0.082 -0.09  0.007 -0.065 -0.04   \n",
       "0 days 00:00:00.008000 -0.115 -0.05  0.065  0.082 -0.09  0.007 -0.065 -0.04   \n",
       "\n",
       "                           V3     V4     V5     V6  \n",
       "0 days 00:00:00        -0.005 -0.035 -0.035 -0.075  \n",
       "0 days 00:00:00.002000 -0.005 -0.035 -0.035 -0.075  \n",
       "0 days 00:00:00.004000 -0.005 -0.035 -0.035 -0.075  \n",
       "0 days 00:00:00.006000 -0.005 -0.035 -0.035 -0.075  \n",
       "0 days 00:00:00.008000 -0.005 -0.035 -0.035 -0.075  "
      ]
     },
     "execution_count": 6,
     "metadata": {},
     "output_type": "execute_result"
    }
   ],
   "source": [
    "# Signal data as pandas dataframe\n",
    "signals = record.to_dataframe()\n",
    "signals.head()"
   ]
  },
  {
   "cell_type": "code",
   "execution_count": 7,
   "metadata": {},
   "outputs": [
    {
     "data": {
      "text/plain": [
       "0 days 00:00:00          -0.115\n",
       "0 days 00:00:00.002000   -0.115\n",
       "0 days 00:00:00.004000   -0.115\n",
       "0 days 00:00:00.006000   -0.115\n",
       "0 days 00:00:00.008000   -0.115\n",
       "Freq: 2ms, Name: I, dtype: float64"
      ]
     },
     "execution_count": 7,
     "metadata": {},
     "output_type": "execute_result"
    }
   ],
   "source": [
    "# Each individual signal is a `Series` object\n",
    "signals.I.head()"
   ]
  },
  {
   "cell_type": "code",
   "execution_count": 8,
   "metadata": {},
   "outputs": [
    {
     "data": {
      "text/plain": [
       "['mv', 'mv', 'mv', 'mv', 'mv', 'mv', 'mv', 'mv', 'mv', 'mv', 'mv', 'mv']"
      ]
     },
     "execution_count": 8,
     "metadata": {},
     "output_type": "execute_result"
    }
   ],
   "source": [
    "# Units for each channel (should all be in mV)\n",
    "record.units"
   ]
  },
  {
   "cell_type": "code",
   "execution_count": 9,
   "metadata": {},
   "outputs": [
    {
     "data": {
      "text/plain": [
       "500"
      ]
     },
     "execution_count": 9,
     "metadata": {},
     "output_type": "execute_result"
    }
   ],
   "source": [
    "# Sampling frequency (Hz)\n",
    "record.fs\n",
    "\n",
    "# If not 500 Hz, resample.\n",
    "# https://pandas.pydata.org/docs/getting_started/intro_tutorials/09_timeseries.html#resample-a-time-series-to-another-frequency"
   ]
  },
  {
   "cell_type": "code",
   "execution_count": 10,
   "metadata": {},
   "outputs": [
    {
     "name": "stdout",
     "output_type": "stream",
     "text": [
      "Length (s): 10.0\n"
     ]
    }
   ],
   "source": [
    "# Length of recording (should always be 10 s)\n",
    "print(f\"Length (s): {len(record.to_dataframe()) * (1/record.fs)}\")"
   ]
  },
  {
   "cell_type": "markdown",
   "metadata": {},
   "source": [
    "## Medical terminologies and codes"
   ]
  },
  {
   "cell_type": "markdown",
   "metadata": {},
   "source": [
    "SNOMED-CT codes are provided as labels for each training dataset.\n",
    "\n",
    "Dx stands for diagnosis?"
   ]
  },
  {
   "cell_type": "code",
   "execution_count": 11,
   "metadata": {},
   "outputs": [
    {
     "data": {
      "text/plain": [
       "['Age: 56',\n",
       " 'Sex: Female',\n",
       " 'Dx: 251146004,426783006',\n",
       " 'Rx: Unknown',\n",
       " 'Hx: Unknown',\n",
       " 'Sx: Unknown']"
      ]
     },
     "execution_count": 11,
     "metadata": {},
     "output_type": "execute_result"
    }
   ],
   "source": [
    "record = wfdb.rdheader(ptbxl_dir / \"g1\" / \"HR00001\")\n",
    "record.comments # [2] is the diagnosis comment"
   ]
  },
  {
   "cell_type": "markdown",
   "metadata": {},
   "source": [
    "We could use a package such as [PyMedTermino2](https://owlready2.readthedocs.io/en/latest/pymedtermino2.html) to access medical terminologies from a UMLS database. \n",
    "However, we only need a very small subset of diagnosis codes. We'll just keep a \n",
    "Python dictionary of ~10 codes."
   ]
  },
  {
   "cell_type": "code",
   "execution_count": 12,
   "metadata": {},
   "outputs": [],
   "source": [
    "diagnosis_codes = {\n",
    "    # Sinus rhythm\n",
    "    426177001:  \"Sinus bradycardia\",\n",
    "    426783006:  \"Normal sinus rhythm\",\n",
    "    427084000:  \"Sinus tachycardia\",\n",
    "    427393009:  \"Sinus arrhythmia\",\n",
    "\n",
    "    # Conduction pathway (specifically right bundle branch)\n",
    "    713427006:  \"Complete right bundle branch block\",\n",
    "    713426002:  \"Incomplete right bundle branch block\",\n",
    "\n",
    "    # T-wave (should be for each lead)\n",
    "    164934002:  \"T-wave abnormal\",\n",
    "    59931005:   \"T-wave inversion\",\n",
    "}"
   ]
  },
  {
   "cell_type": "code",
   "execution_count": 13,
   "metadata": {},
   "outputs": [],
   "source": [
    "# \n",
    "\n",
    "class SinusRhythmFinding(Enum):\n",
    "    bradycardia = 0\n",
    "    normal = 1\n",
    "    tachycardia = 2\n",
    "    arrhythmia = 3      # Broad description, can overlap with brady/tachy.\n",
    "\n",
    "class RBBBFinding(Enum):\n",
    "    none = 0\n",
    "    incomplete = 1\n",
    "    complete = 2\n",
    "\n",
    "class TWaveFinding(Enum):\n",
    "    none = 0\n",
    "    inversion = 1\n",
    "    other = 2\n",
    "\n",
    "def classify_rbbb_finding():\n",
    "    pass"
   ]
  },
  {
   "cell_type": "code",
   "execution_count": 14,
   "metadata": {},
   "outputs": [],
   "source": [
    "def extract_snomed_ct_codes_from_comment(dx_comment: str) -> List[int]:\n",
    "    \"\"\"Returns a list of SNOMED-CT codes related to ECG diagnoses.\n",
    "\n",
    "    Assumes that `dx_comment` is in the form \"Dx: code1,code2,etc.\"\n",
    "\n",
    "    Example usage:\n",
    "    ```\n",
    "    record = wfdb.rdheader(ptbxl_dir / \"g1\" / \"HR00001\")\n",
    "    dx_comment = record.comments[2]\n",
    "    dx_comment\n",
    "    > 'Dx: 251146004,426783006'\n",
    "\n",
    "    extract_snomed_ct_codes_from_comment(dx_comment)\n",
    "    > [251146004, 426783006]\n",
    "    ```\n",
    "    \"\"\"\n",
    "    # Just the diagnosis codes (ignore the \"Dx: \" prefix)\n",
    "    comment = dx_comment.split(': ')[1]\n",
    "\n",
    "    # Split codes into list, convert to integers\n",
    "    code_text = comment.split(',')\n",
    "    return list(map(int, code_text))\n"
   ]
  },
  {
   "cell_type": "code",
   "execution_count": 15,
   "metadata": {},
   "outputs": [
    {
     "data": {
      "text/plain": [
       "[251146004, 426783006]"
      ]
     },
     "execution_count": 15,
     "metadata": {},
     "output_type": "execute_result"
    }
   ],
   "source": [
    "# Example usage\n",
    "extract_snomed_ct_codes_from_comment(record.comments[2])"
   ]
  },
  {
   "cell_type": "markdown",
   "metadata": {},
   "source": [
    "## Extract demographics and labels for population analysis"
   ]
  },
  {
   "cell_type": "code",
   "execution_count": 16,
   "metadata": {},
   "outputs": [],
   "source": [
    "def get_all_records(dataset_dir: Path) -> List[Path]:\n",
    "    \"\"\"Returns a list of every record in a PhysioNet Challenge 2020 dataset\n",
    "    \"\"\"\n",
    "    records = []\n",
    "    # For every folder (e.g. g1/, g2/, etc.)\n",
    "    for folder in dataset_dir.iterdir():\n",
    "        if folder.is_dir():\n",
    "            # print(f\"Searching folder: {folder}\")\n",
    "            # For every record (each record has a `.hea` header file)\n",
    "            for file in folder.iterdir():\n",
    "                if file.suffix == '.hea':\n",
    "                    records.append( folder / file.stem )\n",
    "    # print(f\"Found {len(records)} records\")\n",
    "    return records"
   ]
  },
  {
   "cell_type": "code",
   "execution_count": 17,
   "metadata": {},
   "outputs": [],
   "source": [
    "class DemographicInfo(TypedDict):\n",
    "    age: int\n",
    "    sex: str\n",
    "\n",
    "def generate_labels_table(records: List[Path]) -> pd.DataFrame:\n",
    "    data = []\n",
    "    for record in records:\n",
    "        header = wfdb.rdheader(record)\n",
    "\n",
    "        # Extract demographic info\n",
    "        age_str = header.comments[0].split(': ')[1]\n",
    "        age = int( age_str ) if age_str.isnumeric() else None\n",
    "        sex = header.comments[1].split(': ')[1]\n",
    "        demographics: DemographicInfo = {\n",
    "            'age': age,\n",
    "            'sex': sex,\n",
    "        }\n",
    "\n",
    "        # Filter out some records by age (e.g. 300 year old is a typo, kids)\n",
    "        if not age == None:\n",
    "            if (age > 90) or (age < 18):\n",
    "                continue\n",
    "        \n",
    "        # Extract ECG diagnostic info (labels)\n",
    "        diagnoses = extract_snomed_ct_codes_from_comment( header.comments[2] )\n",
    "        relevant_findings = {\n",
    "            # Sinus rhythm\n",
    "            \"426177001\":  False,  # \"Sinus bradycardia\",\n",
    "            \"426783006\":  False,  # \"Normal sinus rhythm\",\n",
    "            \"427084000\":  False,  # \"Sinus tachycardia\",\n",
    "            \"427393009\":  False,  # \"Sinus arrhythmia\",\n",
    "\n",
    "            # Conduction pathway (specifically right bundle branch)\n",
    "            \"713427006\":  False,  # \"Complete right bundle branch block\",\n",
    "            \"713426002\":  False,  # \"Incomplete right bundle branch block\",\n",
    "\n",
    "            # T-wave (should be for each lead)\n",
    "            \"164934002\":  False,  # \"T-wave abnormal\",\n",
    "            \"59931005\":   False,  # \"T-wave inversion\",\n",
    "        }\n",
    "        for code in diagnoses:\n",
    "            if code in diagnosis_codes:\n",
    "                relevant_findings[f\"{code}\"] = True\n",
    "        \n",
    "        # Save data\n",
    "        data.append( {**demographics, **relevant_findings} )\n",
    "\n",
    "    return pd.DataFrame(data)"
   ]
  },
  {
   "cell_type": "code",
   "execution_count": 18,
   "metadata": {},
   "outputs": [],
   "source": [
    "# Get demographics and labels for every dataset used to train DSAIL_SNU model\n",
    "\n",
    "ptbxl_records = get_all_records(ptbxl_dir)\n",
    "georgia_records = get_all_records(georgia_dir)\n",
    "cpsc_records = get_all_records(cpsc_dir)\n",
    "cpscextra_records = get_all_records(cpscextra_dir)\n",
    "\n",
    "ptbxl_df = generate_labels_table(ptbxl_records)\n",
    "georgia_df = generate_labels_table(georgia_records)\n",
    "cpsc_df = generate_labels_table(cpsc_records)\n",
    "cpscextra_df = generate_labels_table(cpscextra_records)"
   ]
  },
  {
   "cell_type": "code",
   "execution_count": 19,
   "metadata": {},
   "outputs": [
    {
     "data": {
      "text/html": [
       "<div>\n",
       "<style scoped>\n",
       "    .dataframe tbody tr th:only-of-type {\n",
       "        vertical-align: middle;\n",
       "    }\n",
       "\n",
       "    .dataframe tbody tr th {\n",
       "        vertical-align: top;\n",
       "    }\n",
       "\n",
       "    .dataframe thead th {\n",
       "        text-align: right;\n",
       "    }\n",
       "</style>\n",
       "<table border=\"1\" class=\"dataframe\">\n",
       "  <thead>\n",
       "    <tr style=\"text-align: right;\">\n",
       "      <th></th>\n",
       "      <th>age</th>\n",
       "      <th>sex</th>\n",
       "      <th>426177001</th>\n",
       "      <th>426783006</th>\n",
       "      <th>427084000</th>\n",
       "      <th>427393009</th>\n",
       "      <th>713427006</th>\n",
       "      <th>713426002</th>\n",
       "      <th>164934002</th>\n",
       "      <th>59931005</th>\n",
       "    </tr>\n",
       "  </thead>\n",
       "  <tbody>\n",
       "    <tr>\n",
       "      <th>0</th>\n",
       "      <td>24.0</td>\n",
       "      <td>Male</td>\n",
       "      <td>False</td>\n",
       "      <td>False</td>\n",
       "      <td>False</td>\n",
       "      <td>False</td>\n",
       "      <td>False</td>\n",
       "      <td>False</td>\n",
       "      <td>False</td>\n",
       "      <td>False</td>\n",
       "    </tr>\n",
       "    <tr>\n",
       "      <th>1</th>\n",
       "      <td>72.0</td>\n",
       "      <td>Male</td>\n",
       "      <td>False</td>\n",
       "      <td>False</td>\n",
       "      <td>True</td>\n",
       "      <td>False</td>\n",
       "      <td>False</td>\n",
       "      <td>False</td>\n",
       "      <td>False</td>\n",
       "      <td>False</td>\n",
       "    </tr>\n",
       "    <tr>\n",
       "      <th>2</th>\n",
       "      <td>84.0</td>\n",
       "      <td>Female</td>\n",
       "      <td>False</td>\n",
       "      <td>False</td>\n",
       "      <td>False</td>\n",
       "      <td>False</td>\n",
       "      <td>False</td>\n",
       "      <td>False</td>\n",
       "      <td>False</td>\n",
       "      <td>False</td>\n",
       "    </tr>\n",
       "    <tr>\n",
       "      <th>3</th>\n",
       "      <td>80.0</td>\n",
       "      <td>Male</td>\n",
       "      <td>False</td>\n",
       "      <td>False</td>\n",
       "      <td>False</td>\n",
       "      <td>False</td>\n",
       "      <td>False</td>\n",
       "      <td>False</td>\n",
       "      <td>False</td>\n",
       "      <td>False</td>\n",
       "    </tr>\n",
       "    <tr>\n",
       "      <th>4</th>\n",
       "      <td>55.0</td>\n",
       "      <td>Female</td>\n",
       "      <td>False</td>\n",
       "      <td>False</td>\n",
       "      <td>False</td>\n",
       "      <td>False</td>\n",
       "      <td>False</td>\n",
       "      <td>False</td>\n",
       "      <td>False</td>\n",
       "      <td>False</td>\n",
       "    </tr>\n",
       "  </tbody>\n",
       "</table>\n",
       "</div>"
      ],
      "text/plain": [
       "    age     sex  426177001  426783006  427084000  427393009  713427006  \\\n",
       "0  24.0    Male      False      False      False      False      False   \n",
       "1  72.0    Male      False      False       True      False      False   \n",
       "2  84.0  Female      False      False      False      False      False   \n",
       "3  80.0    Male      False      False      False      False      False   \n",
       "4  55.0  Female      False      False      False      False      False   \n",
       "\n",
       "   713426002  164934002  59931005  \n",
       "0      False      False     False  \n",
       "1      False      False     False  \n",
       "2      False      False     False  \n",
       "3      False      False     False  \n",
       "4      False      False     False  "
      ]
     },
     "execution_count": 19,
     "metadata": {},
     "output_type": "execute_result"
    }
   ],
   "source": [
    "cpscextra_df.head()"
   ]
  },
  {
   "cell_type": "markdown",
   "metadata": {},
   "source": [
    "### Data integrity issues"
   ]
  },
  {
   "cell_type": "markdown",
   "metadata": {},
   "source": [
    "Issue 1: Impossible age recorded. Probably a typo, not many."
   ]
  },
  {
   "cell_type": "code",
   "execution_count": 20,
   "metadata": {},
   "outputs": [
    {
     "data": {
      "text/plain": [
       "['Age: 300',\n",
       " 'Sex: Female',\n",
       " 'Dx: 164873001,164934002,426783006',\n",
       " 'Rx: Unknown',\n",
       " 'Hx: Unknown',\n",
       " 'Sx: Unknown']"
      ]
     },
     "execution_count": 20,
     "metadata": {},
     "output_type": "execute_result"
    }
   ],
   "source": [
    "# Note: There seem to be errors in some of the comments. \n",
    "# Like this 300 year old lady.\n",
    "header = wfdb.rdheader(ptbxl_records[248])\n",
    "header.comments"
   ]
  },
  {
   "cell_type": "markdown",
   "metadata": {},
   "source": [
    "Issue 2: No age recorded. Not a huge issue, less than 200 records across both datasets."
   ]
  },
  {
   "cell_type": "code",
   "execution_count": 21,
   "metadata": {},
   "outputs": [
    {
     "data": {
      "text/plain": [
       "['Age: NaN',\n",
       " 'Sex: Female',\n",
       " 'Dx: 39732003,426783006,429622005,445118002',\n",
       " 'Rx: Unknown',\n",
       " 'Hx: Unknown',\n",
       " 'Sx: Unknown']"
      ]
     },
     "execution_count": 21,
     "metadata": {},
     "output_type": "execute_result"
    }
   ],
   "source": [
    "# Some records don't have an age recorded. Represented with \"NaN\".\n",
    "header = wfdb.rdheader(\"data/challenge-2020/1.0.2/training/ptb-xl/g6/HR05040\")\n",
    "header.comments"
   ]
  },
  {
   "cell_type": "code",
   "execution_count": 22,
   "metadata": {},
   "outputs": [
    {
     "data": {
      "text/html": [
       "<div>\n",
       "<style scoped>\n",
       "    .dataframe tbody tr th:only-of-type {\n",
       "        vertical-align: middle;\n",
       "    }\n",
       "\n",
       "    .dataframe tbody tr th {\n",
       "        vertical-align: top;\n",
       "    }\n",
       "\n",
       "    .dataframe thead th {\n",
       "        text-align: right;\n",
       "    }\n",
       "</style>\n",
       "<table border=\"1\" class=\"dataframe\">\n",
       "  <thead>\n",
       "    <tr style=\"text-align: right;\">\n",
       "      <th></th>\n",
       "      <th>age</th>\n",
       "      <th>sex</th>\n",
       "      <th>426177001</th>\n",
       "      <th>426783006</th>\n",
       "      <th>427084000</th>\n",
       "      <th>427393009</th>\n",
       "      <th>713427006</th>\n",
       "      <th>713426002</th>\n",
       "      <th>164934002</th>\n",
       "      <th>59931005</th>\n",
       "    </tr>\n",
       "  </thead>\n",
       "  <tbody>\n",
       "    <tr>\n",
       "      <th>364</th>\n",
       "      <td>NaN</td>\n",
       "      <td>Female</td>\n",
       "      <td>False</td>\n",
       "      <td>True</td>\n",
       "      <td>False</td>\n",
       "      <td>False</td>\n",
       "      <td>False</td>\n",
       "      <td>False</td>\n",
       "      <td>False</td>\n",
       "      <td>False</td>\n",
       "    </tr>\n",
       "    <tr>\n",
       "      <th>507</th>\n",
       "      <td>NaN</td>\n",
       "      <td>Male</td>\n",
       "      <td>False</td>\n",
       "      <td>False</td>\n",
       "      <td>False</td>\n",
       "      <td>False</td>\n",
       "      <td>False</td>\n",
       "      <td>False</td>\n",
       "      <td>False</td>\n",
       "      <td>False</td>\n",
       "    </tr>\n",
       "    <tr>\n",
       "      <th>570</th>\n",
       "      <td>NaN</td>\n",
       "      <td>Female</td>\n",
       "      <td>False</td>\n",
       "      <td>True</td>\n",
       "      <td>False</td>\n",
       "      <td>False</td>\n",
       "      <td>False</td>\n",
       "      <td>False</td>\n",
       "      <td>False</td>\n",
       "      <td>False</td>\n",
       "    </tr>\n",
       "    <tr>\n",
       "      <th>649</th>\n",
       "      <td>NaN</td>\n",
       "      <td>Female</td>\n",
       "      <td>False</td>\n",
       "      <td>False</td>\n",
       "      <td>False</td>\n",
       "      <td>False</td>\n",
       "      <td>False</td>\n",
       "      <td>False</td>\n",
       "      <td>False</td>\n",
       "      <td>False</td>\n",
       "    </tr>\n",
       "    <tr>\n",
       "      <th>992</th>\n",
       "      <td>NaN</td>\n",
       "      <td>Male</td>\n",
       "      <td>False</td>\n",
       "      <td>True</td>\n",
       "      <td>False</td>\n",
       "      <td>False</td>\n",
       "      <td>False</td>\n",
       "      <td>False</td>\n",
       "      <td>False</td>\n",
       "      <td>False</td>\n",
       "    </tr>\n",
       "  </tbody>\n",
       "</table>\n",
       "</div>"
      ],
      "text/plain": [
       "     age     sex  426177001  426783006  427084000  427393009  713427006  \\\n",
       "364  NaN  Female      False       True      False      False      False   \n",
       "507  NaN    Male      False      False      False      False      False   \n",
       "570  NaN  Female      False       True      False      False      False   \n",
       "649  NaN  Female      False      False      False      False      False   \n",
       "992  NaN    Male      False       True      False      False      False   \n",
       "\n",
       "     713426002  164934002  59931005  \n",
       "364      False      False     False  \n",
       "507      False      False     False  \n",
       "570      False      False     False  \n",
       "649      False      False     False  \n",
       "992      False      False     False  "
      ]
     },
     "execution_count": 22,
     "metadata": {},
     "output_type": "execute_result"
    }
   ],
   "source": [
    "# Some examples of NaN ages\n",
    "ptbxl_df[ptbxl_df.age.isna()].head()"
   ]
  },
  {
   "cell_type": "code",
   "execution_count": 23,
   "metadata": {},
   "outputs": [
    {
     "data": {
      "text/plain": [
       "89"
      ]
     },
     "execution_count": 23,
     "metadata": {},
     "output_type": "execute_result"
    }
   ],
   "source": [
    "len(ptbxl_df[ptbxl_df.age.isna()])"
   ]
  },
  {
   "cell_type": "code",
   "execution_count": 24,
   "metadata": {},
   "outputs": [
    {
     "data": {
      "text/plain": [
       "77"
      ]
     },
     "execution_count": 24,
     "metadata": {},
     "output_type": "execute_result"
    }
   ],
   "source": [
    "len(georgia_df[georgia_df.age.isna()])"
   ]
  },
  {
   "cell_type": "markdown",
   "metadata": {},
   "source": [
    "## Distributions"
   ]
  },
  {
   "cell_type": "markdown",
   "metadata": {},
   "source": [
    "TODO: seaborn plot of age distribution. Also sex."
   ]
  },
  {
   "cell_type": "code",
   "execution_count": 25,
   "metadata": {},
   "outputs": [
    {
     "data": {
      "text/plain": [
       "1675"
      ]
     },
     "execution_count": 25,
     "metadata": {},
     "output_type": "execute_result"
    }
   ],
   "source": [
    "# Bradycardia\n",
    "sum(georgia_df[\"426177001\"] == True)"
   ]
  },
  {
   "cell_type": "code",
   "execution_count": 26,
   "metadata": {},
   "outputs": [
    {
     "data": {
      "text/plain": [
       "1752"
      ]
     },
     "execution_count": 26,
     "metadata": {},
     "output_type": "execute_result"
    }
   ],
   "source": [
    "# Normal sinus rhythm\n",
    "sum(georgia_df[\"426783006\"] == True)"
   ]
  },
  {
   "cell_type": "code",
   "execution_count": 27,
   "metadata": {},
   "outputs": [
    {
     "data": {
      "text/plain": [
       "1261"
      ]
     },
     "execution_count": 27,
     "metadata": {},
     "output_type": "execute_result"
    }
   ],
   "source": [
    "# Tachycardia\n",
    "sum(georgia_df[\"427084000\"] == True)"
   ]
  },
  {
   "cell_type": "code",
   "execution_count": 28,
   "metadata": {},
   "outputs": [
    {
     "data": {
      "text/plain": [
       "455"
      ]
     },
     "execution_count": 28,
     "metadata": {},
     "output_type": "execute_result"
    }
   ],
   "source": [
    "# Arrhythmia\n",
    "sum(georgia_df[\"427393009\"] == True)"
   ]
  },
  {
   "cell_type": "code",
   "execution_count": 29,
   "metadata": {},
   "outputs": [
    {
     "data": {
      "text/plain": [
       "5318"
      ]
     },
     "execution_count": 29,
     "metadata": {},
     "output_type": "execute_result"
    }
   ],
   "source": [
    "# Absence of sinus rhythm finding (Assume normal rhythm?)\n",
    "sum( (georgia_df[\"426177001\"] == False) * (georgia_df[\"427084000\"] == False) * (georgia_df[\"427393009\"] == False) * (georgia_df[\"426783006\"] == False))"
   ]
  },
  {
   "cell_type": "code",
   "execution_count": 30,
   "metadata": {},
   "outputs": [
    {
     "data": {
      "text/html": [
       "<div>\n",
       "<style scoped>\n",
       "    .dataframe tbody tr th:only-of-type {\n",
       "        vertical-align: middle;\n",
       "    }\n",
       "\n",
       "    .dataframe tbody tr th {\n",
       "        vertical-align: top;\n",
       "    }\n",
       "\n",
       "    .dataframe thead tr th {\n",
       "        text-align: left;\n",
       "    }\n",
       "\n",
       "    .dataframe thead tr:last-of-type th {\n",
       "        text-align: right;\n",
       "    }\n",
       "</style>\n",
       "<table border=\"1\" class=\"dataframe\">\n",
       "  <thead>\n",
       "    <tr>\n",
       "      <th></th>\n",
       "      <th colspan=\"8\" halign=\"left\">age</th>\n",
       "    </tr>\n",
       "    <tr>\n",
       "      <th></th>\n",
       "      <th>count</th>\n",
       "      <th>mean</th>\n",
       "      <th>std</th>\n",
       "      <th>min</th>\n",
       "      <th>25%</th>\n",
       "      <th>50%</th>\n",
       "      <th>75%</th>\n",
       "      <th>max</th>\n",
       "    </tr>\n",
       "    <tr>\n",
       "      <th>sex</th>\n",
       "      <th></th>\n",
       "      <th></th>\n",
       "      <th></th>\n",
       "      <th></th>\n",
       "      <th></th>\n",
       "      <th></th>\n",
       "      <th></th>\n",
       "      <th></th>\n",
       "    </tr>\n",
       "  </thead>\n",
       "  <tbody>\n",
       "    <tr>\n",
       "      <th>Female</th>\n",
       "      <td>10166.0</td>\n",
       "      <td>60.708538</td>\n",
       "      <td>17.692363</td>\n",
       "      <td>18.0</td>\n",
       "      <td>50.0</td>\n",
       "      <td>63.0</td>\n",
       "      <td>75.0</td>\n",
       "      <td>89.0</td>\n",
       "    </tr>\n",
       "    <tr>\n",
       "      <th>Male</th>\n",
       "      <td>11245.0</td>\n",
       "      <td>59.019031</td>\n",
       "      <td>15.141418</td>\n",
       "      <td>18.0</td>\n",
       "      <td>50.0</td>\n",
       "      <td>61.0</td>\n",
       "      <td>69.0</td>\n",
       "      <td>89.0</td>\n",
       "    </tr>\n",
       "  </tbody>\n",
       "</table>\n",
       "</div>"
      ],
      "text/plain": [
       "            age                                                    \n",
       "          count       mean        std   min   25%   50%   75%   max\n",
       "sex                                                                \n",
       "Female  10166.0  60.708538  17.692363  18.0  50.0  63.0  75.0  89.0\n",
       "Male    11245.0  59.019031  15.141418  18.0  50.0  61.0  69.0  89.0"
      ]
     },
     "execution_count": 30,
     "metadata": {},
     "output_type": "execute_result"
    }
   ],
   "source": [
    "ptbxl_df.groupby(\"sex\").describe()\n",
    "\n",
    "# TODO: Remove paediatric cases. Either below 18 (UK) or below 21 (US).\n",
    "# TODO: Remove obvious outlier ages. HIPAA guidelines say to remove ages over 89."
   ]
  },
  {
   "cell_type": "code",
   "execution_count": 31,
   "metadata": {},
   "outputs": [
    {
     "data": {
      "text/html": [
       "<div>\n",
       "<style scoped>\n",
       "    .dataframe tbody tr th:only-of-type {\n",
       "        vertical-align: middle;\n",
       "    }\n",
       "\n",
       "    .dataframe tbody tr th {\n",
       "        vertical-align: top;\n",
       "    }\n",
       "\n",
       "    .dataframe thead tr th {\n",
       "        text-align: left;\n",
       "    }\n",
       "\n",
       "    .dataframe thead tr:last-of-type th {\n",
       "        text-align: right;\n",
       "    }\n",
       "</style>\n",
       "<table border=\"1\" class=\"dataframe\">\n",
       "  <thead>\n",
       "    <tr>\n",
       "      <th></th>\n",
       "      <th colspan=\"8\" halign=\"left\">age</th>\n",
       "    </tr>\n",
       "    <tr>\n",
       "      <th></th>\n",
       "      <th>count</th>\n",
       "      <th>mean</th>\n",
       "      <th>std</th>\n",
       "      <th>min</th>\n",
       "      <th>25%</th>\n",
       "      <th>50%</th>\n",
       "      <th>75%</th>\n",
       "      <th>max</th>\n",
       "    </tr>\n",
       "    <tr>\n",
       "      <th>sex</th>\n",
       "      <th></th>\n",
       "      <th></th>\n",
       "      <th></th>\n",
       "      <th></th>\n",
       "      <th></th>\n",
       "      <th></th>\n",
       "      <th></th>\n",
       "      <th></th>\n",
       "    </tr>\n",
       "  </thead>\n",
       "  <tbody>\n",
       "    <tr>\n",
       "      <th>Female</th>\n",
       "      <td>4750.0</td>\n",
       "      <td>60.280000</td>\n",
       "      <td>16.135244</td>\n",
       "      <td>20.0</td>\n",
       "      <td>50.0</td>\n",
       "      <td>62.0</td>\n",
       "      <td>72.00</td>\n",
       "      <td>89.0</td>\n",
       "    </tr>\n",
       "    <tr>\n",
       "      <th>Male</th>\n",
       "      <td>5514.0</td>\n",
       "      <td>60.689699</td>\n",
       "      <td>14.769454</td>\n",
       "      <td>18.0</td>\n",
       "      <td>52.0</td>\n",
       "      <td>62.0</td>\n",
       "      <td>71.75</td>\n",
       "      <td>89.0</td>\n",
       "    </tr>\n",
       "  </tbody>\n",
       "</table>\n",
       "</div>"
      ],
      "text/plain": [
       "           age                                                     \n",
       "         count       mean        std   min   25%   50%    75%   max\n",
       "sex                                                                \n",
       "Female  4750.0  60.280000  16.135244  20.0  50.0  62.0  72.00  89.0\n",
       "Male    5514.0  60.689699  14.769454  18.0  52.0  62.0  71.75  89.0"
      ]
     },
     "execution_count": 31,
     "metadata": {},
     "output_type": "execute_result"
    }
   ],
   "source": [
    "georgia_df.groupby(\"sex\").describe()"
   ]
  },
  {
   "cell_type": "code",
   "execution_count": 32,
   "metadata": {},
   "outputs": [
    {
     "data": {
      "text/plain": [
       "Text(0.5, 1.0, 'Age distribution (georgia)')"
      ]
     },
     "execution_count": 32,
     "metadata": {},
     "output_type": "execute_result"
    },
    {
     "data": {
      "image/png": "[encoded data removed]",
      "text/plain": [
       "<Figure size 605.875x500 with 1 Axes>"
      ]
     },
     "metadata": {},
     "output_type": "display_data"
    }
   ],
   "source": [
    "sns.set_theme(style=\"ticks\")\n",
    "\n",
    "sns.displot(georgia_df, x=\"age\", hue=\"sex\")\n",
    "plt.title(\"Age distribution (georgia)\")"
   ]
  },
  {
   "cell_type": "code",
   "execution_count": 33,
   "metadata": {},
   "outputs": [
    {
     "data": {
      "text/plain": [
       "Text(0.5, 1.0, 'Estimated PDF for georgia dataset')"
      ]
     },
     "execution_count": 33,
     "metadata": {},
     "output_type": "execute_result"
    },
    {
     "data": {
      "image/png": "[encoded data removed]",
      "text/plain": [
       "<Figure size 605.875x500 with 1 Axes>"
      ]
     },
     "metadata": {},
     "output_type": "display_data"
    }
   ],
   "source": [
    "sns.set_theme(style=\"ticks\")\n",
    "\n",
    "sns.displot(ptbxl_df, x=\"age\", hue=\"sex\", kind=\"kde\", fill=True, bw_adjust=1)\n",
    "plt.title(\"Estimated PDF for georgia dataset\")"
   ]
  },
  {
   "cell_type": "markdown",
   "metadata": {},
   "source": [
    "## Poster plots"
   ]
  },
  {
   "cell_type": "code",
   "execution_count": 34,
   "metadata": {},
   "outputs": [
    {
     "data": {
      "text/plain": [
       "31841"
      ]
     },
     "execution_count": 34,
     "metadata": {},
     "output_type": "execute_result"
    }
   ],
   "source": [
    "len(ptbxl_df) + len(georgia_df)"
   ]
  },
  {
   "cell_type": "code",
   "execution_count": 35,
   "metadata": {},
   "outputs": [],
   "source": [
    "big_df = pd.DataFrame(data=ptbxl_df)"
   ]
  },
  {
   "cell_type": "code",
   "execution_count": 36,
   "metadata": {},
   "outputs": [],
   "source": [
    "big_df = pd.concat([ptbxl_df, georgia_df, cpsc_df, cpscextra_df], ignore_index=True)"
   ]
  },
  {
   "cell_type": "code",
   "execution_count": 37,
   "metadata": {},
   "outputs": [
    {
     "data": {
      "text/html": [
       "<div>\n",
       "<style scoped>\n",
       "    .dataframe tbody tr th:only-of-type {\n",
       "        vertical-align: middle;\n",
       "    }\n",
       "\n",
       "    .dataframe tbody tr th {\n",
       "        vertical-align: top;\n",
       "    }\n",
       "\n",
       "    .dataframe thead th {\n",
       "        text-align: right;\n",
       "    }\n",
       "</style>\n",
       "<table border=\"1\" class=\"dataframe\">\n",
       "  <thead>\n",
       "    <tr style=\"text-align: right;\">\n",
       "      <th></th>\n",
       "      <th>age</th>\n",
       "      <th>sex</th>\n",
       "      <th>426177001</th>\n",
       "      <th>426783006</th>\n",
       "      <th>427084000</th>\n",
       "      <th>427393009</th>\n",
       "      <th>713427006</th>\n",
       "      <th>713426002</th>\n",
       "      <th>164934002</th>\n",
       "      <th>59931005</th>\n",
       "    </tr>\n",
       "  </thead>\n",
       "  <tbody>\n",
       "    <tr>\n",
       "      <th>0</th>\n",
       "      <td>22.0</td>\n",
       "      <td>Male</td>\n",
       "      <td>False</td>\n",
       "      <td>True</td>\n",
       "      <td>False</td>\n",
       "      <td>True</td>\n",
       "      <td>False</td>\n",
       "      <td>False</td>\n",
       "      <td>False</td>\n",
       "      <td>False</td>\n",
       "    </tr>\n",
       "    <tr>\n",
       "      <th>1</th>\n",
       "      <td>52.0</td>\n",
       "      <td>Male</td>\n",
       "      <td>True</td>\n",
       "      <td>False</td>\n",
       "      <td>False</td>\n",
       "      <td>False</td>\n",
       "      <td>False</td>\n",
       "      <td>False</td>\n",
       "      <td>False</td>\n",
       "      <td>False</td>\n",
       "    </tr>\n",
       "    <tr>\n",
       "      <th>2</th>\n",
       "      <td>49.0</td>\n",
       "      <td>Female</td>\n",
       "      <td>False</td>\n",
       "      <td>True</td>\n",
       "      <td>False</td>\n",
       "      <td>False</td>\n",
       "      <td>False</td>\n",
       "      <td>False</td>\n",
       "      <td>False</td>\n",
       "      <td>False</td>\n",
       "    </tr>\n",
       "    <tr>\n",
       "      <th>3</th>\n",
       "      <td>50.0</td>\n",
       "      <td>Male</td>\n",
       "      <td>False</td>\n",
       "      <td>True</td>\n",
       "      <td>False</td>\n",
       "      <td>False</td>\n",
       "      <td>False</td>\n",
       "      <td>False</td>\n",
       "      <td>False</td>\n",
       "      <td>False</td>\n",
       "    </tr>\n",
       "    <tr>\n",
       "      <th>4</th>\n",
       "      <td>43.0</td>\n",
       "      <td>Male</td>\n",
       "      <td>False</td>\n",
       "      <td>True</td>\n",
       "      <td>False</td>\n",
       "      <td>False</td>\n",
       "      <td>False</td>\n",
       "      <td>False</td>\n",
       "      <td>False</td>\n",
       "      <td>False</td>\n",
       "    </tr>\n",
       "  </tbody>\n",
       "</table>\n",
       "</div>"
      ],
      "text/plain": [
       "    age     sex  426177001  426783006  427084000  427393009  713427006  \\\n",
       "0  22.0    Male      False       True      False       True      False   \n",
       "1  52.0    Male       True      False      False      False      False   \n",
       "2  49.0  Female      False       True      False      False      False   \n",
       "3  50.0    Male      False       True      False      False      False   \n",
       "4  43.0    Male      False       True      False      False      False   \n",
       "\n",
       "   713426002  164934002  59931005  \n",
       "0      False      False     False  \n",
       "1      False      False     False  \n",
       "2      False      False     False  \n",
       "3      False      False     False  \n",
       "4      False      False     False  "
      ]
     },
     "execution_count": 37,
     "metadata": {},
     "output_type": "execute_result"
    }
   ],
   "source": [
    "big_df.head()"
   ]
  },
  {
   "cell_type": "code",
   "execution_count": 44,
   "metadata": {},
   "outputs": [
    {
     "data": {
      "text/html": [
       "<div>\n",
       "<style scoped>\n",
       "    .dataframe tbody tr th:only-of-type {\n",
       "        vertical-align: middle;\n",
       "    }\n",
       "\n",
       "    .dataframe tbody tr th {\n",
       "        vertical-align: top;\n",
       "    }\n",
       "\n",
       "    .dataframe thead th {\n",
       "        text-align: right;\n",
       "    }\n",
       "</style>\n",
       "<table border=\"1\" class=\"dataframe\">\n",
       "  <thead>\n",
       "    <tr style=\"text-align: right;\">\n",
       "      <th></th>\n",
       "      <th>age</th>\n",
       "    </tr>\n",
       "  </thead>\n",
       "  <tbody>\n",
       "    <tr>\n",
       "      <th>count</th>\n",
       "      <td>41653.000000</td>\n",
       "    </tr>\n",
       "    <tr>\n",
       "      <th>mean</th>\n",
       "      <td>60.443233</td>\n",
       "    </tr>\n",
       "    <tr>\n",
       "      <th>std</th>\n",
       "      <td>16.257737</td>\n",
       "    </tr>\n",
       "    <tr>\n",
       "      <th>min</th>\n",
       "      <td>18.000000</td>\n",
       "    </tr>\n",
       "    <tr>\n",
       "      <th>25%</th>\n",
       "      <td>51.000000</td>\n",
       "    </tr>\n",
       "    <tr>\n",
       "      <th>50%</th>\n",
       "      <td>62.000000</td>\n",
       "    </tr>\n",
       "    <tr>\n",
       "      <th>75%</th>\n",
       "      <td>73.000000</td>\n",
       "    </tr>\n",
       "    <tr>\n",
       "      <th>max</th>\n",
       "      <td>89.000000</td>\n",
       "    </tr>\n",
       "  </tbody>\n",
       "</table>\n",
       "</div>"
      ],
      "text/plain": [
       "                age\n",
       "count  41653.000000\n",
       "mean      60.443233\n",
       "std       16.257737\n",
       "min       18.000000\n",
       "25%       51.000000\n",
       "50%       62.000000\n",
       "75%       73.000000\n",
       "max       89.000000"
      ]
     },
     "execution_count": 44,
     "metadata": {},
     "output_type": "execute_result"
    }
   ],
   "source": [
    "big_df.describe()"
   ]
  },
  {
   "cell_type": "code",
   "execution_count": 38,
   "metadata": {},
   "outputs": [
    {
     "data": {
      "text/plain": [
       "Text(0.5, 1.0, 'Patient demographics of source domain')"
      ]
     },
     "execution_count": 38,
     "metadata": {},
     "output_type": "execute_result"
    },
    {
     "data": {
      "image/png": "[encoded data removed]",
      "text/plain": [
       "<Figure size 605.875x500 with 1 Axes>"
      ]
     },
     "metadata": {},
     "output_type": "display_data"
    }
   ],
   "source": [
    "sns.displot(big_df, x=\"age\", hue=\"sex\", kind=\"kde\", fill=True, bw_adjust=1)\n",
    "plt.title(\"Patient demographics of source domain\")"
   ]
  },
  {
   "cell_type": "code",
   "execution_count": 39,
   "metadata": {},
   "outputs": [
    {
     "data": {
      "text/plain": [
       "['426177001',\n",
       " '426783006',\n",
       " '427084000',\n",
       " '427393009',\n",
       " '713427006',\n",
       " '713426002',\n",
       " '164934002',\n",
       " '59931005']"
      ]
     },
     "execution_count": 39,
     "metadata": {},
     "output_type": "execute_result"
    }
   ],
   "source": [
    "list(map(str, diagnosis_codes.keys()))"
   ]
  },
  {
   "cell_type": "code",
   "execution_count": 40,
   "metadata": {},
   "outputs": [
    {
     "name": "stdout",
     "output_type": "stream",
     "text": [
      "\u001b[0;31mSignature:\u001b[0m\n",
      "\u001b[0msns\u001b[0m\u001b[0;34m.\u001b[0m\u001b[0mcatplot\u001b[0m\u001b[0;34m(\u001b[0m\u001b[0;34m\u001b[0m\n",
      "\u001b[0;34m\u001b[0m    \u001b[0mdata\u001b[0m\u001b[0;34m=\u001b[0m\u001b[0;32mNone\u001b[0m\u001b[0;34m,\u001b[0m\u001b[0;34m\u001b[0m\n",
      "\u001b[0;34m\u001b[0m    \u001b[0;34m*\u001b[0m\u001b[0;34m,\u001b[0m\u001b[0;34m\u001b[0m\n",
      "\u001b[0;34m\u001b[0m    \u001b[0mx\u001b[0m\u001b[0;34m=\u001b[0m\u001b[0;32mNone\u001b[0m\u001b[0;34m,\u001b[0m\u001b[0;34m\u001b[0m\n",
      "\u001b[0;34m\u001b[0m    \u001b[0my\u001b[0m\u001b[0;34m=\u001b[0m\u001b[0;32mNone\u001b[0m\u001b[0;34m,\u001b[0m\u001b[0;34m\u001b[0m\n",
      "\u001b[0;34m\u001b[0m    \u001b[0mhue\u001b[0m\u001b[0;34m=\u001b[0m\u001b[0;32mNone\u001b[0m\u001b[0;34m,\u001b[0m\u001b[0;34m\u001b[0m\n",
      "\u001b[0;34m\u001b[0m    \u001b[0mrow\u001b[0m\u001b[0;34m=\u001b[0m\u001b[0;32mNone\u001b[0m\u001b[0;34m,\u001b[0m\u001b[0;34m\u001b[0m\n",
      "\u001b[0;34m\u001b[0m    \u001b[0mcol\u001b[0m\u001b[0;34m=\u001b[0m\u001b[0;32mNone\u001b[0m\u001b[0;34m,\u001b[0m\u001b[0;34m\u001b[0m\n",
      "\u001b[0;34m\u001b[0m    \u001b[0mkind\u001b[0m\u001b[0;34m=\u001b[0m\u001b[0;34m'strip'\u001b[0m\u001b[0;34m,\u001b[0m\u001b[0;34m\u001b[0m\n",
      "\u001b[0;34m\u001b[0m    \u001b[0mestimator\u001b[0m\u001b[0;34m=\u001b[0m\u001b[0;34m'mean'\u001b[0m\u001b[0;34m,\u001b[0m\u001b[0;34m\u001b[0m\n",
      "\u001b[0;34m\u001b[0m    \u001b[0merrorbar\u001b[0m\u001b[0;34m=\u001b[0m\u001b[0;34m(\u001b[0m\u001b[0;34m'ci'\u001b[0m\u001b[0;34m,\u001b[0m \u001b[0;36m95\u001b[0m\u001b[0;34m)\u001b[0m\u001b[0;34m,\u001b[0m\u001b[0;34m\u001b[0m\n",
      "\u001b[0;34m\u001b[0m    \u001b[0mn_boot\u001b[0m\u001b[0;34m=\u001b[0m\u001b[0;36m1000\u001b[0m\u001b[0;34m,\u001b[0m\u001b[0;34m\u001b[0m\n",
      "\u001b[0;34m\u001b[0m    \u001b[0mseed\u001b[0m\u001b[0;34m=\u001b[0m\u001b[0;32mNone\u001b[0m\u001b[0;34m,\u001b[0m\u001b[0;34m\u001b[0m\n",
      "\u001b[0;34m\u001b[0m    \u001b[0munits\u001b[0m\u001b[0;34m=\u001b[0m\u001b[0;32mNone\u001b[0m\u001b[0;34m,\u001b[0m\u001b[0;34m\u001b[0m\n",
      "\u001b[0;34m\u001b[0m    \u001b[0mweights\u001b[0m\u001b[0;34m=\u001b[0m\u001b[0;32mNone\u001b[0m\u001b[0;34m,\u001b[0m\u001b[0;34m\u001b[0m\n",
      "\u001b[0;34m\u001b[0m    \u001b[0morder\u001b[0m\u001b[0;34m=\u001b[0m\u001b[0;32mNone\u001b[0m\u001b[0;34m,\u001b[0m\u001b[0;34m\u001b[0m\n",
      "\u001b[0;34m\u001b[0m    \u001b[0mhue_order\u001b[0m\u001b[0;34m=\u001b[0m\u001b[0;32mNone\u001b[0m\u001b[0;34m,\u001b[0m\u001b[0;34m\u001b[0m\n",
      "\u001b[0;34m\u001b[0m    \u001b[0mrow_order\u001b[0m\u001b[0;34m=\u001b[0m\u001b[0;32mNone\u001b[0m\u001b[0;34m,\u001b[0m\u001b[0;34m\u001b[0m\n",
      "\u001b[0;34m\u001b[0m    \u001b[0mcol_order\u001b[0m\u001b[0;34m=\u001b[0m\u001b[0;32mNone\u001b[0m\u001b[0;34m,\u001b[0m\u001b[0;34m\u001b[0m\n",
      "\u001b[0;34m\u001b[0m    \u001b[0mcol_wrap\u001b[0m\u001b[0;34m=\u001b[0m\u001b[0;32mNone\u001b[0m\u001b[0;34m,\u001b[0m\u001b[0;34m\u001b[0m\n",
      "\u001b[0;34m\u001b[0m    \u001b[0mheight\u001b[0m\u001b[0;34m=\u001b[0m\u001b[0;36m5\u001b[0m\u001b[0;34m,\u001b[0m\u001b[0;34m\u001b[0m\n",
      "\u001b[0;34m\u001b[0m    \u001b[0maspect\u001b[0m\u001b[0;34m=\u001b[0m\u001b[0;36m1\u001b[0m\u001b[0;34m,\u001b[0m\u001b[0;34m\u001b[0m\n",
      "\u001b[0;34m\u001b[0m    \u001b[0mlog_scale\u001b[0m\u001b[0;34m=\u001b[0m\u001b[0;32mNone\u001b[0m\u001b[0;34m,\u001b[0m\u001b[0;34m\u001b[0m\n",
      "\u001b[0;34m\u001b[0m    \u001b[0mnative_scale\u001b[0m\u001b[0;34m=\u001b[0m\u001b[0;32mFalse\u001b[0m\u001b[0;34m,\u001b[0m\u001b[0;34m\u001b[0m\n",
      "\u001b[0;34m\u001b[0m    \u001b[0mformatter\u001b[0m\u001b[0;34m=\u001b[0m\u001b[0;32mNone\u001b[0m\u001b[0;34m,\u001b[0m\u001b[0;34m\u001b[0m\n",
      "\u001b[0;34m\u001b[0m    \u001b[0morient\u001b[0m\u001b[0;34m=\u001b[0m\u001b[0;32mNone\u001b[0m\u001b[0;34m,\u001b[0m\u001b[0;34m\u001b[0m\n",
      "\u001b[0;34m\u001b[0m    \u001b[0mcolor\u001b[0m\u001b[0;34m=\u001b[0m\u001b[0;32mNone\u001b[0m\u001b[0;34m,\u001b[0m\u001b[0;34m\u001b[0m\n",
      "\u001b[0;34m\u001b[0m    \u001b[0mpalette\u001b[0m\u001b[0;34m=\u001b[0m\u001b[0;32mNone\u001b[0m\u001b[0;34m,\u001b[0m\u001b[0;34m\u001b[0m\n",
      "\u001b[0;34m\u001b[0m    \u001b[0mhue_norm\u001b[0m\u001b[0;34m=\u001b[0m\u001b[0;32mNone\u001b[0m\u001b[0;34m,\u001b[0m\u001b[0;34m\u001b[0m\n",
      "\u001b[0;34m\u001b[0m    \u001b[0mlegend\u001b[0m\u001b[0;34m=\u001b[0m\u001b[0;34m'auto'\u001b[0m\u001b[0;34m,\u001b[0m\u001b[0;34m\u001b[0m\n",
      "\u001b[0;34m\u001b[0m    \u001b[0mlegend_out\u001b[0m\u001b[0;34m=\u001b[0m\u001b[0;32mTrue\u001b[0m\u001b[0;34m,\u001b[0m\u001b[0;34m\u001b[0m\n",
      "\u001b[0;34m\u001b[0m    \u001b[0msharex\u001b[0m\u001b[0;34m=\u001b[0m\u001b[0;32mTrue\u001b[0m\u001b[0;34m,\u001b[0m\u001b[0;34m\u001b[0m\n",
      "\u001b[0;34m\u001b[0m    \u001b[0msharey\u001b[0m\u001b[0;34m=\u001b[0m\u001b[0;32mTrue\u001b[0m\u001b[0;34m,\u001b[0m\u001b[0;34m\u001b[0m\n",
      "\u001b[0;34m\u001b[0m    \u001b[0mmargin_titles\u001b[0m\u001b[0;34m=\u001b[0m\u001b[0;32mFalse\u001b[0m\u001b[0;34m,\u001b[0m\u001b[0;34m\u001b[0m\n",
      "\u001b[0;34m\u001b[0m    \u001b[0mfacet_kws\u001b[0m\u001b[0;34m=\u001b[0m\u001b[0;32mNone\u001b[0m\u001b[0;34m,\u001b[0m\u001b[0;34m\u001b[0m\n",
      "\u001b[0;34m\u001b[0m    \u001b[0mci\u001b[0m\u001b[0;34m=\u001b[0m\u001b[0;34m<\u001b[0m\u001b[0mdeprecated\u001b[0m\u001b[0;34m>\u001b[0m\u001b[0;34m,\u001b[0m\u001b[0;34m\u001b[0m\n",
      "\u001b[0;34m\u001b[0m    \u001b[0;34m**\u001b[0m\u001b[0mkwargs\u001b[0m\u001b[0;34m,\u001b[0m\u001b[0;34m\u001b[0m\n",
      "\u001b[0;34m\u001b[0m\u001b[0;34m)\u001b[0m\u001b[0;34m\u001b[0m\u001b[0;34m\u001b[0m\u001b[0m\n",
      "\u001b[0;31mDocstring:\u001b[0m\n",
      "Figure-level interface for drawing categorical plots onto a FacetGrid.\n",
      "\n",
      "This function provides access to several axes-level functions that\n",
      "show the relationship between a numerical and one or more categorical\n",
      "variables using one of several visual representations. The `kind`\n",
      "parameter selects the underlying axes-level function to use.\n",
      "\n",
      "Categorical scatterplots:\n",
      "\n",
      "- :func:`stripplot` (with `kind=\"strip\"`; the default)\n",
      "- :func:`swarmplot` (with `kind=\"swarm\"`)\n",
      "\n",
      "Categorical distribution plots:\n",
      "\n",
      "- :func:`boxplot` (with `kind=\"box\"`)\n",
      "- :func:`violinplot` (with `kind=\"violin\"`)\n",
      "- :func:`boxenplot` (with `kind=\"boxen\"`)\n",
      "\n",
      "Categorical estimate plots:\n",
      "\n",
      "- :func:`pointplot` (with `kind=\"point\"`)\n",
      "- :func:`barplot` (with `kind=\"bar\"`)\n",
      "- :func:`countplot` (with `kind=\"count\"`)\n",
      "\n",
      "Extra keyword arguments are passed to the underlying function, so you\n",
      "should refer to the documentation for each to see kind-specific options.\n",
      "\n",
      "See the :ref:`tutorial <categorical_tutorial>` for more information.\n",
      "\n",
      ".. note::\n",
      "    By default, this function treats one of the variables as categorical\n",
      "    and draws data at ordinal positions (0, 1, ... n) on the relevant axis.\n",
      "    As of version 0.13.0, this can be disabled by setting `native_scale=True`.\n",
      "\n",
      "\n",
      "After plotting, the :class:`FacetGrid` with the plot is returned and can\n",
      "be used directly to tweak supporting plot details or add other layers.\n",
      "\n",
      "Parameters\n",
      "----------\n",
      "data : DataFrame, Series, dict, array, or list of arrays\n",
      "    Dataset for plotting. If `x` and `y` are absent, this is\n",
      "    interpreted as wide-form. Otherwise it is expected to be long-form.    \n",
      "x, y, hue : names of variables in `data` or vector data\n",
      "    Inputs for plotting long-form data. See examples for interpretation.    \n",
      "row, col : names of variables in `data` or vector data\n",
      "    Categorical variables that will determine the faceting of the grid.\n",
      "kind : str\n",
      "    The kind of plot to draw, corresponds to the name of a categorical\n",
      "    axes-level plotting function. Options are: \"strip\", \"swarm\", \"box\", \"violin\",\n",
      "    \"boxen\", \"point\", \"bar\", or \"count\".\n",
      "estimator : string or callable that maps vector -> scalar\n",
      "    Statistical function to estimate within each categorical bin.\n",
      "errorbar : string, (string, number) tuple, callable or None\n",
      "    Name of errorbar method (either \"ci\", \"pi\", \"se\", or \"sd\"), or a tuple\n",
      "    with a method name and a level parameter, or a function that maps from a\n",
      "    vector to a (min, max) interval, or None to hide errorbar. See the\n",
      "    :doc:`errorbar tutorial </tutorial/error_bars>` for more information.\n",
      "\n",
      "    .. versionadded:: v0.12.0\n",
      "n_boot : int\n",
      "    Number of bootstrap samples used to compute confidence intervals.\n",
      "seed : int, `numpy.random.Generator`, or `numpy.random.RandomState`\n",
      "    Seed or random number generator for reproducible bootstrapping.\n",
      "units : name of variable in `data` or vector data\n",
      "    Identifier of sampling units; used by the errorbar function to\n",
      "    perform a multilevel bootstrap and account for repeated measures\n",
      "weights : name of variable in `data` or vector data\n",
      "    Data values or column used to compute weighted statistics.\n",
      "    Note that the use of weights may limit other statistical options.\n",
      "\n",
      "    .. versionadded:: v0.13.1    \n",
      "order, hue_order : lists of strings\n",
      "    Order to plot the categorical levels in; otherwise the levels are\n",
      "    inferred from the data objects.    \n",
      "row_order, col_order : lists of strings\n",
      "    Order to organize the rows and/or columns of the grid in; otherwise the\n",
      "    orders are inferred from the data objects.\n",
      "col_wrap : int\n",
      "    \"Wrap\" the column variable at this width, so that the column facets\n",
      "    span multiple rows. Incompatible with a ``row`` facet.    \n",
      "height : scalar\n",
      "    Height (in inches) of each facet. See also: ``aspect``.    \n",
      "aspect : scalar\n",
      "    Aspect ratio of each facet, so that ``aspect * height`` gives the width\n",
      "    of each facet in inches.    \n",
      "native_scale : bool\n",
      "    When True, numeric or datetime values on the categorical axis will maintain\n",
      "    their original scaling rather than being converted to fixed indices.\n",
      "\n",
      "    .. versionadded:: v0.13.0    \n",
      "formatter : callable\n",
      "    Function for converting categorical data into strings. Affects both grouping\n",
      "    and tick labels.\n",
      "\n",
      "    .. versionadded:: v0.13.0    \n",
      "orient : \"v\" | \"h\" | \"x\" | \"y\"\n",
      "    Orientation of the plot (vertical or horizontal). This is usually\n",
      "    inferred based on the type of the input variables, but it can be used\n",
      "    to resolve ambiguity when both `x` and `y` are numeric or when\n",
      "    plotting wide-form data.\n",
      "\n",
      "    .. versionchanged:: v0.13.0\n",
      "        Added 'x'/'y' as options, equivalent to 'v'/'h'.    \n",
      "color : matplotlib color\n",
      "    Single color for the elements in the plot.    \n",
      "palette : palette name, list, or dict\n",
      "    Colors to use for the different levels of the ``hue`` variable. Should\n",
      "    be something that can be interpreted by :func:`color_palette`, or a\n",
      "    dictionary mapping hue levels to matplotlib colors.    \n",
      "hue_norm : tuple or :class:`matplotlib.colors.Normalize` object\n",
      "    Normalization in data units for colormap applied to the `hue`\n",
      "    variable when it is numeric. Not relevant if `hue` is categorical.\n",
      "\n",
      "    .. versionadded:: v0.12.0    \n",
      "legend : \"auto\", \"brief\", \"full\", or False\n",
      "    How to draw the legend. If \"brief\", numeric `hue` and `size`\n",
      "    variables will be represented with a sample of evenly spaced values.\n",
      "    If \"full\", every group will get an entry in the legend. If \"auto\",\n",
      "    choose between brief or full representation based on number of levels.\n",
      "    If `False`, no legend data is added and no legend is drawn.\n",
      "\n",
      "    .. versionadded:: v0.13.0    \n",
      "legend_out : bool\n",
      "    If ``True``, the figure size will be extended, and the legend will be\n",
      "    drawn outside the plot on the center right.    \n",
      "share{x,y} : bool, 'col', or 'row' optional\n",
      "    If true, the facets will share y axes across columns and/or x axes\n",
      "    across rows.    \n",
      "margin_titles : bool\n",
      "    If ``True``, the titles for the row variable are drawn to the right of\n",
      "    the last column. This option is experimental and may not work in all\n",
      "    cases.    \n",
      "facet_kws : dict\n",
      "    Dictionary of other keyword arguments to pass to :class:`FacetGrid`.\n",
      "kwargs : key, value pairings\n",
      "    Other keyword arguments are passed through to the underlying plotting\n",
      "    function.\n",
      "\n",
      "Returns\n",
      "-------\n",
      ":class:`FacetGrid`\n",
      "    Returns the :class:`FacetGrid` object with the plot on it for further\n",
      "    tweaking.\n",
      "\n",
      "Examples\n",
      "--------\n",
      ".. include:: ../docstrings/catplot.rst\n",
      "\u001b[0;31mFile:\u001b[0m      ~/source/Thesis/PhysioNetChallenge2020/.venv/lib/python3.10/site-packages/seaborn/categorical.py\n",
      "\u001b[0;31mType:\u001b[0m      function"
     ]
    }
   ],
   "source": [
    "sns.catplot?"
   ]
  },
  {
   "cell_type": "code",
   "execution_count": 41,
   "metadata": {},
   "outputs": [
    {
     "data": {
      "text/plain": [
       "<matplotlib.legend.Legend at 0x1410d46a0>"
      ]
     },
     "execution_count": 41,
     "metadata": {},
     "output_type": "execute_result"
    },
    {
     "data": {
      "image/png": "[encoded data removed]",
      "text/plain": [
       "<Figure size 640x480 with 1 Axes>"
      ]
     },
     "metadata": {},
     "output_type": "display_data"
    }
   ],
   "source": [
    "diagnosis_codes = {\n",
    "    # Sinus rhythm\n",
    "    426177001:  \"Sinus bradycardia\",\n",
    "    426783006:  \"Normal sinus rhythm\",\n",
    "    427084000:  \"Sinus tachycardia\",\n",
    "    427393009:  \"Sinus arrhythmia\",\n",
    "\n",
    "    # Conduction pathway (specifically right bundle branch)\n",
    "    713427006:  \"Complete right bundle branch block\",\n",
    "    713426002:  \"Incomplete right bundle branch block\",\n",
    "\n",
    "    # # T-wave (should be for each lead)\n",
    "    # 164934002:  \"T-wave abnormal\",\n",
    "    # 59931005:   \"T-wave inversion\",\n",
    "}\n",
    "\n",
    "labels = list(diagnosis_codes.values())\n",
    "N = len(big_df)\n",
    "prevalence = []\n",
    "for code in map(str, diagnosis_codes.keys()):\n",
    "    count = sum(big_df[code] == True)\n",
    "    prevalence.append( count / N )\n",
    "\n",
    "plt.rcParams.update({\n",
    "    \"text.usetex\": True,\n",
    "    \"font.family\": \"Helvetica\"\n",
    "})\n",
    "sns.set_theme(style=\"ticks\")\n",
    "fig, ax = plt.subplots()\n",
    "# fig = plt.figure()\n",
    "# https://stackoverflow.com/questions/10369681/how-to-plot-bar-graphs-with-same-x-coordinates-side-by-side-dodged\n",
    "\n",
    "ax.barh(y=labels, width=prevalence, height=.4, align='edge', label=\"Source (general population)\")\n",
    "norwegian_counts = [5,17,0,7,0,2]\n",
    "norwegian_prevalence = np.array(norwegian_counts) / 28\n",
    "ax.barh(y=labels, width=norwegian_prevalence, height=-.4, align='edge', label=\"Target (athletic population)\")\n",
    "ax.set_xlabel(\"Probability $p(y)$\")\n",
    "ax.set_title(\"Prevalence of diagnosis label in source versus target domain\")\n",
    "ax.legend()"
   ]
  },
  {
   "cell_type": "code",
   "execution_count": 42,
   "metadata": {},
   "outputs": [
    {
     "data": {
      "text/plain": [
       "<Axes: xlabel='age', ylabel='Count'>"
      ]
     },
     "execution_count": 42,
     "metadata": {},
     "output_type": "execute_result"
    },
    {
     "data": {
      "image/png": "[encoded data removed]",
      "text/plain": [
       "<Figure size 640x480 with 2 Axes>"
      ]
     },
     "metadata": {},
     "output_type": "display_data"
    }
   ],
   "source": [
    "sns.set_theme(style=\"ticks\")\n",
    "# fig, ax = plt.subplots()\n",
    "fig = plt.figure()\n",
    "\n",
    "# ax = ptbxl_df.plot.kde()\n",
    "ax1 = fig.add_subplot(111)\n",
    "sns.histplot(ptbxl_df, x=\"age\", ax=ax1)\n",
    "# sns.histplot(georgia_df, x=\"age\", kind=\"kde\", fill=True, bw_adjust=1)\n",
    "\n",
    "ax2 = fig.add_subplot(111)\n",
    "sns.histplot(georgia_df, x=\"age\", ax=ax2)"
   ]
  },
  {
   "cell_type": "code",
   "execution_count": 43,
   "metadata": {},
   "outputs": [
    {
     "name": "stdout",
     "output_type": "stream",
     "text": [
      "\u001b[0;31mSignature:\u001b[0m\n",
      "\u001b[0msns\u001b[0m\u001b[0;34m.\u001b[0m\u001b[0mhistplot\u001b[0m\u001b[0;34m(\u001b[0m\u001b[0;34m\u001b[0m\n",
      "\u001b[0;34m\u001b[0m    \u001b[0mdata\u001b[0m\u001b[0;34m=\u001b[0m\u001b[0;32mNone\u001b[0m\u001b[0;34m,\u001b[0m\u001b[0;34m\u001b[0m\n",
      "\u001b[0;34m\u001b[0m    \u001b[0;34m*\u001b[0m\u001b[0;34m,\u001b[0m\u001b[0;34m\u001b[0m\n",
      "\u001b[0;34m\u001b[0m    \u001b[0mx\u001b[0m\u001b[0;34m=\u001b[0m\u001b[0;32mNone\u001b[0m\u001b[0;34m,\u001b[0m\u001b[0;34m\u001b[0m\n",
      "\u001b[0;34m\u001b[0m    \u001b[0my\u001b[0m\u001b[0;34m=\u001b[0m\u001b[0;32mNone\u001b[0m\u001b[0;34m,\u001b[0m\u001b[0;34m\u001b[0m\n",
      "\u001b[0;34m\u001b[0m    \u001b[0mhue\u001b[0m\u001b[0;34m=\u001b[0m\u001b[0;32mNone\u001b[0m\u001b[0;34m,\u001b[0m\u001b[0;34m\u001b[0m\n",
      "\u001b[0;34m\u001b[0m    \u001b[0mweights\u001b[0m\u001b[0;34m=\u001b[0m\u001b[0;32mNone\u001b[0m\u001b[0;34m,\u001b[0m\u001b[0;34m\u001b[0m\n",
      "\u001b[0;34m\u001b[0m    \u001b[0mstat\u001b[0m\u001b[0;34m=\u001b[0m\u001b[0;34m'count'\u001b[0m\u001b[0;34m,\u001b[0m\u001b[0;34m\u001b[0m\n",
      "\u001b[0;34m\u001b[0m    \u001b[0mbins\u001b[0m\u001b[0;34m=\u001b[0m\u001b[0;34m'auto'\u001b[0m\u001b[0;34m,\u001b[0m\u001b[0;34m\u001b[0m\n",
      "\u001b[0;34m\u001b[0m    \u001b[0mbinwidth\u001b[0m\u001b[0;34m=\u001b[0m\u001b[0;32mNone\u001b[0m\u001b[0;34m,\u001b[0m\u001b[0;34m\u001b[0m\n",
      "\u001b[0;34m\u001b[0m    \u001b[0mbinrange\u001b[0m\u001b[0;34m=\u001b[0m\u001b[0;32mNone\u001b[0m\u001b[0;34m,\u001b[0m\u001b[0;34m\u001b[0m\n",
      "\u001b[0;34m\u001b[0m    \u001b[0mdiscrete\u001b[0m\u001b[0;34m=\u001b[0m\u001b[0;32mNone\u001b[0m\u001b[0;34m,\u001b[0m\u001b[0;34m\u001b[0m\n",
      "\u001b[0;34m\u001b[0m    \u001b[0mcumulative\u001b[0m\u001b[0;34m=\u001b[0m\u001b[0;32mFalse\u001b[0m\u001b[0;34m,\u001b[0m\u001b[0;34m\u001b[0m\n",
      "\u001b[0;34m\u001b[0m    \u001b[0mcommon_bins\u001b[0m\u001b[0;34m=\u001b[0m\u001b[0;32mTrue\u001b[0m\u001b[0;34m,\u001b[0m\u001b[0;34m\u001b[0m\n",
      "\u001b[0;34m\u001b[0m    \u001b[0mcommon_norm\u001b[0m\u001b[0;34m=\u001b[0m\u001b[0;32mTrue\u001b[0m\u001b[0;34m,\u001b[0m\u001b[0;34m\u001b[0m\n",
      "\u001b[0;34m\u001b[0m    \u001b[0mmultiple\u001b[0m\u001b[0;34m=\u001b[0m\u001b[0;34m'layer'\u001b[0m\u001b[0;34m,\u001b[0m\u001b[0;34m\u001b[0m\n",
      "\u001b[0;34m\u001b[0m    \u001b[0melement\u001b[0m\u001b[0;34m=\u001b[0m\u001b[0;34m'bars'\u001b[0m\u001b[0;34m,\u001b[0m\u001b[0;34m\u001b[0m\n",
      "\u001b[0;34m\u001b[0m    \u001b[0mfill\u001b[0m\u001b[0;34m=\u001b[0m\u001b[0;32mTrue\u001b[0m\u001b[0;34m,\u001b[0m\u001b[0;34m\u001b[0m\n",
      "\u001b[0;34m\u001b[0m    \u001b[0mshrink\u001b[0m\u001b[0;34m=\u001b[0m\u001b[0;36m1\u001b[0m\u001b[0;34m,\u001b[0m\u001b[0;34m\u001b[0m\n",
      "\u001b[0;34m\u001b[0m    \u001b[0mkde\u001b[0m\u001b[0;34m=\u001b[0m\u001b[0;32mFalse\u001b[0m\u001b[0;34m,\u001b[0m\u001b[0;34m\u001b[0m\n",
      "\u001b[0;34m\u001b[0m    \u001b[0mkde_kws\u001b[0m\u001b[0;34m=\u001b[0m\u001b[0;32mNone\u001b[0m\u001b[0;34m,\u001b[0m\u001b[0;34m\u001b[0m\n",
      "\u001b[0;34m\u001b[0m    \u001b[0mline_kws\u001b[0m\u001b[0;34m=\u001b[0m\u001b[0;32mNone\u001b[0m\u001b[0;34m,\u001b[0m\u001b[0;34m\u001b[0m\n",
      "\u001b[0;34m\u001b[0m    \u001b[0mthresh\u001b[0m\u001b[0;34m=\u001b[0m\u001b[0;36m0\u001b[0m\u001b[0;34m,\u001b[0m\u001b[0;34m\u001b[0m\n",
      "\u001b[0;34m\u001b[0m    \u001b[0mpthresh\u001b[0m\u001b[0;34m=\u001b[0m\u001b[0;32mNone\u001b[0m\u001b[0;34m,\u001b[0m\u001b[0;34m\u001b[0m\n",
      "\u001b[0;34m\u001b[0m    \u001b[0mpmax\u001b[0m\u001b[0;34m=\u001b[0m\u001b[0;32mNone\u001b[0m\u001b[0;34m,\u001b[0m\u001b[0;34m\u001b[0m\n",
      "\u001b[0;34m\u001b[0m    \u001b[0mcbar\u001b[0m\u001b[0;34m=\u001b[0m\u001b[0;32mFalse\u001b[0m\u001b[0;34m,\u001b[0m\u001b[0;34m\u001b[0m\n",
      "\u001b[0;34m\u001b[0m    \u001b[0mcbar_ax\u001b[0m\u001b[0;34m=\u001b[0m\u001b[0;32mNone\u001b[0m\u001b[0;34m,\u001b[0m\u001b[0;34m\u001b[0m\n",
      "\u001b[0;34m\u001b[0m    \u001b[0mcbar_kws\u001b[0m\u001b[0;34m=\u001b[0m\u001b[0;32mNone\u001b[0m\u001b[0;34m,\u001b[0m\u001b[0;34m\u001b[0m\n",
      "\u001b[0;34m\u001b[0m    \u001b[0mpalette\u001b[0m\u001b[0;34m=\u001b[0m\u001b[0;32mNone\u001b[0m\u001b[0;34m,\u001b[0m\u001b[0;34m\u001b[0m\n",
      "\u001b[0;34m\u001b[0m    \u001b[0mhue_order\u001b[0m\u001b[0;34m=\u001b[0m\u001b[0;32mNone\u001b[0m\u001b[0;34m,\u001b[0m\u001b[0;34m\u001b[0m\n",
      "\u001b[0;34m\u001b[0m    \u001b[0mhue_norm\u001b[0m\u001b[0;34m=\u001b[0m\u001b[0;32mNone\u001b[0m\u001b[0;34m,\u001b[0m\u001b[0;34m\u001b[0m\n",
      "\u001b[0;34m\u001b[0m    \u001b[0mcolor\u001b[0m\u001b[0;34m=\u001b[0m\u001b[0;32mNone\u001b[0m\u001b[0;34m,\u001b[0m\u001b[0;34m\u001b[0m\n",
      "\u001b[0;34m\u001b[0m    \u001b[0mlog_scale\u001b[0m\u001b[0;34m=\u001b[0m\u001b[0;32mNone\u001b[0m\u001b[0;34m,\u001b[0m\u001b[0;34m\u001b[0m\n",
      "\u001b[0;34m\u001b[0m    \u001b[0mlegend\u001b[0m\u001b[0;34m=\u001b[0m\u001b[0;32mTrue\u001b[0m\u001b[0;34m,\u001b[0m\u001b[0;34m\u001b[0m\n",
      "\u001b[0;34m\u001b[0m    \u001b[0max\u001b[0m\u001b[0;34m=\u001b[0m\u001b[0;32mNone\u001b[0m\u001b[0;34m,\u001b[0m\u001b[0;34m\u001b[0m\n",
      "\u001b[0;34m\u001b[0m    \u001b[0;34m**\u001b[0m\u001b[0mkwargs\u001b[0m\u001b[0;34m,\u001b[0m\u001b[0;34m\u001b[0m\n",
      "\u001b[0;34m\u001b[0m\u001b[0;34m)\u001b[0m\u001b[0;34m\u001b[0m\u001b[0;34m\u001b[0m\u001b[0m\n",
      "\u001b[0;31mDocstring:\u001b[0m\n",
      "Plot univariate or bivariate histograms to show distributions of datasets.\n",
      "\n",
      "A histogram is a classic visualization tool that represents the distribution\n",
      "of one or more variables by counting the number of observations that fall within\n",
      "discrete bins.\n",
      "\n",
      "This function can normalize the statistic computed within each bin to estimate\n",
      "frequency, density or probability mass, and it can add a smooth curve obtained\n",
      "using a kernel density estimate, similar to :func:`kdeplot`.\n",
      "\n",
      "More information is provided in the :ref:`user guide <tutorial_hist>`.\n",
      "\n",
      "Parameters\n",
      "----------\n",
      "data : :class:`pandas.DataFrame`, :class:`numpy.ndarray`, mapping, or sequence\n",
      "    Input data structure. Either a long-form collection of vectors that can be\n",
      "    assigned to named variables or a wide-form dataset that will be internally\n",
      "    reshaped.\n",
      "x, y : vectors or keys in ``data``\n",
      "    Variables that specify positions on the x and y axes.\n",
      "hue : vector or key in ``data``\n",
      "    Semantic variable that is mapped to determine the color of plot elements.\n",
      "weights : vector or key in ``data``\n",
      "    If provided, weight the contribution of the corresponding data points\n",
      "    towards the count in each bin by these factors.\n",
      "stat : str\n",
      "    Aggregate statistic to compute in each bin.\n",
      "    \n",
      "    - `count`: show the number of observations in each bin\n",
      "    - `frequency`: show the number of observations divided by the bin width\n",
      "    - `probability` or `proportion`: normalize such that bar heights sum to 1\n",
      "    - `percent`: normalize such that bar heights sum to 100\n",
      "    - `density`: normalize such that the total area of the histogram equals 1\n",
      "bins : str, number, vector, or a pair of such values\n",
      "    Generic bin parameter that can be the name of a reference rule,\n",
      "    the number of bins, or the breaks of the bins.\n",
      "    Passed to :func:`numpy.histogram_bin_edges`.\n",
      "binwidth : number or pair of numbers\n",
      "    Width of each bin, overrides ``bins`` but can be used with\n",
      "    ``binrange``.\n",
      "binrange : pair of numbers or a pair of pairs\n",
      "    Lowest and highest value for bin edges; can be used either\n",
      "    with ``bins`` or ``binwidth``. Defaults to data extremes.\n",
      "discrete : bool\n",
      "    If True, default to ``binwidth=1`` and draw the bars so that they are\n",
      "    centered on their corresponding data points. This avoids \"gaps\" that may\n",
      "    otherwise appear when using discrete (integer) data.\n",
      "cumulative : bool\n",
      "    If True, plot the cumulative counts as bins increase.\n",
      "common_bins : bool\n",
      "    If True, use the same bins when semantic variables produce multiple\n",
      "    plots. If using a reference rule to determine the bins, it will be computed\n",
      "    with the full dataset.\n",
      "common_norm : bool\n",
      "    If True and using a normalized statistic, the normalization will apply over\n",
      "    the full dataset. Otherwise, normalize each histogram independently.\n",
      "multiple : {\"layer\", \"dodge\", \"stack\", \"fill\"}\n",
      "    Approach to resolving multiple elements when semantic mapping creates subsets.\n",
      "    Only relevant with univariate data.\n",
      "element : {\"bars\", \"step\", \"poly\"}\n",
      "    Visual representation of the histogram statistic.\n",
      "    Only relevant with univariate data.\n",
      "fill : bool\n",
      "    If True, fill in the space under the histogram.\n",
      "    Only relevant with univariate data.\n",
      "shrink : number\n",
      "    Scale the width of each bar relative to the binwidth by this factor.\n",
      "    Only relevant with univariate data.\n",
      "kde : bool\n",
      "    If True, compute a kernel density estimate to smooth the distribution\n",
      "    and show on the plot as (one or more) line(s).\n",
      "    Only relevant with univariate data.\n",
      "kde_kws : dict\n",
      "    Parameters that control the KDE computation, as in :func:`kdeplot`.\n",
      "line_kws : dict\n",
      "    Parameters that control the KDE visualization, passed to\n",
      "    :meth:`matplotlib.axes.Axes.plot`.\n",
      "thresh : number or None\n",
      "    Cells with a statistic less than or equal to this value will be transparent.\n",
      "    Only relevant with bivariate data.\n",
      "pthresh : number or None\n",
      "    Like ``thresh``, but a value in [0, 1] such that cells with aggregate counts\n",
      "    (or other statistics, when used) up to this proportion of the total will be\n",
      "    transparent.\n",
      "pmax : number or None\n",
      "    A value in [0, 1] that sets that saturation point for the colormap at a value\n",
      "    such that cells below constitute this proportion of the total count (or\n",
      "    other statistic, when used).\n",
      "cbar : bool\n",
      "    If True, add a colorbar to annotate the color mapping in a bivariate plot.\n",
      "    Note: Does not currently support plots with a ``hue`` variable well.\n",
      "cbar_ax : :class:`matplotlib.axes.Axes`\n",
      "    Pre-existing axes for the colorbar.\n",
      "cbar_kws : dict\n",
      "    Additional parameters passed to :meth:`matplotlib.figure.Figure.colorbar`.\n",
      "palette : string, list, dict, or :class:`matplotlib.colors.Colormap`\n",
      "    Method for choosing the colors to use when mapping the ``hue`` semantic.\n",
      "    String values are passed to :func:`color_palette`. List or dict values\n",
      "    imply categorical mapping, while a colormap object implies numeric mapping.\n",
      "hue_order : vector of strings\n",
      "    Specify the order of processing and plotting for categorical levels of the\n",
      "    ``hue`` semantic.\n",
      "hue_norm : tuple or :class:`matplotlib.colors.Normalize`\n",
      "    Either a pair of values that set the normalization range in data units\n",
      "    or an object that will map from data units into a [0, 1] interval. Usage\n",
      "    implies numeric mapping.\n",
      "color : :mod:`matplotlib color <matplotlib.colors>`\n",
      "    Single color specification for when hue mapping is not used. Otherwise, the\n",
      "    plot will try to hook into the matplotlib property cycle.\n",
      "log_scale : bool or number, or pair of bools or numbers\n",
      "    Set axis scale(s) to log. A single value sets the data axis for any numeric\n",
      "    axes in the plot. A pair of values sets each axis independently.\n",
      "    Numeric values are interpreted as the desired base (default 10).\n",
      "    When `None` or `False`, seaborn defers to the existing Axes scale.\n",
      "legend : bool\n",
      "    If False, suppress the legend for semantic variables.\n",
      "ax : :class:`matplotlib.axes.Axes`\n",
      "    Pre-existing axes for the plot. Otherwise, call :func:`matplotlib.pyplot.gca`\n",
      "    internally.\n",
      "kwargs\n",
      "    Other keyword arguments are passed to one of the following matplotlib\n",
      "    functions:\n",
      "\n",
      "    - :meth:`matplotlib.axes.Axes.bar` (univariate, element=\"bars\")\n",
      "    - :meth:`matplotlib.axes.Axes.fill_between` (univariate, other element, fill=True)\n",
      "    - :meth:`matplotlib.axes.Axes.plot` (univariate, other element, fill=False)\n",
      "    - :meth:`matplotlib.axes.Axes.pcolormesh` (bivariate)\n",
      "\n",
      "Returns\n",
      "-------\n",
      ":class:`matplotlib.axes.Axes`\n",
      "    The matplotlib axes containing the plot.\n",
      "\n",
      "See Also\n",
      "--------\n",
      "displot : Figure-level interface to distribution plot functions.\n",
      "kdeplot : Plot univariate or bivariate distributions using kernel density estimation.\n",
      "rugplot : Plot a tick at each observation value along the x and/or y axes.\n",
      "ecdfplot : Plot empirical cumulative distribution functions.\n",
      "jointplot : Draw a bivariate plot with univariate marginal distributions.\n",
      "\n",
      "Notes\n",
      "-----\n",
      "\n",
      "The choice of bins for computing and plotting a histogram can exert\n",
      "substantial influence on the insights that one is able to draw from the\n",
      "visualization. If the bins are too large, they may erase important features.\n",
      "On the other hand, bins that are too small may be dominated by random\n",
      "variability, obscuring the shape of the true underlying distribution. The\n",
      "default bin size is determined using a reference rule that depends on the\n",
      "sample size and variance. This works well in many cases, (i.e., with\n",
      "\"well-behaved\" data) but it fails in others. It is always a good to try\n",
      "different bin sizes to be sure that you are not missing something important.\n",
      "This function allows you to specify bins in several different ways, such as\n",
      "by setting the total number of bins to use, the width of each bin, or the\n",
      "specific locations where the bins should break.\n",
      "\n",
      "Examples\n",
      "--------\n",
      "\n",
      ".. include:: ../docstrings/histplot.rst\n",
      "\u001b[0;31mFile:\u001b[0m      ~/source/Thesis/PhysioNetChallenge2020/.venv/lib/python3.10/site-packages/seaborn/distributions.py\n",
      "\u001b[0;31mType:\u001b[0m      function"
     ]
    }
   ],
   "source": [
    "sns.histplot?"
   ]
  }
 ],
 "metadata": {
  "kernelspec": {
   "display_name": ".venv",
   "language": "python",
   "name": "python3"
  },
  "language_info": {
   "codemirror_mode": {
    "name": "ipython",
    "version": 3
   },
   "file_extension": ".py",
   "mimetype": "text/x-python",
   "name": "python",
   "nbconvert_exporter": "python",
   "pygments_lexer": "ipython3",
   "version": "3.10.16"
  }
 },
 "nbformat": 4,
 "nbformat_minor": 2
}
