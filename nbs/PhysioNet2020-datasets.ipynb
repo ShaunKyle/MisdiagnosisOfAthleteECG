{
 "cells": [
  {
   "cell_type": "markdown",
   "metadata": {},
   "source": [
    "# Typical training data for ECG classifiers"
   ]
  },
  {
   "cell_type": "markdown",
   "metadata": {},
   "source": [
    "## Notebook setup"
   ]
  },
  {
   "cell_type": "code",
   "execution_count": null,
   "metadata": {},
   "outputs": [],
   "source": [
    "import os\n",
    "import configparser\n",
    "from pathlib import Path\n",
    "from typing import List\n",
    "\n",
    "import wfdb\n",
    "import numpy as np\n",
    "import pandas as pd"
   ]
  },
  {
   "cell_type": "code",
   "execution_count": null,
   "metadata": {},
   "outputs": [],
   "source": [
    "#|include: false\n",
    "# If the current working directory is the nbs/ folder, change to the project \n",
    "# root directory instead.\n",
    "\n",
    "if Path.cwd().stem == \"nbs\":\n",
    "    os.chdir(Path.cwd().parent)\n",
    "print(f\"The current working directory is {Path.cwd()}\")"
   ]
  },
  {
   "cell_type": "code",
   "execution_count": null,
   "metadata": {},
   "outputs": [],
   "source": [
    "#|include: false\n",
    "# Import configuration settings, like location of data directory.\n",
    "config = configparser.ConfigParser()\n",
    "if not Path(\"config.ini\").exists():\n",
    "    print(\"WARNING: Please generate a config.ini file by running scripts/get_datasets.py\")\n",
    "else:\n",
    "    config.read(\"config.ini\")\n",
    "    data_dir = Path((config[\"datasets\"][\"path\"])).expanduser()\n",
    "    print(f\"Datasets are located at {data_dir.resolve()}\")"
   ]
  },
  {
   "cell_type": "markdown",
   "metadata": {},
   "source": [
    "## Dataset quickstart"
   ]
  },
  {
   "cell_type": "markdown",
   "metadata": {},
   "source": [
    "***Table: Characteristics of 12-lead ECG recordings used for PhysioNet Challenge 2020***\n",
    "\n",
    "| Dataset | Sampling frequency \\[Hz\\] | Recording length \\[s\\] | Notes |\n",
    "|-|-|-|-|\n",
    "| `cpsc`/`cpsc_extra` | 500 | 6 to 60 | Per HIPAA guidelines ages over 89 are removed |\n",
    "| `incart` | 257 | 1800 | Holter recordings, annotations included |\n",
    "| `ptb` | 1000 | ? |  |\n",
    "| `ptbxl` | 500 | 10 |  |\n",
    "| `georgia` | 500 | 10 | Southeastern US patient demographic |\n",
    "\n",
    "Probably just use `ptbxl` and `georgia` for this project.\n"
   ]
  },
  {
   "cell_type": "code",
   "execution_count": null,
   "metadata": {},
   "outputs": [],
   "source": [
    "# Path to each training dataset\n",
    "\n",
    "training_dir = data_dir / \"challenge-2020\" / \"1.0.2\" / \"training\"\n",
    "\n",
    "georgia_dir = training_dir / \"georgia\"\n",
    "cpsc_dir = training_dir / \"cpsc_2018\"\n",
    "cpscextra_dir = training_dir / \"cpsc_2018_extra\"\n",
    "ptb_dir = training_dir / \"ptb\"\n",
    "ptbxl_dir = training_dir / \"ptb-xl\"\n",
    "incart_dir = training_dir / \"st_petersburg_incart\""
   ]
  },
  {
   "cell_type": "markdown",
   "metadata": {},
   "source": [
    "`wfdb.rdheader` to read metadata about record.\n",
    "\n",
    "`wfdb.rdrecord` to read signal data."
   ]
  },
  {
   "cell_type": "code",
   "execution_count": null,
   "metadata": {},
   "outputs": [],
   "source": [
    "# record = wfdb.rdheader(georgia_dir / \"g1\" / \"E00001\")\n",
    "# record = wfdb.rdheader(ptbxl_dir / \"g1\" / \"HR00001\")\n",
    "\n",
    "record = wfdb.rdrecord(ptbxl_dir / \"g1\" / \"HR00001\")"
   ]
  },
  {
   "cell_type": "code",
   "execution_count": null,
   "metadata": {},
   "outputs": [],
   "source": [
    "# Signal data as pandas dataframe\n",
    "signals = record.to_dataframe()\n",
    "signals.head()"
   ]
  },
  {
   "cell_type": "code",
   "execution_count": null,
   "metadata": {},
   "outputs": [],
   "source": [
    "# Each individual signal is a `Series` object\n",
    "signals.I.head()"
   ]
  },
  {
   "cell_type": "code",
   "execution_count": null,
   "metadata": {},
   "outputs": [],
   "source": [
    "# Units for each channel (should all be in mV)\n",
    "record.units"
   ]
  },
  {
   "cell_type": "code",
   "execution_count": null,
   "metadata": {},
   "outputs": [],
   "source": [
    "# Sampling frequency (Hz)\n",
    "record.fs\n",
    "\n",
    "# If not 500 Hz, resample.\n",
    "# https://pandas.pydata.org/docs/getting_started/intro_tutorials/09_timeseries.html#resample-a-time-series-to-another-frequency"
   ]
  },
  {
   "cell_type": "code",
   "execution_count": null,
   "metadata": {},
   "outputs": [],
   "source": [
    "# Length of recording (should always be 10 s)\n",
    "print(f\"Length (s): {len(record.to_dataframe()) * (1/record.fs)}\")"
   ]
  },
  {
   "cell_type": "markdown",
   "metadata": {},
   "source": [
    "## Medical terminologies and codes"
   ]
  },
  {
   "cell_type": "markdown",
   "metadata": {},
   "source": [
    "SNOMED-CT codes are provided as labels for each training dataset.\n",
    "\n",
    "Dx stands for diagnosis?"
   ]
  },
  {
   "cell_type": "code",
   "execution_count": null,
   "metadata": {},
   "outputs": [],
   "source": [
    "record = wfdb.rdheader(ptbxl_dir / \"g1\" / \"HR00001\")\n",
    "record.comments # [2] is the diagnosis comment"
   ]
  },
  {
   "cell_type": "markdown",
   "metadata": {},
   "source": [
    "We could use a package such as [PyMedTermino2](https://owlready2.readthedocs.io/en/latest/pymedtermino2.html) to access medical terminologies from a UMLS database. \n",
    "However, we only need a very small subset of diagnosis codes. We'll just keep a \n",
    "Python dictionary of ~10 codes."
   ]
  },
  {
   "cell_type": "code",
   "execution_count": null,
   "metadata": {},
   "outputs": [],
   "source": [
    "diagnosis_codes = {\n",
    "    426783006:  \"Normal Sinus Rhythm\",\n",
    "}"
   ]
  },
  {
   "cell_type": "code",
   "execution_count": null,
   "metadata": {},
   "outputs": [],
   "source": [
    "def extract_snomed_ct_codes_from_comment(dx_comment: str) -> List[int]:\n",
    "    \"\"\"Returns a list of SNOMED-CT codes related to ECG diagnoses.\n",
    "\n",
    "    Assumes that `dx_comment` is in the form \"Dx: code1,code2,etc.\"\n",
    "\n",
    "    Example usage:\n",
    "    ```\n",
    "    record = wfdb.rdheader(ptbxl_dir / \"g1\" / \"HR00001\")\n",
    "    dx_comment = record.comments[2]\n",
    "    dx_comment\n",
    "    > 'Dx: 251146004,426783006'\n",
    "\n",
    "    extract_snomed_ct_codes_from_comment(dx_comment)\n",
    "    > [251146004, 426783006]\n",
    "    ```\n",
    "    \"\"\"\n",
    "    # Just the diagnosis codes (ignore the \"Dx: \" prefix)\n",
    "    comment = dx_comment.split(': ')[1]\n",
    "\n",
    "    # Split codes into list, convert to integers\n",
    "    code_text = comment.split(',')\n",
    "    return list(map(int, code_text))\n"
   ]
  },
  {
   "cell_type": "code",
   "execution_count": null,
   "metadata": {},
   "outputs": [],
   "source": [
    "# Example usage\n",
    "extract_snomed_ct_codes_from_comment(record.comments[2])"
   ]
  },
  {
   "cell_type": "markdown",
   "metadata": {},
   "source": [
    "## Extract demographics and labels for population analysis"
   ]
  },
  {
   "cell_type": "markdown",
   "metadata": {},
   "source": [
    "TODO.\n",
    "\n",
    "Demographics: age, sex\n",
    "\n",
    "Labels: subset of SNOMED-CT codes"
   ]
  },
  {
   "cell_type": "code",
   "execution_count": null,
   "metadata": {},
   "outputs": [],
   "source": [
    "def get_all_records(dataset_dir: Path) -> List[Path]:\n",
    "    \"\"\"Returns a list of every record in a PhysioNet Challenge 2020 dataset\n",
    "    \"\"\"\n",
    "    records = []\n",
    "    # For every folder (e.g. g1/, g2/, etc.)\n",
    "    for folder in dataset_dir.iterdir():\n",
    "        if folder.is_dir():\n",
    "            # print(f\"Searching folder: {folder}\")\n",
    "            # For every record (each record has a `.hea` header file)\n",
    "            for file in folder.iterdir():\n",
    "                if file.suffix == '.hea':\n",
    "                    records.append( folder / file.stem )\n",
    "    # print(f\"Found {len(records)} records\")\n",
    "    return records"
   ]
  },
  {
   "cell_type": "code",
   "execution_count": null,
   "metadata": {},
   "outputs": [],
   "source": [
    "ptbxl_records = get_all_records(ptbxl_dir)"
   ]
  },
  {
   "cell_type": "code",
   "execution_count": null,
   "metadata": {},
   "outputs": [],
   "source": [
    "class DemographicInfo(TypedDict):\n",
    "    age: int\n",
    "    sex: str\n",
    "\n",
    "def records_to_demographics_table(records: List[Path]) -> pd.DataFrame:\n",
    "    data = []\n",
    "    for record in records:\n",
    "        header = wfdb.rdheader(record)\n",
    "\n",
    "        # Extract demographic info\n",
    "        age_str = header.comments[0].split(': ')[1]\n",
    "        age = int( age_str ) if age_str.isnumeric() else None\n",
    "        sex = header.comments[1].split(': ')[1]\n",
    "        demographics: DemographicInfo = {\n",
    "            'age': age,\n",
    "            'sex': sex,\n",
    "        }\n",
    "        data.append(demographics)\n",
    "\n",
    "        # # Extract diagnostic info\n",
    "        # diagnoses = extract_snomed_ct_codes_from_comment( header.comments[2] )\n",
    "        # # TODO: save relevant ecg results as flags\n",
    "    return pd.DataFrame(data)"
   ]
  },
  {
   "cell_type": "code",
   "execution_count": null,
   "metadata": {},
   "outputs": [],
   "source": [
    "ptbxl_df = records_to_demographics_table(ptbxl_records)"
   ]
  },
  {
   "cell_type": "markdown",
   "metadata": {},
   "source": [
    "### Data integrity issues"
   ]
  },
  {
   "cell_type": "code",
   "execution_count": null,
   "metadata": {},
   "outputs": [],
   "source": [
    "# Note: There seem to be errors in some of the comments. \n",
    "# Like this 300 year old lady.\n",
    "header = wfdb.rdheader(ptbxl_records[248])\n",
    "header.comments"
   ]
  },
  {
   "cell_type": "code",
   "execution_count": null,
   "metadata": {},
   "outputs": [],
   "source": [
    "# Some records don't have an age recorded. Represented with \"NaN\".\n",
    "header = wfdb.rdheader(\"data/challenge-2020/1.0.2/training/ptb-xl/g6/HR05040\")\n",
    "header.comments"
   ]
  },
  {
   "cell_type": "code",
   "execution_count": null,
   "metadata": {},
   "outputs": [],
   "source": [
    "# Some examples of NaN ages\n",
    "ptbxl_df[ptbxl_df.age.isna()].head()"
   ]
  }
 ],
 "metadata": {
  "kernelspec": {
   "display_name": ".venv",
   "language": "python",
   "name": "python3"
  },
  "language_info": {
   "codemirror_mode": {
    "name": "ipython",
    "version": 3
   },
   "file_extension": ".py",
   "mimetype": "text/x-python",
   "name": "python",
   "nbconvert_exporter": "python",
   "pygments_lexer": "ipython3",
   "version": "3.10.16"
  }
 },
 "nbformat": 4,
 "nbformat_minor": 2
}
